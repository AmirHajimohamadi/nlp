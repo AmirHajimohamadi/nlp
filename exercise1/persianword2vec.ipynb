{
  "cells": [
    {
      "cell_type": "markdown",
      "source": [
        "[![Open In Colab](https://colab.research.google.com/assets/colab-badge.svg)](https://colab.research.google.com/drive/110XwsAvyjjGKVjsenR98r4AoFohbFSZH)\n"
      ],
      "metadata": {
        "id": "slcYkafOqdCW"
      }
    },
    {
      "cell_type": "markdown",
      "source": [
        "## Preparing Dataset"
      ],
      "metadata": {
        "id": "lk3PJAHj2dpF"
      }
    },
    {
      "cell_type": "markdown",
      "source": [
        "*NOTICE: fetching Dataset is not working colab (due to sanctions or what) so I provided the corpus alongside the notebook. You can either fetch dataset using colab via connecting it to a local machine or simply use the corpus.txt .*"
      ],
      "metadata": {
        "id": "i0hG-C1Jwi3B"
      }
    },
    {
      "cell_type": "markdown",
      "metadata": {
        "tags": [],
        "id": "nB3xn73zwaGT"
      },
      "source": [
        "### Method 1: Fetching Dataset"
      ]
    },
    {
      "cell_type": "markdown",
      "metadata": {
        "tags": [],
        "id": "oYY5yVKNwaGV"
      },
      "source": [
        "#### Importing Libraries"
      ]
    },
    {
      "cell_type": "code",
      "execution_count": null,
      "metadata": {
        "tags": [],
        "id": "lwwg2TB0waGV"
      },
      "outputs": [],
      "source": [
        "import requests\n",
        "from bs4 import BeautifulSoup"
      ]
    },
    {
      "cell_type": "markdown",
      "metadata": {
        "id": "9m3yiakxwaGW"
      },
      "source": [
        "#### Setting URL"
      ]
    },
    {
      "cell_type": "code",
      "execution_count": null,
      "metadata": {
        "jupyter": {
          "outputs_hidden": false
        },
        "pycharm": {
          "name": "#%%\n"
        },
        "id": "byClvxOkwaGW"
      },
      "outputs": [],
      "source": [
        "URL = \"https://ganjoor.net/moulavi/shams/ghazalsh/sh\"\n",
        "ghazalha = range(1501, 2001)\n",
        "corpus = \"\""
      ]
    },
    {
      "cell_type": "markdown",
      "metadata": {
        "tags": [],
        "id": "71r2al-2waGZ"
      },
      "source": [
        "##### Webscraping Data From Ganjoor"
      ]
    },
    {
      "cell_type": "code",
      "execution_count": null,
      "metadata": {
        "jupyter": {
          "outputs_hidden": false
        },
        "pycharm": {
          "name": "#%%\n"
        },
        "id": "YenvA66gwaGZ"
      },
      "outputs": [],
      "source": [
        "for ghazal in ghazalha:\n",
        "    page = requests.get(URL+str(ghazal))\n",
        "\n",
        "    soup = BeautifulSoup(page.content, \"html.parser\")\n",
        "\n",
        "    results = soup.find(id=\"garticle\")\n",
        "\n",
        "    beitha = results.find_all(\"div\", class_=\"b\")\n",
        "\n",
        "    print(\"غزل شماره \" + str(ghazal))\n",
        "    for beit in beitha:\n",
        "        mesra1 = beit.find(\"div\", class_=\"m1\")\n",
        "        mesra2 = beit.find(\"div\", class_=\"m2\")\n",
        "        print(mesra1.text)\n",
        "        corpus += mesra1.text + \" \"\n",
        "        print(mesra2.text)\n",
        "        corpus += mesra2.text + \" \"\n",
        "        print()\n",
        "    print()"
      ]
    },
    {
      "cell_type": "markdown",
      "metadata": {
        "tags": [],
        "id": "naH_aHKMwaGg"
      },
      "source": [
        "#### Saving Data in a Text File (optional)"
      ]
    },
    {
      "cell_type": "code",
      "execution_count": null,
      "metadata": {
        "jupyter": {
          "outputs_hidden": false
        },
        "pycharm": {
          "name": "#%%\n"
        },
        "id": "VSyQVCe-waGg"
      },
      "outputs": [],
      "source": [
        "text_file = open(\"corpus.txt\", \"w\", encoding=\"utf-8\")\n",
        "text_file.write(corpus)\n",
        "text_file.close()"
      ]
    },
    {
      "cell_type": "code",
      "source": [
        "corpus"
      ],
      "metadata": {
        "id": "vz7pwjiNznI3"
      },
      "execution_count": null,
      "outputs": []
    },
    {
      "cell_type": "markdown",
      "source": [
        "### Method 2: Use pre-made dataset"
      ],
      "metadata": {
        "id": "OeREva0sxd-m"
      }
    },
    {
      "cell_type": "markdown",
      "source": [
        "Downloading corpus and stopwords from github"
      ],
      "metadata": {
        "id": "2xoxI2smAa1D"
      }
    },
    {
      "cell_type": "code",
      "source": [
        "!curl -o corpus.txt https://raw.githubusercontent.com/AmirHajimohamadi/nlp/master/corpus.txt\n",
        "\n",
        "with open('corpus.txt', 'r') as file:\n",
        "    corpus = file.read().rstrip()\n",
        "file.close()\n",
        "\n",
        "\n",
        "!curl -o stopwords.txt https://raw.githubusercontent.com/AmirHajimohamadi/nlp/master/stopwords.txt\n",
        "\n",
        "with open('stopwords.txt', 'r') as file:\n",
        "    stopwords = file.read().rstrip()\n",
        "file.close()\n"
      ],
      "metadata": {
        "id": "Rx0XkUzRxoO-",
        "colab": {
          "base_uri": "https://localhost:8080/"
        },
        "outputId": "90b35b4b-810e-49f7-f3c4-0c0e446c1e4e"
      },
      "execution_count": null,
      "outputs": [
        {
          "output_type": "stream",
          "name": "stdout",
          "text": [
            "  % Total    % Received % Xferd  Average Speed   Time    Time     Time  Current\n",
            "                                 Dload  Upload   Total   Spent    Left  Speed\n",
            "100  585k  100  585k    0     0  1170k      0 --:--:-- --:--:-- --:--:-- 1170k\n",
            "  % Total    % Received % Xferd  Average Speed   Time    Time     Time  Current\n",
            "                                 Dload  Upload   Total   Spent    Left  Speed\n",
            "100  6321  100  6321    0     0  40780      0 --:--:-- --:--:-- --:--:-- 40780\n"
          ]
        }
      ]
    },
    {
      "cell_type": "markdown",
      "source": [
        "### Preprocessing the corpus"
      ],
      "metadata": {
        "id": "DFhurPE6SUMG"
      }
    },
    {
      "cell_type": "code",
      "source": [
        "import numpy as np\n",
        "from tqdm import tqdm"
      ],
      "metadata": {
        "id": "YFIC9x5UUH2u"
      },
      "execution_count": null,
      "outputs": []
    },
    {
      "cell_type": "code",
      "source": [
        "stopwords = stopwords.replace(\"\\n\", \" \")\n",
        "stopwords = stopwords.split()"
      ],
      "metadata": {
        "id": "Z7-tMuuB6Lo_"
      },
      "execution_count": null,
      "outputs": []
    },
    {
      "cell_type": "code",
      "source": [
        "text = corpus.split()\n",
        "text = [w.replace('\\u200c', '') for w in text]"
      ],
      "metadata": {
        "id": "WRVOJnRDU4lx"
      },
      "execution_count": null,
      "outputs": []
    },
    {
      "cell_type": "markdown",
      "source": [
        "Removing stopwords from the text"
      ],
      "metadata": {
        "id": "ZKdHo73m_RlL"
      }
    },
    {
      "cell_type": "markdown",
      "source": [
        "### Creating Word Cloud"
      ],
      "metadata": {
        "id": "fIc3MZFD50Fv"
      }
    },
    {
      "cell_type": "code",
      "source": [
        "text = [w for w in text if not w in stopwords]"
      ],
      "metadata": {
        "id": "gELwi0gg8rNb"
      },
      "execution_count": null,
      "outputs": []
    },
    {
      "cell_type": "code",
      "source": [
        "!pip install wordcloud-fa\n",
        "!curl -o mask.png https://raw.githubusercontent.com/AmirHajimohamadi/nlp/master/iran_mask.png\n",
        "\n",
        "from wordcloud_fa import WordCloudFa\n",
        "import numpy as np\n",
        "from PIL import Image"
      ],
      "metadata": {
        "colab": {
          "base_uri": "https://localhost:8080/"
        },
        "id": "pHOaJeRPysA7",
        "outputId": "0ba3bdf3-2436-4e3b-acac-65ed079aebb2"
      },
      "execution_count": null,
      "outputs": [
        {
          "output_type": "stream",
          "name": "stdout",
          "text": [
            "Collecting wordcloud-fa\n",
            "  Downloading wordcloud_fa-0.1.9-py2.py3-none-any.whl (71 kB)\n",
            "\u001b[?25l\r\u001b[K     |████▋                           | 10 kB 19.9 MB/s eta 0:00:01\r\u001b[K     |█████████▏                      | 20 kB 26.2 MB/s eta 0:00:01\r\u001b[K     |█████████████▊                  | 30 kB 15.9 MB/s eta 0:00:01\r\u001b[K     |██████████████████▍             | 40 kB 7.7 MB/s eta 0:00:01\r\u001b[K     |███████████████████████         | 51 kB 6.0 MB/s eta 0:00:01\r\u001b[K     |███████████████████████████▌    | 61 kB 7.1 MB/s eta 0:00:01\r\u001b[K     |████████████████████████████████| 71 kB 4.9 MB/s \n",
            "\u001b[?25hRequirement already satisfied: numpy>=1.18.1 in /usr/local/lib/python3.7/dist-packages (from wordcloud-fa) (1.21.6)\n",
            "Collecting arabic-reshaper>=2.1.3\n",
            "  Downloading arabic_reshaper-2.1.3-py3-none-any.whl (20 kB)\n",
            "Requirement already satisfied: pillow>=7.0.0 in /usr/local/lib/python3.7/dist-packages (from wordcloud-fa) (7.1.2)\n",
            "Collecting wordcloud==1.8.1\n",
            "  Downloading wordcloud-1.8.1-cp37-cp37m-manylinux1_x86_64.whl (366 kB)\n",
            "\u001b[K     |████████████████████████████████| 366 kB 18.6 MB/s \n",
            "\u001b[?25hCollecting hazm==0.7.0\n",
            "  Downloading hazm-0.7.0-py3-none-any.whl (316 kB)\n",
            "\u001b[K     |████████████████████████████████| 316 kB 45.1 MB/s \n",
            "\u001b[?25hCollecting python-bidi==0.4.2\n",
            "  Downloading python_bidi-0.4.2-py2.py3-none-any.whl (30 kB)\n",
            "Requirement already satisfied: matplotlib>=3.1.2 in /usr/local/lib/python3.7/dist-packages (from wordcloud-fa) (3.2.2)\n",
            "Collecting nltk==3.3\n",
            "  Downloading nltk-3.3.0.zip (1.4 MB)\n",
            "\u001b[K     |████████████████████████████████| 1.4 MB 43.5 MB/s \n",
            "\u001b[?25hCollecting libwapiti>=0.2.1\n",
            "  Downloading libwapiti-0.2.1.tar.gz (233 kB)\n",
            "\u001b[K     |████████████████████████████████| 233 kB 40.1 MB/s \n",
            "\u001b[?25hRequirement already satisfied: six in /usr/local/lib/python3.7/dist-packages (from nltk==3.3->hazm==0.7.0->wordcloud-fa) (1.15.0)\n",
            "Requirement already satisfied: future in /usr/local/lib/python3.7/dist-packages (from arabic-reshaper>=2.1.3->wordcloud-fa) (0.16.0)\n",
            "Requirement already satisfied: setuptools in /usr/local/lib/python3.7/dist-packages (from arabic-reshaper>=2.1.3->wordcloud-fa) (57.4.0)\n",
            "Requirement already satisfied: cycler>=0.10 in /usr/local/lib/python3.7/dist-packages (from matplotlib>=3.1.2->wordcloud-fa) (0.11.0)\n",
            "Requirement already satisfied: python-dateutil>=2.1 in /usr/local/lib/python3.7/dist-packages (from matplotlib>=3.1.2->wordcloud-fa) (2.8.2)\n",
            "Requirement already satisfied: pyparsing!=2.0.4,!=2.1.2,!=2.1.6,>=2.0.1 in /usr/local/lib/python3.7/dist-packages (from matplotlib>=3.1.2->wordcloud-fa) (3.0.9)\n",
            "Requirement already satisfied: kiwisolver>=1.0.1 in /usr/local/lib/python3.7/dist-packages (from matplotlib>=3.1.2->wordcloud-fa) (1.4.2)\n",
            "Requirement already satisfied: typing-extensions in /usr/local/lib/python3.7/dist-packages (from kiwisolver>=1.0.1->matplotlib>=3.1.2->wordcloud-fa) (4.2.0)\n",
            "Building wheels for collected packages: nltk, libwapiti\n",
            "  Building wheel for nltk (setup.py) ... \u001b[?25l\u001b[?25hdone\n",
            "  Created wheel for nltk: filename=nltk-3.3-py3-none-any.whl size=1394485 sha256=28cea7c66bff8b77cafc05e8a8dc1e29c471b7f6db76e5d077199749c0198501\n",
            "  Stored in directory: /root/.cache/pip/wheels/9b/fd/0c/d92302c876e5de87ebd7fc0979d82edb93e2d8d768bf71fac4\n",
            "  Building wheel for libwapiti (setup.py) ... \u001b[?25l\u001b[?25hdone\n",
            "  Created wheel for libwapiti: filename=libwapiti-0.2.1-cp37-cp37m-linux_x86_64.whl size=154297 sha256=49fc06c30a6110bba79b2b58d7068c951d093ef9f103c6562297a53944cc3b5c\n",
            "  Stored in directory: /root/.cache/pip/wheels/ab/b2/5b/0fe4b8f5c0e65341e8ea7bb3f4a6ebabfe8b1ac31322392dbf\n",
            "Successfully built nltk libwapiti\n",
            "Installing collected packages: nltk, libwapiti, wordcloud, python-bidi, hazm, arabic-reshaper, wordcloud-fa\n",
            "  Attempting uninstall: nltk\n",
            "    Found existing installation: nltk 3.2.5\n",
            "    Uninstalling nltk-3.2.5:\n",
            "      Successfully uninstalled nltk-3.2.5\n",
            "  Attempting uninstall: wordcloud\n",
            "    Found existing installation: wordcloud 1.5.0\n",
            "    Uninstalling wordcloud-1.5.0:\n",
            "      Successfully uninstalled wordcloud-1.5.0\n",
            "Successfully installed arabic-reshaper-2.1.3 hazm-0.7.0 libwapiti-0.2.1 nltk-3.3 python-bidi-0.4.2 wordcloud-1.8.1 wordcloud-fa-0.1.9\n",
            "  % Total    % Received % Xferd  Average Speed   Time    Time     Time  Current\n",
            "                                 Dload  Upload   Total   Spent    Left  Speed\n",
            "100 58885  100 58885    0     0   332k      0 --:--:-- --:--:-- --:--:--  332k\n"
          ]
        }
      ]
    },
    {
      "cell_type": "code",
      "source": [
        "mask_array = np.array(Image.open(\"mask.png\"))\n",
        "wordcloud = WordCloudFa(persian_normalize=True, mask=mask_array, scale=0.8)\n",
        "wc = wordcloud.generate(' '.join([str(elem) for elem in text]))\n",
        "image = wc.to_image()"
      ],
      "metadata": {
        "id": "KnzyPy_Qz0FY"
      },
      "execution_count": null,
      "outputs": []
    },
    {
      "cell_type": "code",
      "source": [
        "image"
      ],
      "metadata": {
        "colab": {
          "base_uri": "https://localhost:8080/",
          "height": 609
        },
        "id": "IkwTun5cz4gW",
        "outputId": "b8e45678-0351-42a1-e01c-0135293e12ef"
      },
      "execution_count": null,
      "outputs": [
        {
          "output_type": "execute_result",
          "data": {
            "text/plain": [
              "<PIL.Image.Image image mode=RGB size=656x592 at 0x7FCBD2209FD0>"
            ],
            "image/png": "[encoded data removed]"
          },
          "metadata": {},
          "execution_count": 8
        }
      ]
    },
    {
      "cell_type": "markdown",
      "source": [
        "### Declare some variables"
      ],
      "metadata": {
        "id": "QABMFUhIRRyS"
      }
    },
    {
      "cell_type": "code",
      "source": [
        "# Defining the window for context\n",
        "window = 2\n",
        "# Creating a placeholder for the scanning of the word list\n",
        "word_lists = []"
      ],
      "metadata": {
        "id": "YPMb3tyIRYQO"
      },
      "execution_count": null,
      "outputs": []
    },
    {
      "cell_type": "markdown",
      "source": [
        "getting context words and main words:"
      ],
      "metadata": {
        "id": "ud6XFG0TCXB9"
      }
    },
    {
      "cell_type": "code",
      "source": [
        "for i, word in enumerate(text):\n",
        "  for w in range(window):\n",
        "    # Getting the context that is ahead by *window* words\n",
        "    if i + 1 + w < len(text): \n",
        "      word_lists.append([word] + [text[(i + 1 + w)]])\n",
        "    # Getting the context that is behind by *window* words\n",
        "    if i - w - 1 >= 0:\n",
        "      word_lists.append([word] + [text[(i - w - 1)]])"
      ],
      "metadata": {
        "id": "CDvpLt-ER9QJ"
      },
      "execution_count": null,
      "outputs": []
    },
    {
      "cell_type": "markdown",
      "source": [
        "A dictionary of unique words in corpus:"
      ],
      "metadata": {
        "id": "utiCwSNHCi81"
      }
    },
    {
      "cell_type": "code",
      "source": [
        "def create_unique_word_dict(text:list) -> dict:\n",
        "    \"\"\"\n",
        "    A method that creates a dictionary where the keys are unique words\n",
        "    and key values are indices\n",
        "    \"\"\"\n",
        "    # Getting all the unique words from our text and sorting them alphabetically\n",
        "    words = list(set(text))\n",
        "    words.sort()\n",
        "\n",
        "    # Creating the dictionary for the unique words\n",
        "    unique_word_dict = {}\n",
        "    for i, word in enumerate(words):\n",
        "        unique_word_dict.update({\n",
        "            word: i\n",
        "        })\n",
        "\n",
        "    return unique_word_dict    "
      ],
      "metadata": {
        "id": "MFmvSeq4d88k"
      },
      "execution_count": null,
      "outputs": []
    },
    {
      "cell_type": "markdown",
      "source": [
        "### Cooking the model food"
      ],
      "metadata": {
        "id": "UpFPnQ1_CvtW"
      }
    },
    {
      "cell_type": "code",
      "source": [
        "unique_word_dict = create_unique_word_dict(text)\n",
        "\n",
        "# Defining the number of features (unique words)\n",
        "n_words = len(unique_word_dict)\n",
        "\n",
        "# Getting all the unique words \n",
        "words = list(unique_word_dict.keys())\n",
        "\n",
        "# Creating the X and Y matrices using one hot encoding\n",
        "X = []\n",
        "Y = []"
      ],
      "metadata": {
        "id": "5MZ4XM3ieEgL"
      },
      "execution_count": null,
      "outputs": []
    },
    {
      "cell_type": "markdown",
      "source": [
        "Making X and Y matrices"
      ],
      "metadata": {
        "id": "58d_Ug9CVQqa"
      }
    },
    {
      "cell_type": "code",
      "source": [
        "for i, word_list in tqdm(enumerate(word_lists)):\n",
        "    # Getting the indices\n",
        "    main_word_index = unique_word_dict.get(word_list[0])\n",
        "    context_word_index = unique_word_dict.get(word_list[1])\n",
        "\n",
        "    # Creating the placeholders   \n",
        "    X_row = np.zeros(n_words, dtype=np.int8)\n",
        "    Y_row = np.zeros(n_words, dtype=np.int8)\n",
        "\n",
        "    # One hot encoding the main word\n",
        "    X_row[main_word_index] = 1\n",
        "\n",
        "    # One hot encoding the Y matrix words \n",
        "    Y_row[context_word_index] = 1\n",
        "\n",
        "    # Appending to the main matrices\n",
        "    X.append(X_row)\n",
        "    Y.append(Y_row)\n"
      ],
      "metadata": {
        "colab": {
          "base_uri": "https://localhost:8080/"
        },
        "id": "a5Muwq_Ce7xH",
        "outputId": "d8c12a0d-98ed-45eb-9f90-bcd123635693"
      },
      "execution_count": null,
      "outputs": [
        {
          "output_type": "stream",
          "name": "stderr",
          "text": [
            "208770it [00:04, 46326.47it/s]\n"
          ]
        }
      ]
    },
    {
      "cell_type": "code",
      "source": [
        "X = np.array(X, dtype=np.int8)\n",
        "Y = np.array(Y, dtype=np.int8)"
      ],
      "metadata": {
        "id": "Rn60t9Tn1igD"
      },
      "execution_count": null,
      "outputs": []
    },
    {
      "cell_type": "markdown",
      "source": [
        "## Training the Model"
      ],
      "metadata": {
        "id": "AfzzWxgM_3eu"
      }
    },
    {
      "cell_type": "code",
      "source": [
        "from keras.models import Input, Model\n",
        "from keras.layers import Dense\n",
        "\n",
        "# Defining the size of the embedding (dimensions)\n",
        "embed_size = 100\n",
        "\n",
        "# Defining the neural network\n",
        "inp = Input(shape=(X.shape[1],))\n",
        "x = Dense(units=embed_size, activation='linear')(inp)\n",
        "x = Dense(units=Y.shape[1], activation='softmax')(x)\n",
        "model = Model(inputs=inp, outputs=x)\n",
        "model.compile(loss = 'categorical_crossentropy', optimizer = 'adam', metrics=['categorical_accuracy'])"
      ],
      "metadata": {
        "id": "WtW9XFvYshU0"
      },
      "execution_count": null,
      "outputs": []
    },
    {
      "cell_type": "code",
      "source": [
        "model.summary()"
      ],
      "metadata": {
        "id": "3VbwFcmcARtr",
        "colab": {
          "base_uri": "https://localhost:8080/"
        },
        "outputId": "c6289551-bf4e-4b25-e0b2-ebce818df2a3"
      },
      "execution_count": null,
      "outputs": [
        {
          "output_type": "stream",
          "name": "stdout",
          "text": [
            "Model: \"model\"\n",
            "_________________________________________________________________\n",
            " Layer (type)                Output Shape              Param #   \n",
            "=================================================================\n",
            " input_1 (InputLayer)        [(None, 10920)]           0         \n",
            "                                                                 \n",
            " dense (Dense)               (None, 100)               1092100   \n",
            "                                                                 \n",
            " dense_1 (Dense)             (None, 10920)             1102920   \n",
            "                                                                 \n",
            "=================================================================\n",
            "Total params: 2,195,020\n",
            "Trainable params: 2,195,020\n",
            "Non-trainable params: 0\n",
            "_________________________________________________________________\n"
          ]
        }
      ]
    },
    {
      "cell_type": "code",
      "source": [
        "# Optimizing the network weights\n",
        "model.fit(\n",
        "    x=X, \n",
        "    y=Y, \n",
        "    batch_size=512,\n",
        "    epochs=16\n",
        "    )"
      ],
      "metadata": {
        "id": "6rIEk_j-2ZUh",
        "colab": {
          "base_uri": "https://localhost:8080/"
        },
        "outputId": "97a928cc-d721-495f-81aa-b8c7a497b482"
      },
      "execution_count": null,
      "outputs": [
        {
          "output_type": "stream",
          "name": "stdout",
          "text": [
            "Epoch 1/16\n",
            "408/408 [==============================] - 89s 216ms/step - loss: 8.1625 - categorical_accuracy: 0.0317\n",
            "Epoch 2/16\n",
            "408/408 [==============================] - 87s 213ms/step - loss: 7.8053 - categorical_accuracy: 0.0322\n",
            "Epoch 3/16\n",
            "408/408 [==============================] - 88s 216ms/step - loss: 7.7847 - categorical_accuracy: 0.0322\n",
            "Epoch 4/16\n",
            "408/408 [==============================] - 87s 213ms/step - loss: 7.7599 - categorical_accuracy: 0.0338\n",
            "Epoch 5/16\n",
            "408/408 [==============================] - 86s 212ms/step - loss: 7.7281 - categorical_accuracy: 0.0347\n",
            "Epoch 6/16\n",
            "408/408 [==============================] - 85s 209ms/step - loss: 7.6796 - categorical_accuracy: 0.0362\n",
            "Epoch 7/16\n",
            "408/408 [==============================] - 85s 209ms/step - loss: 7.6064 - categorical_accuracy: 0.0388\n",
            "Epoch 8/16\n",
            "408/408 [==============================] - 85s 209ms/step - loss: 7.5061 - categorical_accuracy: 0.0443\n",
            "Epoch 9/16\n",
            "408/408 [==============================] - 85s 209ms/step - loss: 7.3795 - categorical_accuracy: 0.0512\n",
            "Epoch 10/16\n",
            "408/408 [==============================] - 90s 222ms/step - loss: 7.2285 - categorical_accuracy: 0.0576\n",
            "Epoch 11/16\n",
            "408/408 [==============================] - 86s 210ms/step - loss: 7.0593 - categorical_accuracy: 0.0626\n",
            "Epoch 12/16\n",
            "408/408 [==============================] - 86s 211ms/step - loss: 6.8778 - categorical_accuracy: 0.0672\n",
            "Epoch 13/16\n",
            "408/408 [==============================] - 86s 211ms/step - loss: 6.6905 - categorical_accuracy: 0.0713\n",
            "Epoch 14/16\n",
            "408/408 [==============================] - 85s 209ms/step - loss: 6.5038 - categorical_accuracy: 0.0746\n",
            "Epoch 15/16\n",
            "408/408 [==============================] - 85s 208ms/step - loss: 6.3214 - categorical_accuracy: 0.0774\n",
            "Epoch 16/16\n",
            "408/408 [==============================] - 85s 208ms/step - loss: 6.1473 - categorical_accuracy: 0.0783\n"
          ]
        },
        {
          "output_type": "execute_result",
          "data": {
            "text/plain": [
              "<keras.callbacks.History at 0x7fcb5af02b10>"
            ]
          },
          "metadata": {},
          "execution_count": 17
        }
      ]
    },
    {
      "cell_type": "code",
      "source": [
        "import tables\n",
        "model.save(\"network.h5\")\n",
        "\n",
        "tables.file._open_files.close_all()"
      ],
      "metadata": {
        "id": "aChNb6kxtArD"
      },
      "execution_count": null,
      "outputs": []
    },
    {
      "cell_type": "markdown",
      "source": [
        "###Load model"
      ],
      "metadata": {
        "id": "PMiOFINb_iFD"
      }
    },
    {
      "cell_type": "code",
      "source": [
        "!curl -o network.h5 https://github.com/AmirHajimohamadi/nlp/raw/master/network.h5\n",
        "from keras.models import load_model\n",
        "model = load_model(\"network.h5\")"
      ],
      "metadata": {
        "id": "5RYuf3wqtO-z"
      },
      "execution_count": null,
      "outputs": []
    },
    {
      "cell_type": "markdown",
      "source": [
        "###Obtaining the weights from the neural network"
      ],
      "metadata": {
        "id": "B5vae2FvkvS4"
      }
    },
    {
      "cell_type": "code",
      "source": [
        "# These are the so called word embeddings\n",
        "\n",
        "# The input layer \n",
        "weights = model.get_weights()[0]\n",
        "\n",
        "# Creating a dictionary to store the embeddings in. The key is a unique word and \n",
        "# the value is the numeric vector\n",
        "embedding_dict = {}\n",
        "for word in words: \n",
        "    embedding_dict.update({\n",
        "        word: weights[unique_word_dict.get(word)]\n",
        "        })"
      ],
      "metadata": {
        "id": "SykKGrXiywQw"
      },
      "execution_count": null,
      "outputs": []
    },
    {
      "cell_type": "markdown",
      "source": [
        "### Achieve Cosine Similarity"
      ],
      "metadata": {
        "id": "-nNceBmelvp1"
      }
    },
    {
      "cell_type": "markdown",
      "source": [
        "This function will create a sorted dictionary of most similar vectors(words) with the value of similaritis.\n",
        "\n",
        "NOTICE: The spatial.cosine.distance() function from the scipy module calculates the distance instead of the cosine similarity, but to achieve that, we can subtract the value of the distance from 1."
      ],
      "metadata": {
        "id": "AqEJhs_JUH-m"
      }
    },
    {
      "cell_type": "code",
      "source": [
        "from scipy import spatial\n",
        "\n",
        "def near_words(word):\n",
        "  word_dimensions = weights[unique_word_dict.get(word)]\n",
        "  temp_dict = embedding_dict.copy()\n",
        "  for word in words: \n",
        "      temp_dict.update({\n",
        "          word: (1 - spatial.distance.cosine(word_dimensions , weights[unique_word_dict.get(word)]))\n",
        "          })\n",
        "  sorted_near_words = sorted(temp_dict.items(), key=lambda kv: kv[1], reverse = True)\n",
        "  return sorted_near_words"
      ],
      "metadata": {
        "id": "RucEuJFtNiyS"
      },
      "execution_count": null,
      "outputs": []
    },
    {
      "cell_type": "code",
      "source": [
        "near_words(\"دشمن\")"
      ],
      "metadata": {
        "colab": {
          "base_uri": "https://localhost:8080/"
        },
        "id": "1k8qulcCQ7Ja",
        "outputId": "cf80605e-dabc-4d8f-a9ba-6d30346484cf"
      },
      "execution_count": null,
      "outputs": [
        {
          "output_type": "execute_result",
          "data": {
            "text/plain": [
              "[('دشمن', 1.0),\n",
              " ('دوستکام', 0.6180450916290283),\n",
              " ('دشمنم', 0.606937825679779),\n",
              " ('صورم', 0.5832578539848328),\n",
              " ('ذوفنونم', 0.5685684084892273),\n",
              " ('محبت', 0.5601546168327332),\n",
              " ('لقمان', 0.5586869716644287),\n",
              " ('بیعشقی', 0.5575999021530151),\n",
              " ('چاشتم', 0.5535373687744141),\n",
              " ('رهیم', 0.539718508720398),\n",
              " ('غمهایی', 0.5335390567779541),\n",
              " ('سلامت', 0.5267650485038757),\n",
              " ('پرمهر', 0.5218495726585388),\n",
              " ('خسیس', 0.5123741030693054),\n",
              " ('ضد', 0.5017476677894592),\n",
              " ('کتاب', 0.4959045350551605),\n",
              " ('بامش', 0.49102339148521423),\n",
              " ('بااندازهات', 0.4900096654891968),\n",
              " ('آفت', 0.484821617603302),\n",
              " ('انگیز', 0.4813542366027832),\n",
              " ('اقراریم', 0.4793300926685333),\n",
              " ('زیرکسار', 0.4785609543323517),\n",
              " ('ننگ', 0.47619909048080444),\n",
              " ('تبه', 0.4756191372871399),\n",
              " ('برگزاریم', 0.4701760709285736),\n",
              " ('انداخته', 0.4696873724460602),\n",
              " ('فسوس', 0.46688878536224365),\n",
              " ('غلاف', 0.46620312333106995),\n",
              " ('املی', 0.4633590579032898),\n",
              " ('خریده', 0.45865970849990845),\n",
              " ('درربودم', 0.4586249887943268),\n",
              " ('گرگین', 0.4560297727584839),\n",
              " ('دلتنگ', 0.4549300968647003),\n",
              " ('دنبل', 0.454573392868042),\n",
              " ('هشیارت', 0.45383620262145996),\n",
              " ('ساله', 0.4523063898086548),\n",
              " ('کریمان', 0.45178642868995667),\n",
              " ('آیینهست', 0.4429679214954376),\n",
              " ('پرافسنتین', 0.4428974390029907),\n",
              " ('بیاندازه', 0.44018206000328064),\n",
              " ('فسریدن', 0.4393293559551239),\n",
              " ('گویمش', 0.43874064087867737),\n",
              " ('فشانان', 0.43827587366104126),\n",
              " ('بستن', 0.43756115436553955),\n",
              " ('رهد', 0.43341004848480225),\n",
              " ('محسوسی', 0.43328994512557983),\n",
              " ('روگرانیم', 0.43300342559814453),\n",
              " ('بگشاده', 0.4325765073299408),\n",
              " ('قبایی', 0.4321674108505249),\n",
              " ('ربودم', 0.4307553470134735),\n",
              " ('دوغگین', 0.43069908022880554),\n",
              " ('تافته', 0.43042081594467163),\n",
              " ('بمبند', 0.42813771963119507),\n",
              " ('فکرتها', 0.42794620990753174),\n",
              " ('شها', 0.42789047956466675),\n",
              " ('معمور', 0.4278866946697235),\n",
              " ('رمیدهای', 0.42645299434661865),\n",
              " ('مشکلات', 0.42588093876838684),\n",
              " ('بپرسیدم', 0.4236743748188019),\n",
              " ('سپار', 0.42300111055374146),\n",
              " ('عجبی', 0.42230814695358276),\n",
              " ('مولانا', 0.4204830527305603),\n",
              " ('تهدید', 0.41784167289733887),\n",
              " ('پیغامبران', 0.4171958565711975),\n",
              " ('مبادم', 0.41654571890830994),\n",
              " ('چشمهات', 0.4148995280265808),\n",
              " ('نگردد', 0.4139311909675598),\n",
              " ('منکرانت', 0.4132787883281708),\n",
              " ('نیارایی', 0.4131230413913727),\n",
              " ('زینچ', 0.4104718565940857),\n",
              " ('غمگسار', 0.4087778329849243),\n",
              " ('سلامی', 0.4065815210342407),\n",
              " ('بخشی', 0.4060976505279541),\n",
              " ('بینردبان', 0.40511220693588257),\n",
              " ('مردهام', 0.4018279016017914),\n",
              " ('آمیزش', 0.4016217887401581),\n",
              " ('بیازمودم', 0.40144217014312744),\n",
              " ('عم', 0.4014133810997009),\n",
              " ('پذیرد', 0.39830249547958374),\n",
              " ('گشتمی', 0.396944522857666),\n",
              " ('بگلر', 0.3961678445339203),\n",
              " ('عیانیم', 0.39569100737571716),\n",
              " ('جانا', 0.3942347466945648),\n",
              " ('خردپیشه', 0.39332103729248047),\n",
              " ('بیدهان', 0.3930104970932007),\n",
              " ('دردمیدهای', 0.39118242263793945),\n",
              " ('دعوات', 0.39077332615852356),\n",
              " ('گردابها', 0.3905410170555115),\n",
              " ('بدرید', 0.3898206055164337),\n",
              " ('جاندار', 0.3892884850502014),\n",
              " ('نستیزم', 0.38703593611717224),\n",
              " ('مهرهای', 0.38687729835510254),\n",
              " ('گلوپرستم', 0.38652172684669495),\n",
              " ('فردم', 0.38646382093429565),\n",
              " ('کیانید', 0.3859422504901886),\n",
              " ('بسوزیده', 0.3856143355369568),\n",
              " ('دررسان', 0.3848614990711212),\n",
              " ('جالینوس', 0.3848426043987274),\n",
              " ('رهیدن', 0.3843226134777069),\n",
              " ('خفاشم', 0.38384220004081726),\n",
              " ('بخریدم', 0.38376545906066895),\n",
              " ('منستی', 0.38322293758392334),\n",
              " ('منت', 0.38205811381340027),\n",
              " ('عقلی', 0.38161465525627136),\n",
              " ('زدهام', 0.38001078367233276),\n",
              " ('ذوقی', 0.377993106842041),\n",
              " ('حس', 0.37698739767074585),\n",
              " ('محتاجان', 0.37598299980163574),\n",
              " ('جوییش', 0.3750917911529541),\n",
              " ('بیراهی', 0.37287241220474243),\n",
              " ('خویشتن', 0.3722304403781891),\n",
              " ('ولیک', 0.37113136053085327),\n",
              " ('سیاهی', 0.37072956562042236),\n",
              " ('سهل', 0.3704935312271118),\n",
              " ('مپسند', 0.3701851963996887),\n",
              " ('بگسلد', 0.3696586787700653),\n",
              " ('طغار', 0.3695015013217926),\n",
              " ('مایی', 0.3689444065093994),\n",
              " ('خواستهای', 0.36855244636535645),\n",
              " ('کلابهست', 0.36846980452537537),\n",
              " ('سپاری', 0.36816832423210144),\n",
              " ('جان', 0.3675423562526703),\n",
              " ('کاره', 0.36636561155319214),\n",
              " ('بینور', 0.3663560450077057),\n",
              " ('بوبکر', 0.36551862955093384),\n",
              " ('دیدهست', 0.3650439381599426),\n",
              " ('پربندت', 0.3648735582828522),\n",
              " ('خونین', 0.36463433504104614),\n",
              " ('پرید', 0.36414772272109985),\n",
              " ('بایدش', 0.3637836277484894),\n",
              " ('بزایم', 0.36334428191185),\n",
              " ('مستقینی', 0.36264923214912415),\n",
              " ('صفرایی', 0.36254075169563293),\n",
              " ('نگشایی', 0.36247768998146057),\n",
              " ('خارشهای', 0.36225759983062744),\n",
              " ('افزاییدن', 0.3614388406276703),\n",
              " ('پیرو', 0.36098119616508484),\n",
              " ('راحتها', 0.36028724908828735),\n",
              " ('خیزد', 0.3594633638858795),\n",
              " ('آمیخته', 0.3590896427631378),\n",
              " ('ابرویش', 0.3590295612812042),\n",
              " ('حکمت', 0.3588062524795532),\n",
              " ('پخت', 0.358320951461792),\n",
              " ('شخص', 0.35705089569091797),\n",
              " ('مده', 0.35704657435417175),\n",
              " ('جلاب', 0.35653671622276306),\n",
              " ('غوصه', 0.3545168936252594),\n",
              " ('بدهد', 0.3542487621307373),\n",
              " ('آرای', 0.35351261496543884),\n",
              " ('دادهام', 0.35343417525291443),\n",
              " ('کلی', 0.35257649421691895),\n",
              " ('نمیجویم', 0.3524998128414154),\n",
              " ('مردنی', 0.35234230756759644),\n",
              " ('افزاست', 0.351528525352478),\n",
              " ('رستیم', 0.3513476252555847),\n",
              " ('دلانم', 0.35100051760673523),\n",
              " ('زبانی', 0.35078322887420654),\n",
              " ('ترایم', 0.348371684551239),\n",
              " ('قوت', 0.34832513332366943),\n",
              " ('خریدارم', 0.34796303510665894),\n",
              " ('حاتم', 0.34788867831230164),\n",
              " ('تن', 0.3473897874355316),\n",
              " ('پرگل', 0.34727025032043457),\n",
              " ('فدای', 0.34639430046081543),\n",
              " ('بیرخنه', 0.3461674451828003),\n",
              " ('جانک', 0.34561365842819214),\n",
              " ('صوفیان', 0.34519344568252563),\n",
              " ('ساختی', 0.34435123205184937),\n",
              " ('ناموس', 0.3443315625190735),\n",
              " ('بیاموزی', 0.3441917896270752),\n",
              " ('غارتگر', 0.3441169261932373),\n",
              " ('برهانیدی', 0.3431287705898285),\n",
              " ('افزای', 0.3407021760940552),\n",
              " ('بم', 0.3404611051082611),\n",
              " ('رسنیم', 0.3401658535003662),\n",
              " ('گشت', 0.3401455879211426),\n",
              " ('عطارم', 0.34007003903388977),\n",
              " ('زهری', 0.3384028375148773),\n",
              " ('شرحش', 0.33829164505004883),\n",
              " ('جعل', 0.33741796016693115),\n",
              " ('ندزدید', 0.33716461062431335),\n",
              " ('کاین', 0.3367409110069275),\n",
              " ('نورافروز', 0.3367297947406769),\n",
              " ('عقل', 0.3366888165473938),\n",
              " ('قلتبان', 0.3357802927494049),\n",
              " ('افروز', 0.3357204794883728),\n",
              " ('وگرم', 0.335283100605011),\n",
              " ('سپهدار', 0.3352515995502472),\n",
              " ('سپاریم', 0.33514222502708435),\n",
              " ('کاصحاب', 0.33437779545783997),\n",
              " ('توامان', 0.33433476090431213),\n",
              " ('محرمان', 0.3338163495063782),\n",
              " ('جسمم', 0.3336588144302368),\n",
              " ('فرمایی', 0.33364972472190857),\n",
              " ('نخفتهست', 0.3335972726345062),\n",
              " ('عزبخانه', 0.333324134349823),\n",
              " ('گوهرم', 0.3330833315849304),\n",
              " ('بیحدی', 0.3329669237136841),\n",
              " ('نمیرم', 0.33256638050079346),\n",
              " ('بنگری', 0.3324173092842102),\n",
              " ('تاجدار', 0.33233892917633057),\n",
              " ('عروس', 0.33231842517852783),\n",
              " ('بیتو', 0.33081185817718506),\n",
              " ('بیخودیم', 0.3301057815551758),\n",
              " ('مصاف', 0.32969099283218384),\n",
              " ('آشنای', 0.3293951749801636),\n",
              " ('مایه', 0.32904893159866333),\n",
              " ('نبض', 0.3283817172050476),\n",
              " ('طلبی', 0.3280559182167053),\n",
              " ('مشام', 0.32802602648735046),\n",
              " ('گنجد', 0.32715925574302673),\n",
              " ('پرآب', 0.32708442211151123),\n",
              " ('صیدهای', 0.3268072307109833),\n",
              " ('ناحق', 0.32637396454811096),\n",
              " ('رموز', 0.3262742757797241),\n",
              " ('آوازه', 0.32590505480766296),\n",
              " ('زیانش', 0.32526159286499023),\n",
              " ('تسخر', 0.32436689734458923),\n",
              " ('تارم', 0.3240165114402771),\n",
              " ('ناخن', 0.3234419524669647),\n",
              " ('زیرک', 0.3233701288700104),\n",
              " ('مخوان', 0.32324329018592834),\n",
              " ('فروهشته', 0.3222617506980896),\n",
              " ('درفکن', 0.32214969396591187),\n",
              " ('بینید', 0.3220190703868866),\n",
              " ('درسوختم', 0.321862131357193),\n",
              " ('برفت', 0.321837455034256),\n",
              " ('قعدهام', 0.32183101773262024),\n",
              " ('درفکندش', 0.3217472732067108),\n",
              " ('محب', 0.32131427526474),\n",
              " ('سبکسار', 0.32111918926239014),\n",
              " ('بشد', 0.3205650746822357),\n",
              " ('کاملی', 0.32012665271759033),\n",
              " ('بیرنگ', 0.320036917924881),\n",
              " ('دررمید', 0.3200024366378784),\n",
              " ('شاد', 0.3195120692253113),\n",
              " ('وانگه', 0.31886404752731323),\n",
              " ('ندانستی', 0.3181397020816803),\n",
              " ('طورم', 0.3177964389324188),\n",
              " ('جامم', 0.31753501296043396),\n",
              " ('افتد', 0.3174183666706085),\n",
              " ('درست', 0.3173389732837677),\n",
              " ('بروی', 0.3173198699951172),\n",
              " ('شفق', 0.3170209228992462),\n",
              " ('بوم', 0.3164367377758026),\n",
              " ('کافرم', 0.31588757038116455),\n",
              " ('بستی', 0.3157525062561035),\n",
              " ('فسادم', 0.31527629494667053),\n",
              " ('خصم', 0.31475743651390076),\n",
              " ('دریاست', 0.3139987289905548),\n",
              " ('محتجب', 0.3128150701522827),\n",
              " ('تعب', 0.3127608895301819),\n",
              " ('بپران', 0.31219103932380676),\n",
              " ('کافرت', 0.31200096011161804),\n",
              " ('همیزند', 0.31187501549720764),\n",
              " ('بیماری', 0.31186529994010925),\n",
              " ('پرانیم', 0.3114383816719055),\n",
              " ('خرد', 0.3112606704235077),\n",
              " ('زندگان', 0.31087127327919006),\n",
              " ('کبابم', 0.3099297285079956),\n",
              " ('رقیب', 0.3098171353340149),\n",
              " ('لافیم', 0.309815376996994),\n",
              " ('وارهد', 0.3096024990081787),\n",
              " ('فروبستهام', 0.30959442257881165),\n",
              " ('سماعی', 0.3093096613883972),\n",
              " ('پنج', 0.30909231305122375),\n",
              " ('ببستی', 0.30894750356674194),\n",
              " ('عزرائیل', 0.30855605006217957),\n",
              " ('احسن', 0.30807971954345703),\n",
              " ('نوبت', 0.30779051780700684),\n",
              " ('سزد', 0.30742838978767395),\n",
              " ('پربند', 0.3073325753211975),\n",
              " ('مبر', 0.3070378303527832),\n",
              " ('تیردوز', 0.30671706795692444),\n",
              " ('ریزتر', 0.3065435290336609),\n",
              " ('رحمتم', 0.3062267303466797),\n",
              " ('جفت', 0.3059075176715851),\n",
              " ('سجین', 0.3057124614715576),\n",
              " ('چرب', 0.3053160309791565),\n",
              " ('تبرا', 0.3049624562263489),\n",
              " ('مسیحی', 0.30454862117767334),\n",
              " ('گرمابه', 0.3044504225254059),\n",
              " ('مشعل', 0.30443114042282104),\n",
              " ('قره', 0.30383604764938354),\n",
              " ('جگریم', 0.3038094639778137),\n",
              " ('معمار', 0.3036666512489319),\n",
              " ('عیدانه', 0.30333834886550903),\n",
              " ('ناطق', 0.30307015776634216),\n",
              " ('بیمرد', 0.30288735032081604),\n",
              " ('غواص', 0.3023855984210968),\n",
              " ('برادر', 0.3023730516433716),\n",
              " ('فکری', 0.3021194636821747),\n",
              " ('مذهب', 0.30181795358657837),\n",
              " ('قحط', 0.301791250705719),\n",
              " ('بیافت', 0.3017103672027588),\n",
              " ('باریدهام', 0.3014090359210968),\n",
              " ('حاشا', 0.30124521255493164),\n",
              " ('پندم', 0.30118244886398315),\n",
              " ('صبورم', 0.30103394389152527),\n",
              " ('خوردند', 0.30056121945381165),\n",
              " ('کندن', 0.3003576397895813),\n",
              " ('ناگهانی', 0.30002355575561523),\n",
              " ('نمیخواهد', 0.2999699115753174),\n",
              " ('هدیه', 0.2990720570087433),\n",
              " ('بینیازی', 0.2988112270832062),\n",
              " ('مکینم', 0.29879873991012573),\n",
              " ('قماش', 0.29862067103385925),\n",
              " ('اعتبار', 0.2985369861125946),\n",
              " ('بخند', 0.29840007424354553),\n",
              " ('دوزخم', 0.2983231842517853),\n",
              " ('نهانیم', 0.2981392443180084),\n",
              " ('خفتن', 0.29812881350517273),\n",
              " ('حدثان', 0.29778754711151123),\n",
              " ('کندت', 0.29768237471580505),\n",
              " ('بسم', 0.29763323068618774),\n",
              " ('لنگیدن', 0.29730191826820374),\n",
              " ('راحم', 0.29728278517723083),\n",
              " ('ستایشهای', 0.29649609327316284),\n",
              " ('نسب', 0.2950856387615204),\n",
              " ('بیجان', 0.2949156165122986),\n",
              " ('جهانیم', 0.29487890005111694),\n",
              " ('روزا', 0.29484137892723083),\n",
              " ('نام', 0.29468387365341187),\n",
              " ('گناهی', 0.2946505844593048),\n",
              " ('جانان', 0.2942827045917511),\n",
              " ('مولاناست', 0.29406285285949707),\n",
              " ('توبهام', 0.2936462461948395),\n",
              " ('حیزم', 0.29287704825401306),\n",
              " ('زمانیم', 0.2927384674549103),\n",
              " ('کیهان', 0.29262813925743103),\n",
              " ('ولایت', 0.29179421067237854),\n",
              " ('عذاب', 0.2917596399784088),\n",
              " ('خمره', 0.2915343940258026),\n",
              " ('دوخت', 0.29149022698402405),\n",
              " ('درگاه', 0.2910641133785248),\n",
              " ('سحرگاهی', 0.29103729128837585),\n",
              " ('ببرید', 0.29100096225738525),\n",
              " ('شهرت', 0.2906378507614136),\n",
              " ('نیل', 0.2903471291065216),\n",
              " ('آسیب', 0.29013219475746155),\n",
              " ('نخسبد', 0.29012537002563477),\n",
              " ('قشلق', 0.28966671228408813),\n",
              " ('بمیرد', 0.2896209955215454),\n",
              " ('کافران', 0.2894327640533447),\n",
              " ('دوست', 0.2894165813922882),\n",
              " ('نامده', 0.28913918137550354),\n",
              " ('چنگی', 0.28905680775642395),\n",
              " ('بارگی', 0.28892871737480164),\n",
              " ('عصیر', 0.2888635993003845),\n",
              " ('غریبستان', 0.2888001501560211),\n",
              " ('هان', 0.2887628376483917),\n",
              " ('خیاط', 0.28863564133644104),\n",
              " ('درفشان', 0.2884138226509094),\n",
              " ('پنداشته', 0.28821298480033875),\n",
              " ('نوبهارا', 0.2878677248954773),\n",
              " ('آهوچشم', 0.28774404525756836),\n",
              " ('دیگری', 0.28765547275543213),\n",
              " ('پاافشار', 0.28759220242500305),\n",
              " ('فردام', 0.2875460684299469),\n",
              " ('درنگنجیدم', 0.2871386706829071),\n",
              " ('جسم', 0.28694260120391846),\n",
              " ('خویت', 0.28686872124671936),\n",
              " ('حریریم', 0.28685060143470764),\n",
              " ('مجن', 0.2868480682373047),\n",
              " ('بگریخته', 0.28668078780174255),\n",
              " ('نوسبق', 0.28642094135284424),\n",
              " ('فخر', 0.2862982749938965),\n",
              " ('التماسی', 0.286091148853302),\n",
              " ('العین', 0.28520020842552185),\n",
              " ('نافع', 0.28493523597717285),\n",
              " ('طبیب', 0.2844148278236389),\n",
              " ('بیزنهار', 0.2838578224182129),\n",
              " ('نیشکر', 0.2835160791873932),\n",
              " ('بخرام', 0.2833534777164459),\n",
              " ('دلربایی', 0.28315597772598267),\n",
              " ('دنگ', 0.2828413248062134),\n",
              " ('سخا', 0.28265827894210815),\n",
              " ('مرد', 0.28243011236190796),\n",
              " ('نجات', 0.28218919038772583),\n",
              " ('مستجابم', 0.2814313769340515),\n",
              " ('حبیب', 0.2813604176044464),\n",
              " ('کتف', 0.280907541513443),\n",
              " ('بپوسیدن', 0.2801726758480072),\n",
              " ('سبک', 0.2800410985946655),\n",
              " ('مرید', 0.2794685959815979),\n",
              " ('بریدند', 0.27940651774406433),\n",
              " ('حلب', 0.2792394757270813),\n",
              " ('اسعدیم', 0.2790991961956024),\n",
              " ('آینه', 0.2789454460144043),\n",
              " ('یابند', 0.27854758501052856),\n",
              " ('پیچید', 0.2783963084220886),\n",
              " ('ربابی', 0.27801892161369324),\n",
              " ('بنواز', 0.27777525782585144),\n",
              " ('تننن', 0.27766281366348267),\n",
              " ('گفتا', 0.27763381600379944),\n",
              " ('آمدهای', 0.27755996584892273),\n",
              " ('کنج', 0.2770523726940155),\n",
              " ('ربیع', 0.2767351269721985),\n",
              " ('امانم', 0.2766536772251129),\n",
              " ('اگرت', 0.2766529619693756),\n",
              " ('غمزه', 0.2764178216457367),\n",
              " ('آنگهی', 0.2762732207775116),\n",
              " ('عشقم', 0.27626627683639526),\n",
              " ('بیتن', 0.2762456238269806),\n",
              " ('لنگرم', 0.2762416899204254),\n",
              " ('توست', 0.2761816084384918),\n",
              " ('بسکلم', 0.2761618494987488),\n",
              " ('پیرم', 0.2753720283508301),\n",
              " ('سرگرانم', 0.27449145913124084),\n",
              " ('حل', 0.2744295597076416),\n",
              " ('زیان', 0.2744123637676239),\n",
              " ('بازگونه', 0.27433550357818604),\n",
              " ('پاکتر', 0.2742803990840912),\n",
              " ('خوارم', 0.27417537569999695),\n",
              " ('چپان', 0.2741360068321228),\n",
              " ('بازآمدی', 0.2740069031715393),\n",
              " ('بشوریده', 0.27383291721343994),\n",
              " ('عصارم', 0.2737787365913391),\n",
              " ('زفت', 0.27351099252700806),\n",
              " ('لولیان', 0.2734870910644531),\n",
              " ('تنم', 0.2734598219394684),\n",
              " ('ندهم', 0.2733568251132965),\n",
              " ('کندهها', 0.27295228838920593),\n",
              " ('بده', 0.27264347672462463),\n",
              " ('جبریلت', 0.2725973129272461),\n",
              " ('مبنی', 0.27246570587158203),\n",
              " ('افروختم', 0.27226772904396057),\n",
              " ('همنشینان', 0.2722114622592926),\n",
              " ('نهادند', 0.272104948759079),\n",
              " ('باک', 0.2720543146133423),\n",
              " ('فقیرم', 0.2713680863380432),\n",
              " ('ذوالبیان', 0.271289199590683),\n",
              " ('غمخوار', 0.2709924280643463),\n",
              " ('کآخر', 0.27094605565071106),\n",
              " ('رگهای', 0.2708752751350403),\n",
              " ('بدیدی', 0.2704096734523773),\n",
              " ('مقام', 0.270140677690506),\n",
              " ('قافله', 0.2701222002506256),\n",
              " ('زدستی', 0.26998427510261536),\n",
              " ('آبم', 0.2695002555847168),\n",
              " ('زیور', 0.26933619379997253),\n",
              " ('پرگار', 0.2690969407558441),\n",
              " ('بوعلی', 0.26871296763420105),\n",
              " ('همیلرزد', 0.26858019828796387),\n",
              " ('وطن', 0.26838552951812744),\n",
              " ('عشوه', 0.2679012417793274),\n",
              " ('کاش', 0.26736149191856384),\n",
              " ('بغلش', 0.2673431932926178),\n",
              " ('بیخویشتن', 0.2672366201877594),\n",
              " ('خدایا', 0.26674526929855347),\n",
              " ('خالص', 0.2660667896270752),\n",
              " ('نریزی', 0.26599353551864624),\n",
              " ('سیلاب', 0.26583242416381836),\n",
              " ('شیری', 0.2656714916229248),\n",
              " ('پروریم', 0.26563161611557007),\n",
              " ('بنشین', 0.26561281085014343),\n",
              " ('حرام', 0.2654586434364319),\n",
              " ('ملخ', 0.2653729319572449),\n",
              " ('حیدر', 0.26525723934173584),\n",
              " ('نامم', 0.2651905119419098),\n",
              " ('شکستیم', 0.26506853103637695),\n",
              " ('پنهانم', 0.2650458812713623),\n",
              " ('نگران', 0.26495033502578735),\n",
              " ('عبث', 0.26471763849258423),\n",
              " ('کفک', 0.26471689343452454),\n",
              " ('ببخش', 0.2646232545375824),\n",
              " ('مردهای', 0.26448947191238403),\n",
              " ('البقا', 0.2644707262516022),\n",
              " ('باتویی', 0.26442041993141174),\n",
              " ('مردهتر', 0.2643435299396515),\n",
              " ('پیر', 0.26422151923179626),\n",
              " ('پاکت', 0.26383671164512634),\n",
              " ('شدهایم', 0.26371875405311584),\n",
              " ('کسب', 0.26321840286254883),\n",
              " ('پیوسته', 0.26201769709587097),\n",
              " ('اشکش', 0.2618511915206909),\n",
              " ('چنانک', 0.26178446412086487),\n",
              " ('انجیر', 0.2617153823375702),\n",
              " ('بدهیم', 0.2614721357822418),\n",
              " ('طیف', 0.2612590789794922),\n",
              " ('خایف', 0.2610420882701874),\n",
              " ('بیقرارم', 0.2609906494617462),\n",
              " ('خاموش', 0.2602880597114563),\n",
              " ('کنعان', 0.2601529359817505),\n",
              " ('جسمش', 0.26011988520622253),\n",
              " ('سختی', 0.26007214188575745),\n",
              " ('خانقاه', 0.25978079438209534),\n",
              " ('اشکاریم', 0.25969406962394714),\n",
              " ('خنب', 0.25962942838668823),\n",
              " ('یگانگی', 0.2593093514442444),\n",
              " ('کمیزم', 0.25929275155067444),\n",
              " ('بدن', 0.2592926323413849),\n",
              " ('دربار', 0.25924593210220337),\n",
              " ('صورتی', 0.25879067182540894),\n",
              " ('ستیزت', 0.2586638331413269),\n",
              " ('شهسوار', 0.258612722158432),\n",
              " ('مشو', 0.2584623694419861),\n",
              " ('عافیت', 0.258154034614563),\n",
              " ('ژاژ', 0.2579061686992645),\n",
              " ('شتابان', 0.2577900290489197),\n",
              " ('قرانی', 0.25769945979118347),\n",
              " ('بدرود', 0.2569570243358612),\n",
              " ('نیی', 0.25694912672042847),\n",
              " ('حرونم', 0.2569309175014496),\n",
              " ('عیاره', 0.25683245062828064),\n",
              " ('ارزانی', 0.2567479908466339),\n",
              " ('معقولی', 0.25648489594459534),\n",
              " ('وامق', 0.25615864992141724),\n",
              " ('عزت', 0.25605008006095886),\n",
              " ('سود', 0.25564852356910706),\n",
              " ('هدهد', 0.2554894983768463),\n",
              " ('القاب', 0.2554423213005066),\n",
              " ('فیلند', 0.25509577989578247),\n",
              " ('انعام', 0.2550075948238373),\n",
              " ('حاسد', 0.25471416115760803),\n",
              " ('نیکیم', 0.25469970703125),\n",
              " ('بینشانیم', 0.25452667474746704),\n",
              " ('تافتن', 0.25452080368995667),\n",
              " ('سلسله', 0.25449612736701965),\n",
              " ('نزدیکم', 0.25448790192604065),\n",
              " ('افکنیم', 0.25443926453590393),\n",
              " ('خانهای', 0.25439637899398804),\n",
              " ('سپردن', 0.25435400009155273),\n",
              " ('زور', 0.2537181079387665),\n",
              " ('افتم', 0.2534694969654083),\n",
              " ('تیریم', 0.2534230053424835),\n",
              " ('طبیبی', 0.2530827522277832),\n",
              " ('نظرش', 0.25239548087120056),\n",
              " ('ستمکاره', 0.25217539072036743),\n",
              " ('فتادی', 0.25217387080192566),\n",
              " ('فاستجب', 0.2521513104438782),\n",
              " ('شاهدان', 0.25183942914009094),\n",
              " ('پاکی', 0.25180768966674805),\n",
              " ('مانندت', 0.25128063559532166),\n",
              " ('بیادب', 0.2512069046497345),\n",
              " ('بیوه', 0.2509893774986267),\n",
              " ('برناییم', 0.2508014440536499),\n",
              " ('نزدیک', 0.25076717138290405),\n",
              " ('ستار', 0.25060367584228516),\n",
              " ('اختیارم', 0.25053149461746216),\n",
              " ('زندانم', 0.25038501620292664),\n",
              " ('بخوانمش', 0.2499798685312271),\n",
              " ('ماجرا', 0.24969016015529633),\n",
              " ('عنبرسای', 0.2494507133960724),\n",
              " ('عد', 0.24902409315109253),\n",
              " ('فاسقان', 0.24877366423606873),\n",
              " ('بیباک', 0.2486841082572937),\n",
              " ('پاسخ', 0.24868233501911163),\n",
              " ('بازبین', 0.24857591092586517),\n",
              " ('گیج', 0.248318150639534),\n",
              " ('بگفتید', 0.24827434122562408),\n",
              " ('کلیدی', 0.2482108473777771),\n",
              " ('قیامتی', 0.24819210171699524),\n",
              " ('اشکال', 0.2479880154132843),\n",
              " ('کینم', 0.24765603244304657),\n",
              " ('مرو', 0.24755248427391052),\n",
              " ('فقیریم', 0.2474730908870697),\n",
              " ('صلای', 0.24736209213733673),\n",
              " ('تنگم', 0.24725741147994995),\n",
              " ('فرازی', 0.24704673886299133),\n",
              " ('منکر', 0.24703145027160645),\n",
              " ('عالم', 0.2470192015171051),\n",
              " ('جانهایی', 0.24685987830162048),\n",
              " ('گهواره', 0.2468528002500534),\n",
              " ('روشها', 0.24681150913238525),\n",
              " ('گوشمال', 0.24680869281291962),\n",
              " ('رواست', 0.24664287269115448),\n",
              " ('گنده', 0.24651804566383362),\n",
              " ('جهانم', 0.2463882863521576),\n",
              " ('مغلطه', 0.24626076221466064),\n",
              " ('مباد', 0.2462242841720581),\n",
              " ('بیزیر', 0.24614067375659943),\n",
              " ('اغیار', 0.24590152502059937),\n",
              " ('بازیهای', 0.24589945375919342),\n",
              " ('دروازه', 0.24583764374256134),\n",
              " ('پاهای', 0.24581818282604218),\n",
              " ('نزارش', 0.24571587145328522),\n",
              " ('دستت', 0.24566616117954254),\n",
              " ('افعی', 0.24520446360111237),\n",
              " ('دلش', 0.2450677901506424),\n",
              " ('سبوی', 0.2448335438966751),\n",
              " ('عصاست', 0.2447497546672821),\n",
              " ('بپر', 0.24447478353977203),\n",
              " ('مستی', 0.2443862110376358),\n",
              " ('استخوانم', 0.24427130818367004),\n",
              " ('نظارهایم', 0.2442028820514679),\n",
              " ('انبیا', 0.24408355355262756),\n",
              " ('جهان', 0.24404145777225494),\n",
              " ('دایهای', 0.2435871958732605),\n",
              " ('سرمستت', 0.2435413897037506),\n",
              " ('تجارت', 0.24346652626991272),\n",
              " ('اسپش', 0.2434474229812622),\n",
              " ('همیگوییم', 0.24329277873039246),\n",
              " ('گوشی', 0.24318403005599976),\n",
              " ('عقد', 0.24317249655723572),\n",
              " ('پراندیشه', 0.24313275516033173),\n",
              " ('محرمستی', 0.2428864985704422),\n",
              " ('همیخواهی', 0.2424277514219284),\n",
              " ('همیکن', 0.24230153858661652),\n",
              " ('رمیت', 0.24214574694633484),\n",
              " ('ندادم', 0.24207569658756256),\n",
              " ('سلطانم', 0.2417861968278885),\n",
              " ('شرحههای', 0.24163347482681274),\n",
              " ('جملگی', 0.2415696084499359),\n",
              " ('روزافزون', 0.24154755473136902),\n",
              " ('بیدادان', 0.2414454221725464),\n",
              " ('شدش', 0.24131888151168823),\n",
              " ('بنگذارد', 0.24107111990451813),\n",
              " ('حلاوتی', 0.24086271226406097),\n",
              " ('تیراندازش', 0.24040648341178894),\n",
              " ('کرشمه', 0.2402990162372589),\n",
              " ('کافتاد', 0.2402571588754654),\n",
              " ('صدر', 0.24020160734653473),\n",
              " ('سپاران', 0.23997148871421814),\n",
              " ('هجران', 0.23991630971431732),\n",
              " ('پررنگ', 0.23957160115242004),\n",
              " ('تقاضا', 0.23949892818927765),\n",
              " ('مکتم', 0.23935052752494812),\n",
              " ('بنمودیم', 0.2390715479850769),\n",
              " ('بازندانم', 0.23900580406188965),\n",
              " ('جامی', 0.23890148103237152),\n",
              " ('کبوترخانه', 0.23889131844043732),\n",
              " ('نجوشد', 0.23888233304023743),\n",
              " ('طربها', 0.2387809008359909),\n",
              " ('موسوی', 0.23876696825027466),\n",
              " ('نمیترسی', 0.2387540340423584),\n",
              " ('تعبیرش', 0.23850712180137634),\n",
              " ('ویرانه', 0.23843736946582794),\n",
              " ('سلیمانیم', 0.23841510713100433),\n",
              " ('لبانت', 0.23824797570705414),\n",
              " ('لطافتش', 0.2381034940481186),\n",
              " ('حیران', 0.2379537671804428),\n",
              " ('المهوم', 0.2376965880393982),\n",
              " ('سیر', 0.23745259642601013),\n",
              " ('مطربان', 0.23729528486728668),\n",
              " ('عاشقان', 0.23715977370738983),\n",
              " ('جهت', 0.23706045746803284),\n",
              " ('بینظیرم', 0.23701193928718567),\n",
              " ('بیانش', 0.2367512285709381),\n",
              " ('بخایم', 0.23635032773017883),\n",
              " ('اندررسد', 0.2363089919090271),\n",
              " ('بوطربان', 0.2362983375787735),\n",
              " ('پردههای', 0.23619365692138672),\n",
              " ('بجست', 0.23589587211608887),\n",
              " ('وزان', 0.23563505709171295),\n",
              " ('مشتاقان', 0.2354111522436142),\n",
              " ('بمستیز', 0.23493169248104095),\n",
              " ('اعتبارها', 0.2349110096693039),\n",
              " ('حریص', 0.23471659421920776),\n",
              " ('نضار', 0.23437389731407166),\n",
              " ('گفتنم', 0.23436513543128967),\n",
              " ('خاییدن', 0.2343117743730545),\n",
              " ('قشر', 0.2339484542608261),\n",
              " ('طرار', 0.23390111327171326),\n",
              " ('ای', 0.2337171882390976),\n",
              " ('نتانم', 0.23272939026355743),\n",
              " ('الحبک', 0.23272816836833954),\n",
              " ('مستت', 0.23247462511062622),\n",
              " ('هلا', 0.23245634138584137),\n",
              " ('مستعینی', 0.23173771798610687),\n",
              " ('پیکار', 0.23154765367507935),\n",
              " ('متاع', 0.23065729439258575),\n",
              " ('نورم', 0.23039166629314423),\n",
              " ('اعدام', 0.23022061586380005),\n",
              " ('لگن', 0.23002097010612488),\n",
              " ('دیکی', 0.22997459769248962),\n",
              " ('خسان', 0.2296980917453766),\n",
              " ('گندم', 0.2296849638223648),\n",
              " ('جسته', 0.22966407239437103),\n",
              " ('زخار', 0.2295340746641159),\n",
              " ('دیرخیزم', 0.22946994006633759),\n",
              " ('معذورم', 0.22919705510139465),\n",
              " ('بیکمان', 0.22904376685619354),\n",
              " ('جوان', 0.22888632118701935),\n",
              " ('بیجمالت', 0.2288016974925995),\n",
              " ('شمعی', 0.22860410809516907),\n",
              " ('همراهند', 0.22852419316768646),\n",
              " ('ناوک', 0.2282688170671463),\n",
              " ('چاکرم', 0.2279897779226303),\n",
              " ('نبودی', 0.22782044112682343),\n",
              " ('گفتها', 0.22776934504508972),\n",
              " ('عیدگاه', 0.22771655023097992),\n",
              " ('مرتدیم', 0.22758471965789795),\n",
              " ('شوران', 0.2270510345697403),\n",
              " ('سایهای', 0.2270345687866211),\n",
              " ('فشار', 0.22668622434139252),\n",
              " ('سراندازان', 0.22637414932250977),\n",
              " ('افسونگرست', 0.22619599103927612),\n",
              " ('لطافتهای', 0.22611770033836365),\n",
              " ('عیانش', 0.22578619420528412),\n",
              " ('جانانیم', 0.22552365064620972),\n",
              " ('کشیدیم', 0.22543929517269135),\n",
              " ('عاطل', 0.2253117710351944),\n",
              " ('صافتریم', 0.22525164484977722),\n",
              " ('سوداست', 0.22522996366024017),\n",
              " ('منزلم', 0.22486171126365662),\n",
              " ('بنای', 0.2247258871793747),\n",
              " ('طفلی', 0.2246818095445633),\n",
              " ('همیکندش', 0.22467592358589172),\n",
              " ('ندیم', 0.2245737463235855),\n",
              " ('خلقی', 0.22447021305561066),\n",
              " ('پیت', 0.22419148683547974),\n",
              " ('بخشش', 0.22401395440101624),\n",
              " ('همیگوید', 0.22385145723819733),\n",
              " ('اندیشهام', 0.22368411719799042),\n",
              " ('عزیزم', 0.22355447709560394),\n",
              " ('گشای', 0.22351084649562836),\n",
              " ('وزیرم', 0.22338859736919403),\n",
              " ('بها', 0.22332115471363068),\n",
              " ('قالب', 0.22306804358959198),\n",
              " ('ربانی', 0.22306235134601593),\n",
              " ('بیخویشی', 0.2228272259235382),\n",
              " ('سوگند', 0.22281233966350555),\n",
              " ('مپرس', 0.22266951203346252),\n",
              " ('بداندیش', 0.2226693332195282),\n",
              " ('مکسب', 0.22259528934955597),\n",
              " ('پردگی', 0.22245076298713684),\n",
              " ('شتافت', 0.22236663103103638),\n",
              " ('مسلمانان', 0.222270205616951),\n",
              " ('خورت', 0.22196052968502045),\n",
              " ('چیزی', 0.2217721939086914),\n",
              " ('سرگردان', 0.22167614102363586),\n",
              " ('نگنجد', 0.22165162861347198),\n",
              " ('قربانی', 0.22138091921806335),\n",
              " ('ببر', 0.2213122546672821),\n",
              " ('بیتی', 0.22120656073093414),\n",
              " ('حرامش', 0.2211121767759323),\n",
              " ('بخش', 0.22110281884670258),\n",
              " ('ضرورت', 0.2210807204246521),\n",
              " ('مخواهید', 0.22103288769721985),\n",
              " ('روبند', 0.22088362276554108),\n",
              " ('بخشیدم', 0.2208796888589859),\n",
              " ('نمای', 0.220622718334198),\n",
              " ('چار', 0.22061285376548767),\n",
              " ('بخریده', 0.22039571404457092),\n",
              " ('زودم', 0.22031176090240479),\n",
              " ('عمم', 0.22025248408317566),\n",
              " ('برقی', 0.22018079459667206),\n",
              " ('زانی', 0.22013303637504578),\n",
              " ('عدلی', 0.2196006029844284),\n",
              " ('بمشوران', 0.21951760351657867),\n",
              " ('گران', 0.21942588686943054),\n",
              " ('رهنمونم', 0.21939314901828766),\n",
              " ('ستان', 0.21938841044902802),\n",
              " ('بیجفت', 0.21938560903072357),\n",
              " ('صنم', 0.21931403875350952),\n",
              " ('قزغان', 0.2192758023738861),\n",
              " ('عاشقانهان', 0.2192278355360031),\n",
              " ('انگیخته', 0.21897511184215546),\n",
              " ('خاندان', 0.21881118416786194),\n",
              " ('شیرین', 0.21880975365638733),\n",
              " ('سقا', 0.21848267316818237),\n",
              " ('اعلام', 0.2184544950723648),\n",
              " ('پایین', 0.21840472519397736),\n",
              " ('باقیش', 0.21830114722251892),\n",
              " ('رایگان', 0.2182769775390625),\n",
              " ('حاکم', 0.21812313795089722),\n",
              " ('ملولی', 0.21798641979694366),\n",
              " ('صافی', 0.21797123551368713),\n",
              " ('فسانه', 0.21765966713428497),\n",
              " ('بشرای', 0.21765072643756866),\n",
              " ('ببینید', 0.21750634908676147),\n",
              " ('آفریند', 0.21738944947719574),\n",
              " ('پرهنر', 0.21722015738487244),\n",
              " ('نیستش', 0.21718306839466095),\n",
              " ('اوفتیدم', 0.21716871857643127),\n",
              " ('دلستان', 0.21697834134101868),\n",
              " ('بخر', 0.2169313132762909),\n",
              " ('مخلد', 0.2164684236049652),\n",
              " ('کابین', 0.21644487977027893),\n",
              " ('وتد', 0.21611207723617554),\n",
              " ('برکشد', 0.2159409523010254),\n",
              " ('فتم', 0.21593765914440155),\n",
              " ('سزایم', 0.21560102701187134),\n",
              " ('زخمهاش', 0.21525463461875916),\n",
              " ('بگوییدش', 0.2151678204536438),\n",
              " ('وارهان', 0.21489354968070984),\n",
              " ('مجه', 0.21488478779792786),\n",
              " ('کینی', 0.21469195187091827),\n",
              " ('مونس', 0.21468117833137512),\n",
              " ('روان', 0.21446216106414795),\n",
              " ('افروزم', 0.21415892243385315),\n",
              " ('فرورفته', 0.21403449773788452),\n",
              " ('بخوردیم', 0.21396003663539886),\n",
              " ('لولاک', 0.21381397545337677),\n",
              " ('نای', 0.21370980143547058),\n",
              " ('دلبرانه', 0.21361905336380005),\n",
              " ('ناشی', 0.2135784924030304),\n",
              " ('خفتهاید', 0.21352489292621613),\n",
              " ('برونت', 0.21348769962787628),\n",
              " ('بازگونم', 0.21346057951450348),\n",
              " ('مجو', 0.213365837931633),\n",
              " ('مسم', 0.21314890682697296),\n",
              " ('مسلمان', 0.213065505027771),\n",
              " ('پرعید', 0.2130197435617447),\n",
              " ('مدد', 0.21282270550727844),\n",
              " ('توان', 0.21271036565303802),\n",
              " ('نالان', 0.2127070128917694),\n",
              " ('نکشیم', 0.21265071630477905),\n",
              " ('دانایی', 0.21250353753566742),\n",
              " ('عصابه', 0.21242058277130127),\n",
              " ('نفخت', 0.21239221096038818),\n",
              " ('عوران', 0.21238523721694946),\n",
              " ('عبره', 0.2119961678981781),\n",
              " ('زناری', 0.2119288593530655),\n",
              " ('ابلهان', 0.21140903234481812),\n",
              " ('ننشانم', 0.21097508072853088),\n",
              " ('سلطانان', 0.2109532207250595),\n",
              " ('مهلکتر', 0.21093647181987762),\n",
              " ('زاکی', 0.21092428267002106),\n",
              " ('کورموش', 0.21089068055152893),\n",
              " ('خنگ', 0.2108066976070404),\n",
              " ('مؤمنی', 0.21056509017944336),\n",
              " ('شاخها', 0.21048420667648315),\n",
              " ('جغدانند', 0.21032440662384033),\n",
              " ('حصین', 0.21031513810157776),\n",
              " ('بیتناهی', 0.21027269959449768),\n",
              " ('مطربم', 0.21020126342773438),\n",
              " ('بنوردم', 0.2100314348936081),\n",
              " ('آساید', 0.20997381210327148),\n",
              " ('دخول', 0.20986582338809967),\n",
              " ('حوران', 0.20970012247562408),\n",
              " ('خوشتریم', 0.2096899449825287),\n",
              " ('برجوش', 0.2096431851387024),\n",
              " ('سوزد', 0.20952913165092468),\n",
              " ('ملول', 0.20944514870643616),\n",
              " ('چراغی', 0.20936407148838043),\n",
              " ('استغفار', 0.2092992514371872),\n",
              " ('هش', 0.20918747782707214),\n",
              " ('آختیم', 0.20910251140594482),\n",
              " ('یتیم', 0.20905746519565582),\n",
              " ('کام', 0.2090449035167694),\n",
              " ('اشارتهای', 0.2089339792728424),\n",
              " ('منتش', 0.20878754556179047),\n",
              " ('فنا', 0.20878590643405914),\n",
              " ('نفخ', 0.208686962723732),\n",
              " ('خسته', 0.2085706740617752),\n",
              " ('هشیاران', 0.2085074633359909),\n",
              " ('موافقت', 0.20847710967063904),\n",
              " ('الضحا', 0.2084740251302719),\n",
              " ('بکشیم', 0.2084292620420456),\n",
              " ('تنن', 0.20841367542743683),\n",
              " ('مپر', 0.20833510160446167),\n",
              " ('چارارکان', 0.20792973041534424),\n",
              " ('عشقباز', 0.2077753245830536),\n",
              " ('بخیه', 0.20768725872039795),\n",
              " ('زحمت', 0.20757034420967102),\n",
              " ('ندیدم', 0.20746532082557678),\n",
              " ('کلاهی', 0.20728985965251923),\n",
              " ('سرده', 0.20718447864055634),\n",
              " ('ناپخته', 0.2069334238767624),\n",
              " ('بنخاسی', 0.2069326937198639),\n",
              " ('خستن', 0.20689897239208221),\n",
              " ('عنبربیز', 0.20681165158748627),\n",
              " ('بگردانی', 0.20664110779762268),\n",
              " ('شنیده', 0.20663045346736908),\n",
              " ('دانههای', 0.20661401748657227),\n",
              " ('بیگار', 0.20638889074325562),\n",
              " ('نتان', 0.20636166632175446),\n",
              " ('بریخت', 0.20634233951568604),\n",
              " ('زمانم', 0.2062496691942215),\n",
              " ('هما', 0.20608223974704742),\n",
              " ('بالشیم', 0.20600134134292603),\n",
              " ('فزا', 0.20587898790836334),\n",
              " ('جانی', 0.20578400790691376),\n",
              " ('بچخی', 0.2057785838842392),\n",
              " ('گفتهست', 0.20572414994239807),\n",
              " ('شجریم', 0.20569835603237152),\n",
              " ('دوریم', 0.20552058517932892),\n",
              " ('غمگساری', 0.20547756552696228),\n",
              " ('رعیت', 0.20530475676059723),\n",
              " ('خاکدانت', 0.20526473224163055),\n",
              " ('بدریده', 0.2051295042037964),\n",
              " ('بغلهایت', 0.20511209964752197),\n",
              " ('عاشقم', 0.20510278642177582),\n",
              " ('عشرت', 0.2049601972103119),\n",
              " ('کمند', 0.2048967331647873),\n",
              " ('نبیذ', 0.20488420128822327),\n",
              " ('ندوم', 0.20472316443920135),\n",
              " ('عجایبت', 0.20451751351356506),\n",
              " ('عاشق', 0.20439979434013367),\n",
              " ('بدی', 0.2042173445224762),\n",
              " ('عثار', 0.204070046544075),\n",
              " ('نقلش', 0.20402149856090546),\n",
              " ('سرخوشان', 0.203957200050354),\n",
              " ('لنگری', 0.2037322074174881),\n",
              " ('گندمین', 0.20366038382053375),\n",
              " ('برفکنده', 0.203624427318573),\n",
              " ('نفیر', 0.20359931886196136),\n",
              " ('بابا', 0.20348483324050903),\n",
              " ('افزایی', 0.20336613059043884),\n",
              " ('واپس', 0.20305991172790527),\n",
              " ('بپوشان', 0.20303495228290558),\n",
              " ('مستهجن', 0.20302355289459229),\n",
              " ('سادهتر', 0.20287244021892548),\n",
              " ('معاف', 0.20279739797115326),\n",
              " ('اخضر', 0.20278511941432953),\n",
              " ('نمازی', 0.2026207447052002),\n",
              " ('هوشیار', 0.20256860554218292),\n",
              " ('نمازم', 0.2025240957736969),\n",
              " ('چونش', 0.20242390036582947),\n",
              " ('غیرت', 0.20217138528823853),\n",
              " ('خسرو', 0.20211222767829895),\n",
              " ('پاکان', 0.20195236802101135),\n",
              " ('رسته', 0.20147685706615448),\n",
              " ('اصلش', 0.2014128565788269),\n",
              " ('خاموشانهای', 0.20134297013282776),\n",
              " ('ولایتی', 0.2013278752565384),\n",
              " ('بیگفتار', 0.20122963190078735),\n",
              " ('خزیدن', 0.2011481374502182),\n",
              " ('ننوشیم', 0.20113009214401245),\n",
              " ('نشستن', 0.20104672014713287),\n",
              " ('گردیدم', 0.2009941190481186),\n",
              " ('بپری', 0.20095089077949524),\n",
              " ('متهمیم', 0.20094142854213715),\n",
              " ('سوزش', 0.20089749991893768),\n",
              " ('طری', 0.20082058012485504),\n",
              " ('مادرم', 0.20072929561138153),\n",
              " ('صیقل', 0.2006082385778427),\n",
              " ('مسلم', 0.20055249333381653),\n",
              " ('کای', 0.2003754824399948),\n",
              " ('پردرد', 0.20030438899993896),\n",
              " ('بالاست', 0.2002842128276825),\n",
              " ('سینهها', 0.2001841515302658),\n",
              " ('ربانیم', 0.20017468929290771),\n",
              " ('بینفاقش', 0.20012006163597107),\n",
              " ('ارشاد', 0.20011892914772034),\n",
              " ('لطیف', 0.20006632804870605),\n",
              " ('مفت', 0.19992408156394958),\n",
              " ('خوشدلی', 0.19987522065639496),\n",
              " ('پابسته', 0.1998278945684433),\n",
              " ('زمزمه', 0.19978904724121094),\n",
              " ('گورکن', 0.19978834688663483),\n",
              " ('بهل', 0.19971542060375214),\n",
              " ('جگرهای', 0.19968509674072266),\n",
              " ('درگاهم', 0.19958007335662842),\n",
              " ('الحان', 0.1993405520915985),\n",
              " ('چشمهایم', 0.19932234287261963),\n",
              " ('لطیفتر', 0.19925738871097565),\n",
              " ('تمام', 0.19888345897197723),\n",
              " ('فرقدیم', 0.1987657994031906),\n",
              " ('فوقی', 0.1987651139497757),\n",
              " ('تفسیده', 0.19874629378318787),\n",
              " ('نمکدان', 0.1986687332391739),\n",
              " ('زانو', 0.1985848844051361),\n",
              " ('کفایت', 0.19841983914375305),\n",
              " ('رگت', 0.19822819530963898),\n",
              " ('باوقار', 0.19820331037044525),\n",
              " ('قلندر', 0.19816777110099792),\n",
              " ('اینک', 0.19807487726211548),\n",
              " ('کافورم', 0.19797281920909882),\n",
              " ('سبحانی', 0.19790656864643097),\n",
              " ('نیرزد', 0.19788983464241028),\n",
              " ('طلب', 0.197777658700943),\n",
              " ('رجا', 0.19768330454826355),\n",
              " ('بیشم', 0.19765667617321014),\n",
              " ('بهشتی', 0.1976536065340042),\n",
              " ('بدادم', 0.19757811725139618),\n",
              " ('فزای', 0.19754214584827423),\n",
              " ('نگرید', 0.19743604958057404),\n",
              " ('برو', 0.19741351902484894),\n",
              " ('نبندد', 0.19728313386440277),\n",
              " ('فایده', 0.19725167751312256),\n",
              " ('ظاهر', 0.19719159603118896),\n",
              " ('دیدی', 0.1968688815832138),\n",
              " ('ذوفنون', 0.19681181013584137),\n",
              " ('ماحضر', 0.19678744673728943),\n",
              " ('نخواهی', 0.196712464094162),\n",
              " ('رونق', 0.1963992416858673),\n",
              " ('الموت', 0.19636301696300507),\n",
              " ('بسازی', 0.19636261463165283),\n",
              " ('ساعت', 0.19634702801704407),\n",
              " ('بیزم', 0.1963021159172058),\n",
              " ('مردم', 0.1962825208902359),\n",
              " ('شیرزادهایم', 0.19603992998600006),\n",
              " ('خدابین', 0.19598397612571716),\n",
              " ('لمتری', 0.19584564864635468),\n",
              " ('سنگیم', 0.19574476778507233),\n",
              " ('وقتت', 0.19562366604804993),\n",
              " ('بیدرد', 0.1955849826335907),\n",
              " ('رباید', 0.19540052115917206),\n",
              " ('تیزم', 0.19528082013130188),\n",
              " ('پختهام', 0.19527442753314972),\n",
              " ('آرامگاه', 0.19514523446559906),\n",
              " ('خطش', 0.19513165950775146),\n",
              " ('سگی', 0.19511528313159943),\n",
              " ('فعلاتن', 0.19506306946277618),\n",
              " ('نامی', 0.1949799805879593),\n",
              " ('نکنم', 0.1948312520980835),\n",
              " ('دزدتر', 0.19475896656513214),\n",
              " ('دیدهام', 0.19474083185195923),\n",
              " ('گزیده', 0.19466489553451538),\n",
              " ('هذیان', 0.19461171329021454),\n",
              " ('ساکن', 0.19455337524414062),\n",
              " ('بخشیدن', 0.1944437026977539),\n",
              " ('نشناخته', 0.19436906278133392),\n",
              " ('زهدان', 0.19433799386024475),\n",
              " ('نانبشته', 0.1943289190530777),\n",
              " ('قازغان', 0.19431227445602417),\n",
              " ('فریضه', 0.1942186951637268),\n",
              " ...]"
            ]
          },
          "metadata": {},
          "execution_count": 21
        }
      ]
    },
    {
      "cell_type": "markdown",
      "source": [
        "20 neighbors of 10 random words (first word is the chosen word)"
      ],
      "metadata": {
        "id": "Yd-TBM8ABMyt"
      }
    },
    {
      "cell_type": "code",
      "source": [
        "import random\n",
        "for i in range(10):\n",
        "  random_word = random.choice(list(unique_word_dict.keys()))\n",
        "  neighbors = near_words(random_word)\n",
        "  print(neighbors[0:19])\n",
        "  if i != 9: print(\"NEXT WORD----------------------------\")"
      ],
      "metadata": {
        "id": "Qif_Q_WZBTD1",
        "colab": {
          "base_uri": "https://localhost:8080/"
        },
        "outputId": "b72015df-7422-46e2-e026-5e6a59e63c11"
      },
      "execution_count": null,
      "outputs": [
        {
          "output_type": "stream",
          "name": "stdout",
          "text": [
            "[('بهشتم', 1.0), ('بدل', 0.9468671083450317), ('ثوابم', 0.8804362416267395), ('کیش', 0.8289033770561218), ('فتوح', 0.8146467804908752), ('فتوحم', 0.768086314201355), ('اسلم', 0.766749918460846), ('آگاهم', 0.7440525889396667), ('بوبک', 0.7405620217323303), ('صبوحم', 0.7253013253211975), ('عمل', 0.7147904634475708), ('سی', 0.701420783996582), ('دلربام', 0.6930797100067139), ('القلب', 0.6753135323524475), ('درودن', 0.6731040477752686), ('فلکیم', 0.6669403314590454), ('ملازم', 0.6561657786369324), ('نافع', 0.6559911966323853), ('مصحف', 0.6422165036201477)]\n",
            "NEXT WORD----------------------------\n",
            "[('فرمود', 1.0), ('بیگفت', 0.6296069622039795), ('سوره', 0.6078264117240906), ('قصهای', 0.5793396830558777), ('نامدی', 0.5721064805984497), ('نمردم', 0.5630098581314087), ('کهفم', 0.5461026430130005), ('بالذت', 0.5321905016899109), ('حریص', 0.5199543237686157), ('خطابت', 0.5134268999099731), ('قیمتم', 0.5121840238571167), ('بفرما', 0.5097918510437012), ('خونها', 0.506389856338501), ('جسمانیان', 0.5060960054397583), ('کنز', 0.5052404999732971), ('نمییابد', 0.5045328140258789), ('لاترکن', 0.5042169094085693), ('کودکم', 0.5027951598167419), ('گرفتهای', 0.5024225115776062)]\n",
            "NEXT WORD----------------------------\n",
            "[('بشورانی', 1.0), ('بیکس', 0.6430547833442688), ('زنجیر', 0.6308596134185791), ('خمی', 0.607790470123291), ('ضیا', 0.5879483222961426), ('مانا', 0.5797399282455444), ('عطایی', 0.5760869979858398), ('داشتیم', 0.5745793581008911), ('چنینم', 0.5711949467658997), ('بندانند', 0.549017608165741), ('بمگو', 0.5473936796188354), ('گول', 0.5404766798019409), ('توبهست', 0.5377060770988464), ('فرمودی', 0.5375233292579651), ('اندوختم', 0.536118745803833), ('عشیقی', 0.5340217351913452), ('میم', 0.5304727554321289), ('کاقبال', 0.5257629156112671), ('بیبیان', 0.5250893831253052)]\n",
            "NEXT WORD----------------------------\n",
            "[('حیرت', 1.0), ('همیحیران', 0.6579530239105225), ('مبعث', 0.6172809600830078), ('نیاری', 0.6167778968811035), ('غریبانه', 0.6156594157218933), ('فرشنا', 0.6043291687965393), ('صارم', 0.5956459641456604), ('طیبت', 0.5939670205116272), ('قمار', 0.5939613580703735), ('حصه', 0.5809026956558228), ('صورتیم', 0.5801545977592468), ('منظر', 0.57895827293396), ('آزمونم', 0.5783235430717468), ('عناصر', 0.5779010057449341), ('شش', 0.5702241063117981), ('غوغاست', 0.5698567628860474), ('بجنبانی', 0.5681960582733154), ('آوردهاند', 0.567034125328064), ('خارج', 0.5607671737670898)]\n",
            "NEXT WORD----------------------------\n",
            "[('بالش', 1.0), ('الاعلی', 0.7025700807571411), ('بیبال', 0.6836451292037964), ('برگشاییم', 0.6800897717475891), ('کبوتربچگان', 0.6676620244979858), ('اراجیف', 0.667030930519104), ('پریدهاند', 0.6467229127883911), ('مندیش', 0.6432473063468933), ('پرورش', 0.6412878632545471), ('بلاست', 0.6339982748031616), ('بازآییم', 0.6268556714057922), ('بالت', 0.6039530038833618), ('ورزیدن', 0.6002135276794434), ('عنقای', 0.5948689579963684), ('بال', 0.5915011763572693), ('بالها', 0.5851721167564392), ('شکمت', 0.5771814584732056), ('مکسبهها', 0.5626469850540161), ('املاک', 0.557802140712738)]\n",
            "NEXT WORD----------------------------\n",
            "[('نمیگنجد', 1.0), ('هیبت', 0.5688896775245667), ('اخرس', 0.536674976348877), ('خوشت', 0.5345826745033264), ('دوتا', 0.5120622515678406), ('خاکساری', 0.511553943157196), ('هدهدان', 0.48522788286209106), ('داهول', 0.46674397587776184), ('کاف', 0.4587481617927551), ('فضولیهای', 0.4424046576023102), ('گرید', 0.43558889627456665), ('درستی', 0.42984771728515625), ('قطعه', 0.4293213188648224), ('فنم', 0.42855575680732727), ('لبهای', 0.42818954586982727), ('سمندم', 0.4252149760723114), ('حصه', 0.42262914776802063), ('میوهها', 0.42209869623184204), ('گامی', 0.4214118421077728)]\n",
            "NEXT WORD----------------------------\n",
            "[('بپراند', 1.0), ('برخواند', 0.8480761051177979), ('بیوفا', 0.8238374590873718), ('بنشاند', 0.7953873872756958), ('شاعر', 0.7688049674034119), ('کآینه', 0.7611703276634216), ('همدمی', 0.7550854682922363), ('دونم', 0.7532841563224792), ('بپیچاند', 0.7509445548057556), ('نوع', 0.7461610436439514), ('وارهانم', 0.7453467845916748), ('افزونیم', 0.7314819097518921), ('همانیم', 0.7106744050979614), ('خسروا', 0.6922414898872375), ('کمانش', 0.6912494897842407), ('دهر', 0.683616578578949), ('خمش', 0.6802816390991211), ('جهانش', 0.6757650971412659), ('بیخویش', 0.6730542182922363)]\n",
            "NEXT WORD----------------------------\n",
            "[('پیرم', 1.0), ('گلوپرستم', 0.6001743078231812), ('بخند', 0.5829686522483826), ('همراهند', 0.5507567524909973), ('بگوییدش', 0.5265396237373352), ('گزیرم', 0.5257693529129028), ('نیارایی', 0.5247820615768433), ('روزا', 0.521847665309906), ('اشکاریم', 0.4999895393848419), ('بستی', 0.49792638421058655), ('ساله', 0.497859925031662), ('تعبیرش', 0.4969376027584076), ('عیانیم', 0.4888450503349304), ('مسیحی', 0.4846324920654297), ('سزایم', 0.4819602370262146), ('مصاف', 0.4788142740726471), ('عوان', 0.47758662700653076), ('روانم', 0.4760310649871826), ('فردام', 0.47435909509658813)]\n",
            "NEXT WORD----------------------------\n",
            "[('زبانهست', 1.0), ('ملیحی', 0.660046398639679), ('بکشتی', 0.626872718334198), ('رنگم', 0.6249229311943054), ('برسی', 0.6130933165550232), ('بالذت', 0.6128393411636353), ('جانشان', 0.6043632626533508), ('جسمانیان', 0.6040964126586914), ('بیمغزند', 0.5987499356269836), ('احمقم', 0.5909897089004517), ('لعبتی', 0.5863509774208069), ('سیریت', 0.5846213698387146), ('سودن', 0.5776795744895935), ('درربایم', 0.5773451328277588), ('بیاور', 0.5726712346076965), ('قیمتم', 0.5694621205329895), ('بدانی', 0.5688216090202332), ('همیگویی', 0.5679097771644592), ('جویایی', 0.5668275356292725)]\n",
            "NEXT WORD----------------------------\n",
            "[('افتخارم', 1.0), ('بروت', 0.5298426747322083), ('عار', 0.5245347023010254), ('نطق', 0.5243922472000122), ('خبرهای', 0.47855687141418457), ('کینی', 0.4723441004753113), ('موسوی', 0.4510228633880615), ('واجویم', 0.4448911249637604), ('منتظران', 0.4404025971889496), ('بحریان', 0.43969428539276123), ('شاخههای', 0.43381133675575256), ('سرمای', 0.4258382022380829), ('قندش', 0.418915718793869), ('برداشتن', 0.41657528281211853), ('موش', 0.4053209125995636), ('شبگیرم', 0.4051014482975006), ('این', 0.40497860312461853), ('پرشهد', 0.40218839049339294), ('نتاند', 0.40195590257644653)]\n"
          ]
        }
      ]
    }
  ],
  "metadata": {
    "kernelspec": {
      "display_name": "Python 3 (ipykernel)",
      "language": "python",
      "name": "python3"
    },
    "language_info": {
      "codemirror_mode": {
        "name": "ipython",
        "version": 3
      },
      "file_extension": ".py",
      "mimetype": "text/x-python",
      "name": "python",
      "nbconvert_exporter": "python",
      "pygments_lexer": "ipython3",
      "version": "3.10.2"
    },
    "colab": {
      "name": "exercise1.ipynb",
      "provenance": [],
      "collapsed_sections": [
        "nB3xn73zwaGT"
      ]
    }
  },
  "nbformat": 4,
  "nbformat_minor": 0
}
