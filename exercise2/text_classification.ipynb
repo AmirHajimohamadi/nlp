{
 "cells": [
  {
   "cell_type": "markdown",
   "id": "578ebfdb",
   "metadata": {
    "id": "tHiJhxAvir1r",
    "papermill": {
     "duration": 0.008674,
     "end_time": "2022-07-13T15:17:27.556436",
     "exception": false,
     "start_time": "2022-07-13T15:17:27.547762",
     "status": "completed"
    },
    "tags": []
   },
   "source": [
    "## Importing Libraries"
   ]
  },
  {
   "cell_type": "code",
   "execution_count": 1,
   "id": "894929c9",
   "metadata": {
    "execution": {
     "iopub.execute_input": "2022-07-13T15:17:27.572683Z",
     "iopub.status.busy": "2022-07-13T15:17:27.572261Z",
     "iopub.status.idle": "2022-07-13T15:17:59.613981Z",
     "shell.execute_reply": "2022-07-13T15:17:59.612086Z"
    },
    "id": "1CVPy7QPih6g",
    "outputId": "9f9e82bc-686c-415c-d3a7-9a7f1aecce24",
    "papermill": {
     "duration": 32.060714,
     "end_time": "2022-07-13T15:17:59.624479",
     "exception": false,
     "start_time": "2022-07-13T15:17:27.563765",
     "status": "completed"
    },
    "tags": []
   },
   "outputs": [
    {
     "name": "stdout",
     "output_type": "stream",
     "text": [
      "Collecting gdown\r\n",
      "  Downloading gdown-4.5.1.tar.gz (14 kB)\r\n",
      "  Installing build dependencies ... \u001b[?25l-\b \b\\\b \b|\b \b/\b \b-\b \b\\\b \bdone\r\n",
      "\u001b[?25h  Getting requirements to build wheel ... \u001b[?25l-\b \bdone\r\n",
      "\u001b[?25h  Preparing metadata (pyproject.toml) ... \u001b[?25l-\b \bdone\r\n",
      "\u001b[?25hRequirement already satisfied: requests[socks] in /opt/conda/lib/python3.7/site-packages (from gdown) (2.27.1)\r\n",
      "Requirement already satisfied: filelock in /opt/conda/lib/python3.7/site-packages (from gdown) (3.6.0)\r\n",
      "Requirement already satisfied: beautifulsoup4 in /opt/conda/lib/python3.7/site-packages (from gdown) (4.11.1)\r\n",
      "Requirement already satisfied: six in /opt/conda/lib/python3.7/site-packages (from gdown) (1.16.0)\r\n",
      "Requirement already satisfied: tqdm in /opt/conda/lib/python3.7/site-packages (from gdown) (4.64.0)\r\n",
      "Requirement already satisfied: soupsieve>1.2 in /opt/conda/lib/python3.7/site-packages (from beautifulsoup4->gdown) (2.3.1)\r\n",
      "Requirement already satisfied: urllib3<1.27,>=1.21.1 in /opt/conda/lib/python3.7/site-packages (from requests[socks]->gdown) (1.26.9)\r\n",
      "Requirement already satisfied: idna<4,>=2.5 in /opt/conda/lib/python3.7/site-packages (from requests[socks]->gdown) (3.3)\r\n",
      "Requirement already satisfied: charset-normalizer~=2.0.0 in /opt/conda/lib/python3.7/site-packages (from requests[socks]->gdown) (2.0.12)\r\n",
      "Requirement already satisfied: certifi>=2017.4.17 in /opt/conda/lib/python3.7/site-packages (from requests[socks]->gdown) (2022.6.15)\r\n",
      "Requirement already satisfied: PySocks!=1.5.7,>=1.5.6 in /opt/conda/lib/python3.7/site-packages (from requests[socks]->gdown) (1.7.1)\r\n",
      "Building wheels for collected packages: gdown\r\n",
      "  Building wheel for gdown (pyproject.toml) ... \u001b[?25l-\b \bdone\r\n",
      "\u001b[?25h  Created wheel for gdown: filename=gdown-4.5.1-py3-none-any.whl size=14933 sha256=d91987807bea7937c6ad4fb18ba9046d4e0449925d70b95ad97d56220656421d\r\n",
      "  Stored in directory: /root/.cache/pip/wheels/3d/ec/b0/a96d1d126183f98570a785e6bf8789fca559853a9260e928e1\r\n",
      "Successfully built gdown\r\n",
      "Installing collected packages: gdown\r\n",
      "Successfully installed gdown-4.5.1\r\n",
      "\u001b[33mWARNING: Running pip as the 'root' user can result in broken permissions and conflicting behaviour with the system package manager. It is recommended to use a virtual environment instead: https://pip.pypa.io/warnings/venv\u001b[0m\u001b[33m\r\n",
      "\u001b[0m"
     ]
    },
    {
     "name": "stderr",
     "output_type": "stream",
     "text": [
      "/opt/conda/lib/python3.7/site-packages/ipykernel_launcher.py:16: FutureWarning: Passing a negative integer is deprecated in version 1.0 and will not be supported in future version. Instead, use None to not limit the column width.\n",
      "  \n"
     ]
    }
   ],
   "source": [
    "! pip install gdown\n",
    "import tensorflow as tf\n",
    "from tensorflow import keras\n",
    "import numpy as np \n",
    "import matplotlib.pyplot as plt\n",
    "import os\n",
    "\n",
    "from tensorflow.keras.preprocessing.text import Tokenizer\n",
    "from tensorflow.keras.preprocessing.sequence import pad_sequences\n",
    "from sklearn.model_selection import train_test_split\n",
    "from sklearn.metrics import classification_report, confusion_matrix\n",
    "from tensorflow.keras.layers import Embedding\n",
    "import seaborn as sns\n",
    "sns.set_theme()\n",
    "import pandas as pd\n",
    "pd.set_option('display.max_colwidth', -1)"
   ]
  },
  {
   "cell_type": "markdown",
   "id": "be19c81c",
   "metadata": {
    "id": "vcDOqSuxi1X4",
    "papermill": {
     "duration": 0.008205,
     "end_time": "2022-07-13T15:17:59.641996",
     "exception": false,
     "start_time": "2022-07-13T15:17:59.633791",
     "status": "completed"
    },
    "tags": []
   },
   "source": [
    "## Getting our dataset"
   ]
  },
  {
   "cell_type": "markdown",
   "id": "f74b6ea2",
   "metadata": {
    "id": "9jA-wRPfi9Je",
    "papermill": {
     "duration": 0.008102,
     "end_time": "2022-07-13T15:17:59.658400",
     "exception": false,
     "start_time": "2022-07-13T15:17:59.650298",
     "status": "completed"
    },
    "tags": []
   },
   "source": [
    "### METHOD1: Making the dataset from txt file"
   ]
  },
  {
   "cell_type": "markdown",
   "id": "a57843d7",
   "metadata": {
    "id": "iWelcOutvIx6",
    "papermill": {
     "duration": 0.008188,
     "end_time": "2022-07-13T15:17:59.674890",
     "exception": false,
     "start_time": "2022-07-13T15:17:59.666702",
     "status": "completed"
    },
    "tags": []
   },
   "source": [
    "Downloading dataset from google drive and unzipping it"
   ]
  },
  {
   "cell_type": "code",
   "execution_count": 2,
   "id": "8f7ee346",
   "metadata": {
    "execution": {
     "iopub.execute_input": "2022-07-13T15:17:59.693981Z",
     "iopub.status.busy": "2022-07-13T15:17:59.693414Z",
     "iopub.status.idle": "2022-07-13T15:17:59.697997Z",
     "shell.execute_reply": "2022-07-13T15:17:59.696975Z"
    },
    "id": "XGyP8jmmWApo",
    "outputId": "950124db-158d-4c5d-f72f-1232b96b6f14",
    "papermill": {
     "duration": 0.016633,
     "end_time": "2022-07-13T15:17:59.700315",
     "exception": false,
     "start_time": "2022-07-13T15:17:59.683682",
     "status": "completed"
    },
    "tags": []
   },
   "outputs": [],
   "source": [
    "# !gdown --id 1D3yt99D0GcCRCbdKbUQGxbqjkeh91hTg\n",
    "# !unrar x /content/hamshahri.rar\n",
    "# !unzip /content/hamshahriold/Corpus/Hamshahri-Corpus.zip\n",
    "# !unzip /content/hamshahriold/Corpus/PersianStopWords.zip"
   ]
  },
  {
   "cell_type": "code",
   "execution_count": 3,
   "id": "94ef36bb",
   "metadata": {
    "execution": {
     "iopub.execute_input": "2022-07-13T15:17:59.718105Z",
     "iopub.status.busy": "2022-07-13T15:17:59.717853Z",
     "iopub.status.idle": "2022-07-13T15:17:59.721844Z",
     "shell.execute_reply": "2022-07-13T15:17:59.720678Z"
    },
    "id": "0dajvFi2lDsr",
    "papermill": {
     "duration": 0.015396,
     "end_time": "2022-07-13T15:17:59.724048",
     "exception": false,
     "start_time": "2022-07-13T15:17:59.708652",
     "status": "completed"
    },
    "tags": []
   },
   "outputs": [],
   "source": [
    "# stop_words = []\n",
    "# with open(\"PersianStopWords.txt\", \"r\", encoding=\"utf-8\") as stopwords_retriever:\n",
    "#   for line in stopwords_retriever:\n",
    "#     word = line.strip()\n",
    "#     stop_words.append(word)\n",
    "\n",
    "# stopwords_retriever.close()"
   ]
  },
  {
   "cell_type": "markdown",
   "id": "f2b31538",
   "metadata": {
    "id": "H2UZ2sQCvY9Z",
    "papermill": {
     "duration": 0.008328,
     "end_time": "2022-07-13T15:17:59.741319",
     "exception": false,
     "start_time": "2022-07-13T15:17:59.732991",
     "status": "completed"
    },
    "tags": []
   },
   "source": [
    "Writing data rows to a list"
   ]
  },
  {
   "cell_type": "code",
   "execution_count": 4,
   "id": "b3808a35",
   "metadata": {
    "execution": {
     "iopub.execute_input": "2022-07-13T15:17:59.759795Z",
     "iopub.status.busy": "2022-07-13T15:17:59.759309Z",
     "iopub.status.idle": "2022-07-13T15:17:59.763139Z",
     "shell.execute_reply": "2022-07-13T15:17:59.762221Z"
    },
    "id": "qutRx7DOtnyL",
    "outputId": "094cf195-e069-4322-eedd-ee26bc4de1b8",
    "papermill": {
     "duration": 0.015323,
     "end_time": "2022-07-13T15:17:59.764992",
     "exception": false,
     "start_time": "2022-07-13T15:17:59.749669",
     "status": "completed"
    },
    "tags": []
   },
   "outputs": [],
   "source": [
    "# !pip install hazm\n",
    "# from __future__ import unicode_literals\n",
    "# from hazm import *"
   ]
  },
  {
   "cell_type": "code",
   "execution_count": 5,
   "id": "d2a10ddf",
   "metadata": {
    "execution": {
     "iopub.execute_input": "2022-07-13T15:17:59.783359Z",
     "iopub.status.busy": "2022-07-13T15:17:59.782637Z",
     "iopub.status.idle": "2022-07-13T15:17:59.787872Z",
     "shell.execute_reply": "2022-07-13T15:17:59.787018Z"
    },
    "id": "LYglMTniWxpR",
    "papermill": {
     "duration": 0.01636,
     "end_time": "2022-07-13T15:17:59.789738",
     "exception": false,
     "start_time": "2022-07-13T15:17:59.773378",
     "status": "completed"
    },
    "tags": []
   },
   "outputs": [],
   "source": [
    "# row = [\"\",\"\",\"\",\"\"]\n",
    "# rows = []\n",
    "# is_first = True\n",
    "# with open(\"Hamshahri-Corpus.txt\", \"r\", encoding=\"utf-8\") as corpus_reader:\n",
    "#   for line in corpus_reader:\n",
    "#     stripped_line = line.strip()\n",
    "#     if stripped_line == \"\":\n",
    "#         continue\n",
    "            \n",
    "#     else: \n",
    "#         if (stripped_line.startswith(\".DID\")):\n",
    "#             if is_first:\n",
    "#                 is_first = False\n",
    "#             else:\n",
    "#                 # Removing stopwords from rows in each iteration\n",
    "#                 row[3] = [word for word in word_tokenize(row[3]) if word not in stop_words]\n",
    "#                 row[3] = [x for x in row[3] if not (x.isdigit() or x[0] == '-' and x[1:].isdigit())]\n",
    "#                 row[3] = ' '.join(row[3])\n",
    "#                 rows.append(row)\n",
    "#                 row = [\"\",\"\",\"\",\"\"]\n",
    "#             row[0] = stripped_line.split(\".DID\\t\", 1)[1]\n",
    "#         elif (stripped_line.startswith(\".Date\")):\n",
    "#             row[1] = stripped_line.split(\".Date\\t\", 1)[1]\n",
    "#         elif (stripped_line.startswith(\".Cat\")):\n",
    "#             row[2] = stripped_line.split(\".Cat\\t\", 1)[1]\n",
    "#         else:\n",
    "#             row[3] += stripped_line + \" \"\n",
    "    \n",
    "# corpus_reader.close()"
   ]
  },
  {
   "cell_type": "markdown",
   "id": "552e56b4",
   "metadata": {
    "id": "Sbbm-lHBvdcO",
    "papermill": {
     "duration": 0.008312,
     "end_time": "2022-07-13T15:17:59.806644",
     "exception": false,
     "start_time": "2022-07-13T15:17:59.798332",
     "status": "completed"
    },
    "tags": []
   },
   "source": [
    "#### Making a CSV file from rows list"
   ]
  },
  {
   "cell_type": "code",
   "execution_count": 6,
   "id": "c14937ac",
   "metadata": {
    "execution": {
     "iopub.execute_input": "2022-07-13T15:17:59.825168Z",
     "iopub.status.busy": "2022-07-13T15:17:59.824470Z",
     "iopub.status.idle": "2022-07-13T15:17:59.828822Z",
     "shell.execute_reply": "2022-07-13T15:17:59.828007Z"
    },
    "id": "SoFPGd5YXr2n",
    "papermill": {
     "duration": 0.015469,
     "end_time": "2022-07-13T15:17:59.830681",
     "exception": false,
     "start_time": "2022-07-13T15:17:59.815212",
     "status": "completed"
    },
    "tags": []
   },
   "outputs": [],
   "source": [
    "# import csv\n",
    "\n",
    "# header = ['DID', 'Date', 'Cat', 'News']\n",
    "\n",
    "# with open('corpus.csv', 'w', encoding='utf-8', newline='') as corpus_writer:\n",
    "#     writer = csv.writer(corpus_writer)\n",
    "\n",
    "#     # write the header\n",
    "#     writer.writerow(header)\n",
    "\n",
    "#     # write multiple rows\n",
    "#     writer.writerows(rows)\n",
    "\n",
    "# corpus_writer.close()"
   ]
  },
  {
   "cell_type": "code",
   "execution_count": 7,
   "id": "2d462088",
   "metadata": {
    "execution": {
     "iopub.execute_input": "2022-07-13T15:17:59.849209Z",
     "iopub.status.busy": "2022-07-13T15:17:59.848463Z",
     "iopub.status.idle": "2022-07-13T15:17:59.852405Z",
     "shell.execute_reply": "2022-07-13T15:17:59.851620Z"
    },
    "id": "LinDbTmD5L4q",
    "outputId": "2c99d831-61a7-4b92-eeca-0bf57fbaad53",
    "papermill": {
     "duration": 0.015047,
     "end_time": "2022-07-13T15:17:59.854221",
     "exception": false,
     "start_time": "2022-07-13T15:17:59.839174",
     "status": "completed"
    },
    "tags": []
   },
   "outputs": [],
   "source": [
    "# from google.colab import drive\n",
    "# drive.mount('/content/drive')\n",
    "# !cp -r \"/content/corpus.csv\" \"/content/drive/MyDrive/corpus.csv\""
   ]
  },
  {
   "cell_type": "markdown",
   "id": "48f93ea2",
   "metadata": {
    "id": "ZDyfxenijRRb",
    "papermill": {
     "duration": 0.00897,
     "end_time": "2022-07-13T15:17:59.871859",
     "exception": false,
     "start_time": "2022-07-13T15:17:59.862889",
     "status": "completed"
    },
    "tags": []
   },
   "source": [
    "### METHOD2: Using premade CSV file"
   ]
  },
  {
   "cell_type": "code",
   "execution_count": 8,
   "id": "c771a5ea",
   "metadata": {
    "execution": {
     "iopub.execute_input": "2022-07-13T15:17:59.890832Z",
     "iopub.status.busy": "2022-07-13T15:17:59.890183Z",
     "iopub.status.idle": "2022-07-13T15:18:03.133769Z",
     "shell.execute_reply": "2022-07-13T15:18:03.132656Z"
    },
    "id": "llVFg4ZS5KaT",
    "outputId": "ed10607e-4995-427d-e08e-fb52b5847bf0",
    "papermill": {
     "duration": 3.255637,
     "end_time": "2022-07-13T15:18:03.136405",
     "exception": false,
     "start_time": "2022-07-13T15:17:59.880768",
     "status": "completed"
    },
    "tags": []
   },
   "outputs": [
    {
     "name": "stdout",
     "output_type": "stream",
     "text": [
      "/opt/conda/lib/python3.7/site-packages/gdown/cli.py:131: FutureWarning: Option `--id` was deprecated in version 4.3.1 and will be removed in 5.0. You don't need to pass it anymore to use a file ID.\r\n",
      "  category=FutureWarning,\r\n",
      "Downloading...\r\n",
      "From: https://drive.google.com/uc?id=1w4-vTNQ4sXLBcXqG7TCjhNEtQg3cveiH\r\n",
      "To: /kaggle/working/corpus.csv\r\n",
      "100%|█████████████████████████████████████████| 426M/426M [00:01<00:00, 369MB/s]\r\n"
     ]
    }
   ],
   "source": [
    "!gdown --id 1w4-vTNQ4sXLBcXqG7TCjhNEtQg3cveiH\n"
   ]
  },
  {
   "cell_type": "markdown",
   "id": "e9036398",
   "metadata": {
    "id": "AaPJcUGnjx5p",
    "papermill": {
     "duration": 0.009929,
     "end_time": "2022-07-13T15:18:03.156293",
     "exception": false,
     "start_time": "2022-07-13T15:18:03.146364",
     "status": "completed"
    },
    "tags": []
   },
   "source": [
    "## Reading dataset with pandas library"
   ]
  },
  {
   "cell_type": "code",
   "execution_count": 9,
   "id": "6a8166a2",
   "metadata": {
    "execution": {
     "iopub.execute_input": "2022-07-13T15:18:03.176831Z",
     "iopub.status.busy": "2022-07-13T15:18:03.176319Z",
     "iopub.status.idle": "2022-07-13T15:18:09.402270Z",
     "shell.execute_reply": "2022-07-13T15:18:09.401256Z"
    },
    "id": "mAMs7g7Kih6i",
    "papermill": {
     "duration": 6.239317,
     "end_time": "2022-07-13T15:18:09.404944",
     "exception": false,
     "start_time": "2022-07-13T15:18:03.165627",
     "status": "completed"
    },
    "tags": []
   },
   "outputs": [],
   "source": [
    "df = pd.read_csv(\"corpus.csv\")\n",
    "df.set_index('DID', inplace=True)\n",
    "df.drop_duplicates(keep='last', inplace=True) "
   ]
  },
  {
   "cell_type": "markdown",
   "id": "83849be2",
   "metadata": {
    "id": "4fMi8QlVkIkh",
    "papermill": {
     "duration": 0.009426,
     "end_time": "2022-07-13T15:18:09.424466",
     "exception": false,
     "start_time": "2022-07-13T15:18:09.415040",
     "status": "completed"
    },
    "tags": []
   },
   "source": [
    "getting number of Categories"
   ]
  },
  {
   "cell_type": "code",
   "execution_count": 10,
   "id": "315c3796",
   "metadata": {
    "execution": {
     "iopub.execute_input": "2022-07-13T15:18:09.445325Z",
     "iopub.status.busy": "2022-07-13T15:18:09.444996Z",
     "iopub.status.idle": "2022-07-13T15:18:09.490298Z",
     "shell.execute_reply": "2022-07-13T15:18:09.488637Z"
    },
    "id": "FUy11cdakH5x",
    "papermill": {
     "duration": 0.05858,
     "end_time": "2022-07-13T15:18:09.493164",
     "exception": false,
     "start_time": "2022-07-13T15:18:09.434584",
     "status": "completed"
    },
    "tags": []
   },
   "outputs": [
    {
     "name": "stdout",
     "output_type": "stream",
     "text": [
      "We have a total of 105 categories\n"
     ]
    }
   ],
   "source": [
    "print(\"We have a total of {} categories\".format(df['Cat'].nunique()))\n",
    "df['Cat'].value_counts()\n",
    "number_of_unique_cat = df['Cat'].nunique()"
   ]
  },
  {
   "cell_type": "markdown",
   "id": "ba920b79",
   "metadata": {
    "id": "2uiWyz9HklzT",
    "papermill": {
     "duration": 0.009558,
     "end_time": "2022-07-13T15:18:09.512764",
     "exception": false,
     "start_time": "2022-07-13T15:18:09.503206",
     "status": "completed"
    },
    "tags": []
   },
   "source": [
    "## Plotting the categories"
   ]
  },
  {
   "cell_type": "code",
   "execution_count": 11,
   "id": "ec6064dd",
   "metadata": {
    "execution": {
     "iopub.execute_input": "2022-07-13T15:18:09.533781Z",
     "iopub.status.busy": "2022-07-13T15:18:09.533222Z",
     "iopub.status.idle": "2022-07-13T15:18:09.575267Z",
     "shell.execute_reply": "2022-07-13T15:18:09.574365Z"
    },
    "id": "GvPp7eRhnxv4",
    "papermill": {
     "duration": 0.054428,
     "end_time": "2022-07-13T15:18:09.577133",
     "exception": false,
     "start_time": "2022-07-13T15:18:09.522705",
     "status": "completed"
    },
    "tags": []
   },
   "outputs": [],
   "source": [
    "categories = dict(df['Cat'].value_counts())\n",
    "categories_with_small_counts = dict(df['Cat'].value_counts().tail(92))\n",
    "for i in list(categories_with_small_counts):\n",
    "  if (i in categories_with_small_counts.keys()):\n",
    "     categories.pop(i, None)"
   ]
  },
  {
   "cell_type": "code",
   "execution_count": 12,
   "id": "4e4689d5",
   "metadata": {
    "execution": {
     "iopub.execute_input": "2022-07-13T15:18:09.598282Z",
     "iopub.status.busy": "2022-07-13T15:18:09.597912Z",
     "iopub.status.idle": "2022-07-13T15:18:09.621367Z",
     "shell.execute_reply": "2022-07-13T15:18:09.620535Z"
    },
    "id": "2nwPN26Yt-hG",
    "papermill": {
     "duration": 0.036143,
     "end_time": "2022-07-13T15:18:09.623099",
     "exception": false,
     "start_time": "2022-07-13T15:18:09.586956",
     "status": "completed"
    },
    "tags": []
   },
   "outputs": [],
   "source": [
    "categories.update({\"Others\":df['Cat'].value_counts().tail(92).sum()})"
   ]
  },
  {
   "cell_type": "code",
   "execution_count": 13,
   "id": "eb001e35",
   "metadata": {
    "execution": {
     "iopub.execute_input": "2022-07-13T15:18:09.644897Z",
     "iopub.status.busy": "2022-07-13T15:18:09.643396Z",
     "iopub.status.idle": "2022-07-13T15:18:09.955538Z",
     "shell.execute_reply": "2022-07-13T15:18:09.954620Z"
    },
    "id": "KsAm-cgykqZo",
    "outputId": "4177b866-876d-43ba-ce50-07e1d7f3760f",
    "papermill": {
     "duration": 0.325781,
     "end_time": "2022-07-13T15:18:09.958592",
     "exception": false,
     "start_time": "2022-07-13T15:18:09.632811",
     "status": "completed"
    },
    "tags": []
   },
   "outputs": [
    {
     "data": {
      "image/png": "[encoded data removed]",
      "text/plain": [
       "<Figure size 1080x1080 with 1 Axes>"
      ]
     },
     "metadata": {},
     "output_type": "display_data"
    }
   ],
   "source": [
    "fig = plt.figure(figsize=(15,15))\n",
    "plt.pie(categories.values(), \n",
    "        labels=categories.keys(),\n",
    "        autopct='%1.1f%%');"
   ]
  },
  {
   "cell_type": "markdown",
   "id": "34b53cb4",
   "metadata": {
    "id": "66ohYJMNj5bW",
    "papermill": {
     "duration": 0.011246,
     "end_time": "2022-07-13T15:18:09.981254",
     "exception": false,
     "start_time": "2022-07-13T15:18:09.970008",
     "status": "completed"
    },
    "tags": []
   },
   "source": [
    "## Making our train, validation and test data"
   ]
  },
  {
   "cell_type": "code",
   "execution_count": 14,
   "id": "4db3ea2b",
   "metadata": {
    "execution": {
     "iopub.execute_input": "2022-07-13T15:18:10.005555Z",
     "iopub.status.busy": "2022-07-13T15:18:10.005261Z",
     "iopub.status.idle": "2022-07-13T15:18:10.326912Z",
     "shell.execute_reply": "2022-07-13T15:18:10.325954Z"
    },
    "id": "pan2p7Cpih6i",
    "papermill": {
     "duration": 0.336275,
     "end_time": "2022-07-13T15:18:10.329325",
     "exception": false,
     "start_time": "2022-07-13T15:18:09.993050",
     "status": "completed"
    },
    "tags": []
   },
   "outputs": [],
   "source": [
    "X,Y = df['News'],df['Cat']\n",
    "X_train, X_val, y_train, y_val = train_test_split(X,pd.get_dummies(Y), test_size=0.2, random_state = 40)\n",
    "X_val, X_test , y_val, y_test= train_test_split(X_val,y_val, test_size=0.5, random_state = 40)\n",
    "X_train = X_train.astype(str)\n",
    "X_val = X_val.astype(str)\n",
    "X_test = X_test.astype(str)"
   ]
  },
  {
   "cell_type": "code",
   "execution_count": 15,
   "id": "c2fd65bc",
   "metadata": {
    "execution": {
     "iopub.execute_input": "2022-07-13T15:18:10.860899Z",
     "iopub.status.busy": "2022-07-13T15:18:10.860378Z",
     "iopub.status.idle": "2022-07-13T15:18:10.866286Z",
     "shell.execute_reply": "2022-07-13T15:18:10.865305Z"
    },
    "id": "UM_sorU7ih6j",
    "papermill": {
     "duration": 0.464986,
     "end_time": "2022-07-13T15:18:10.871391",
     "exception": false,
     "start_time": "2022-07-13T15:18:10.406405",
     "status": "completed"
    },
    "tags": []
   },
   "outputs": [],
   "source": [
    "vocab_size =20000\n",
    "max_length = 300\n",
    "trunc_type='post'\n",
    "padding_type='post'\n",
    "oov_tok = \"<OOV>\""
   ]
  },
  {
   "cell_type": "markdown",
   "id": "9f9c437d",
   "metadata": {
    "id": "21r287TBj1vh",
    "papermill": {
     "duration": 0.019776,
     "end_time": "2022-07-13T15:18:10.943544",
     "exception": false,
     "start_time": "2022-07-13T15:18:10.923768",
     "status": "completed"
    },
    "tags": []
   },
   "source": [
    "## Tokenizing and Padding"
   ]
  },
  {
   "cell_type": "code",
   "execution_count": 16,
   "id": "b9e88917",
   "metadata": {
    "execution": {
     "iopub.execute_input": "2022-07-13T15:18:10.967617Z",
     "iopub.status.busy": "2022-07-13T15:18:10.967283Z",
     "iopub.status.idle": "2022-07-13T15:19:35.020522Z",
     "shell.execute_reply": "2022-07-13T15:19:35.019313Z"
    },
    "id": "l3PHCcHrih6j",
    "papermill": {
     "duration": 84.079744,
     "end_time": "2022-07-13T15:19:35.034456",
     "exception": false,
     "start_time": "2022-07-13T15:18:10.954712",
     "status": "completed"
    },
    "tags": []
   },
   "outputs": [
    {
     "name": "stdout",
     "output_type": "stream",
     "text": [
      "(132175, 300)\n",
      "(132175, 105)\n",
      "(16522, 300)\n",
      "(16522, 105)\n"
     ]
    }
   ],
   "source": [
    "tokenizer = tf.keras.preprocessing.text.Tokenizer(num_words = vocab_size, oov_token=oov_tok)\n",
    "\n",
    "tokenizer.fit_on_texts(X_train)\n",
    "\n",
    "word_index = tokenizer.word_index\n",
    "\n",
    "X_train = tokenizer.texts_to_sequences(X_train)\n",
    "X_train = pad_sequences(X_train,maxlen= max_length,padding=padding_type, truncating=trunc_type)\n",
    "y_train = np.asarray(y_train)\n",
    "# y_train = pd.get_dummies(y_train)\n",
    "\n",
    "X_val = tokenizer.texts_to_sequences(X_val)\n",
    "X_val = pad_sequences(X_val,maxlen= max_length,padding=padding_type, truncating=trunc_type)\n",
    "y_val = np.asarray(y_val)\n",
    "# y_val = pd.get_dummies(y_val)\n",
    "\n",
    "train_set = np.array(X_train)\n",
    "val_set = np.array(X_val)\n",
    "\n",
    "train_label = np.array(y_train)\n",
    "val_label = np.array(y_val)\n",
    "\n",
    "\n",
    "# y_test = pd.get_dummies(y_test)\n",
    "y_test = np.asarray(y_test)\n",
    "y_test = np.argmax(y_test,axis=1)   #this would be our ground truth label while testing\n",
    "\n",
    "print(train_set.shape)\n",
    "print(train_label.shape)\n",
    "\n",
    "\n",
    "print(val_set.shape)\n",
    "print(val_label.shape)\n",
    "\n",
    "\n",
    "num_tokens = len(tokenizer.word_index.items()) + 2\n",
    "embedding_dim = 50"
   ]
  },
  {
   "cell_type": "markdown",
   "id": "26d650ee",
   "metadata": {
    "id": "jVpHz4mWlVmX",
    "papermill": {
     "duration": 0.011029,
     "end_time": "2022-07-13T15:19:35.057845",
     "exception": false,
     "start_time": "2022-07-13T15:19:35.046816",
     "status": "completed"
    },
    "tags": []
   },
   "source": [
    "## Training the Model"
   ]
  },
  {
   "cell_type": "code",
   "execution_count": 17,
   "id": "91907b4e",
   "metadata": {
    "execution": {
     "iopub.execute_input": "2022-07-13T15:19:35.082865Z",
     "iopub.status.busy": "2022-07-13T15:19:35.082056Z",
     "iopub.status.idle": "2022-07-13T15:19:38.542074Z",
     "shell.execute_reply": "2022-07-13T15:19:38.540683Z"
    },
    "id": "zY3-AJ1gih6m",
    "papermill": {
     "duration": 3.474939,
     "end_time": "2022-07-13T15:19:38.544138",
     "exception": false,
     "start_time": "2022-07-13T15:19:35.069199",
     "status": "completed"
    },
    "tags": []
   },
   "outputs": [
    {
     "name": "stderr",
     "output_type": "stream",
     "text": [
      "2022-07-13 15:19:35.188303: I tensorflow/stream_executor/cuda/cuda_gpu_executor.cc:937] successful NUMA node read from SysFS had negative value (-1), but there must be at least one NUMA node, so returning NUMA node zero\n",
      "2022-07-13 15:19:35.310284: I tensorflow/stream_executor/cuda/cuda_gpu_executor.cc:937] successful NUMA node read from SysFS had negative value (-1), but there must be at least one NUMA node, so returning NUMA node zero\n",
      "2022-07-13 15:19:35.311077: I tensorflow/stream_executor/cuda/cuda_gpu_executor.cc:937] successful NUMA node read from SysFS had negative value (-1), but there must be at least one NUMA node, so returning NUMA node zero\n",
      "2022-07-13 15:19:35.312520: I tensorflow/core/platform/cpu_feature_guard.cc:142] This TensorFlow binary is optimized with oneAPI Deep Neural Network Library (oneDNN) to use the following CPU instructions in performance-critical operations:  AVX2 AVX512F FMA\n",
      "To enable them in other operations, rebuild TensorFlow with the appropriate compiler flags.\n",
      "2022-07-13 15:19:35.312870: I tensorflow/stream_executor/cuda/cuda_gpu_executor.cc:937] successful NUMA node read from SysFS had negative value (-1), but there must be at least one NUMA node, so returning NUMA node zero\n",
      "2022-07-13 15:19:35.313884: I tensorflow/stream_executor/cuda/cuda_gpu_executor.cc:937] successful NUMA node read from SysFS had negative value (-1), but there must be at least one NUMA node, so returning NUMA node zero\n",
      "2022-07-13 15:19:35.314783: I tensorflow/stream_executor/cuda/cuda_gpu_executor.cc:937] successful NUMA node read from SysFS had negative value (-1), but there must be at least one NUMA node, so returning NUMA node zero\n",
      "2022-07-13 15:19:37.911134: I tensorflow/stream_executor/cuda/cuda_gpu_executor.cc:937] successful NUMA node read from SysFS had negative value (-1), but there must be at least one NUMA node, so returning NUMA node zero\n",
      "2022-07-13 15:19:37.912126: I tensorflow/stream_executor/cuda/cuda_gpu_executor.cc:937] successful NUMA node read from SysFS had negative value (-1), but there must be at least one NUMA node, so returning NUMA node zero\n",
      "2022-07-13 15:19:37.912918: I tensorflow/stream_executor/cuda/cuda_gpu_executor.cc:937] successful NUMA node read from SysFS had negative value (-1), but there must be at least one NUMA node, so returning NUMA node zero\n",
      "2022-07-13 15:19:37.913633: I tensorflow/core/common_runtime/gpu/gpu_device.cc:1510] Created device /job:localhost/replica:0/task:0/device:GPU:0 with 15403 MB memory:  -> device: 0, name: Tesla P100-PCIE-16GB, pci bus id: 0000:00:04.0, compute capability: 6.0\n"
     ]
    },
    {
     "name": "stdout",
     "output_type": "stream",
     "text": [
      "Model: \"sequential\"\n",
      "_________________________________________________________________\n",
      "Layer (type)                 Output Shape              Param #   \n",
      "=================================================================\n",
      "embedding (Embedding)        (None, 300, 50)           19693300  \n",
      "_________________________________________________________________\n",
      "lstm (LSTM)                  (None, 256)               314368    \n",
      "_________________________________________________________________\n",
      "dense (Dense)                (None, 105)               26985     \n",
      "=================================================================\n",
      "Total params: 20,034,653\n",
      "Trainable params: 20,034,653\n",
      "Non-trainable params: 0\n",
      "_________________________________________________________________\n"
     ]
    }
   ],
   "source": [
    "early_stop=tf.keras.callbacks.EarlyStopping(monitor='val_loss', patience=3, min_delta=0.0001)\n",
    "\n",
    "tf.keras.backend.clear_session()\n",
    "model = keras.models.Sequential([\n",
    "                                 \n",
    "        Embedding(num_tokens, embedding_dim, input_length = max_length),\n",
    "        keras.layers.LSTM(256, dropout = 0.6),\n",
    "        keras.layers.Dense(number_of_unique_cat, activation=\"softmax\")\n",
    "            \n",
    "        ])\n",
    "\n",
    "\n",
    "model.summary()"
   ]
  },
  {
   "cell_type": "code",
   "execution_count": 18,
   "id": "88cb1cf0",
   "metadata": {
    "execution": {
     "iopub.execute_input": "2022-07-13T15:19:38.568851Z",
     "iopub.status.busy": "2022-07-13T15:19:38.568579Z",
     "iopub.status.idle": "2022-07-13T15:45:40.246130Z",
     "shell.execute_reply": "2022-07-13T15:45:40.245013Z"
    },
    "id": "3vZWFArNih6m",
    "papermill": {
     "duration": 1561.692689,
     "end_time": "2022-07-13T15:45:40.248625",
     "exception": false,
     "start_time": "2022-07-13T15:19:38.555936",
     "status": "completed"
    },
    "tags": []
   },
   "outputs": [
    {
     "name": "stderr",
     "output_type": "stream",
     "text": [
      "2022-07-13 15:19:38.795667: I tensorflow/compiler/mlir/mlir_graph_optimization_pass.cc:185] None of the MLIR Optimization Passes are enabled (registered 2)\n"
     ]
    },
    {
     "name": "stdout",
     "output_type": "stream",
     "text": [
      "Epoch 1/20\n"
     ]
    },
    {
     "name": "stderr",
     "output_type": "stream",
     "text": [
      "2022-07-13 15:19:41.281741: I tensorflow/stream_executor/cuda/cuda_dnn.cc:369] Loaded cuDNN version 8005\n"
     ]
    },
    {
     "name": "stdout",
     "output_type": "stream",
     "text": [
      "4131/4131 [==============================] - 125s 29ms/step - loss: 3.0150 - accuracy: 0.1404 - val_loss: 2.6021 - val_accuracy: 0.2558\n",
      "Epoch 2/20\n",
      "4131/4131 [==============================] - 120s 29ms/step - loss: 2.3900 - accuracy: 0.3349 - val_loss: 1.9220 - val_accuracy: 0.4460\n",
      "Epoch 3/20\n",
      "4131/4131 [==============================] - 120s 29ms/step - loss: 1.5301 - accuracy: 0.5757 - val_loss: 1.1918 - val_accuracy: 0.6639\n",
      "Epoch 4/20\n",
      "4131/4131 [==============================] - 120s 29ms/step - loss: 1.0778 - accuracy: 0.7030 - val_loss: 0.9615 - val_accuracy: 0.7343\n",
      "Epoch 5/20\n",
      "4131/4131 [==============================] - 120s 29ms/step - loss: 0.9053 - accuracy: 0.7472 - val_loss: 0.8706 - val_accuracy: 0.7544\n",
      "Epoch 6/20\n",
      "4131/4131 [==============================] - 120s 29ms/step - loss: 0.8064 - accuracy: 0.7707 - val_loss: 0.8207 - val_accuracy: 0.7654\n",
      "Epoch 7/20\n",
      "4131/4131 [==============================] - 120s 29ms/step - loss: 0.7334 - accuracy: 0.7889 - val_loss: 0.8048 - val_accuracy: 0.7711\n",
      "Epoch 8/20\n",
      "4131/4131 [==============================] - 120s 29ms/step - loss: 0.6802 - accuracy: 0.8023 - val_loss: 0.7681 - val_accuracy: 0.7825\n",
      "Epoch 9/20\n",
      "4131/4131 [==============================] - 120s 29ms/step - loss: 0.6379 - accuracy: 0.8119 - val_loss: 0.7596 - val_accuracy: 0.7837\n",
      "Epoch 10/20\n",
      "4131/4131 [==============================] - 120s 29ms/step - loss: 0.6010 - accuracy: 0.8216 - val_loss: 0.7392 - val_accuracy: 0.7916\n",
      "Epoch 11/20\n",
      "4131/4131 [==============================] - 120s 29ms/step - loss: 0.5706 - accuracy: 0.8300 - val_loss: 0.7494 - val_accuracy: 0.7905\n",
      "Epoch 12/20\n",
      "4131/4131 [==============================] - 119s 29ms/step - loss: 0.5439 - accuracy: 0.8356 - val_loss: 0.7507 - val_accuracy: 0.7914\n",
      "Epoch 13/20\n",
      "4131/4131 [==============================] - 120s 29ms/step - loss: 0.5222 - accuracy: 0.8427 - val_loss: 0.7579 - val_accuracy: 0.7914\n"
     ]
    }
   ],
   "source": [
    "opt = keras.optimizers.Adam(learning_rate=0.001)\n",
    "model.compile(loss=\"categorical_crossentropy\", optimizer=opt, metrics=[\"accuracy\"])\n",
    "history = model.fit( train_set,train_label,\n",
    "                     batch_size = 32,\n",
    "                     validation_data = (val_set , val_label),\n",
    "                     validation_steps = len(val_set)//32, epochs=20,\n",
    "                     callbacks=  early_stop )"
   ]
  },
  {
   "cell_type": "markdown",
   "id": "9498c20b",
   "metadata": {
    "id": "nWI7SwC0luyr",
    "papermill": {
     "duration": 1.917271,
     "end_time": "2022-07-13T15:45:43.882261",
     "exception": false,
     "start_time": "2022-07-13T15:45:41.964990",
     "status": "completed"
    },
    "tags": []
   },
   "source": [
    "### Ploting the training process"
   ]
  },
  {
   "cell_type": "code",
   "execution_count": 19,
   "id": "0c23dc8f",
   "metadata": {
    "execution": {
     "iopub.execute_input": "2022-07-13T15:45:47.263682Z",
     "iopub.status.busy": "2022-07-13T15:45:47.263337Z",
     "iopub.status.idle": "2022-07-13T15:46:02.498892Z",
     "shell.execute_reply": "2022-07-13T15:46:02.498021Z"
    },
    "id": "Z081xkuRluB2",
    "papermill": {
     "duration": 17.00336,
     "end_time": "2022-07-13T15:46:02.500898",
     "exception": false,
     "start_time": "2022-07-13T15:45:45.497538",
     "status": "completed"
    },
    "tags": []
   },
   "outputs": [
    {
     "data": {
      "text/plain": [
       "<matplotlib.legend.Legend at 0x7f01137ea0d0>"
      ]
     },
     "execution_count": 19,
     "metadata": {},
     "output_type": "execute_result"
    },
    {
     "data": {
      "image/png": "[encoded data removed]",
      "text/plain": [
       "<Figure size 720x720 with 2 Axes>"
      ]
     },
     "metadata": {},
     "output_type": "display_data"
    }
   ],
   "source": [
    "fig = plt.figure(figsize=(10,10))\n",
    "\n",
    "# Plot accuracy\n",
    "plt.subplot(221)\n",
    "plt.plot(history.history['accuracy'],'bo-', label = \"acc\")\n",
    "plt.plot(history.history['val_accuracy'], 'ro-', label = \"val_acc\")\n",
    "plt.title(\"train_accuracy vs val_accuracy\")\n",
    "plt.ylabel(\"accuracy\")\n",
    "plt.xlabel(\"epochs\")\n",
    "plt.grid(True)\n",
    "plt.legend()\n",
    "\n",
    "# Plot loss function\n",
    "plt.subplot(222)\n",
    "plt.plot(history.history['loss'],'bo-', label = \"loss\")\n",
    "plt.plot(history.history['val_loss'], 'ro-', label = \"val_loss\")\n",
    "plt.title(\"train_loss vs val_loss\")\n",
    "plt.ylabel(\"loss\")\n",
    "plt.xlabel(\"epochs\")\n",
    "plt.grid(True)\n",
    "plt.legend()"
   ]
  },
  {
   "cell_type": "markdown",
   "id": "53941f3b",
   "metadata": {
    "id": "fSa0r-iIlZb6",
    "papermill": {
     "duration": 1.98469,
     "end_time": "2022-07-13T15:46:06.095258",
     "exception": false,
     "start_time": "2022-07-13T15:46:04.110568",
     "status": "completed"
    },
    "tags": []
   },
   "source": [
    "## Testing the Model"
   ]
  },
  {
   "cell_type": "code",
   "execution_count": 20,
   "id": "0825a1c2",
   "metadata": {
    "execution": {
     "iopub.execute_input": "2022-07-13T15:46:09.408680Z",
     "iopub.status.busy": "2022-07-13T15:46:09.408198Z",
     "iopub.status.idle": "2022-07-13T15:46:09.433744Z",
     "shell.execute_reply": "2022-07-13T15:46:09.432418Z"
    },
    "id": "EiCko6buih6n",
    "papermill": {
     "duration": 1.721986,
     "end_time": "2022-07-13T15:46:09.437241",
     "exception": false,
     "start_time": "2022-07-13T15:46:07.715255",
     "status": "completed"
    },
    "tags": []
   },
   "outputs": [],
   "source": [
    "classes = df['Cat'].value_counts().index\n",
    "\n",
    "def prediction(inference_data):\n",
    "    X = tokenizer.texts_to_sequences(inference_data)\n",
    "    X = pad_sequences(X,maxlen= max_length,padding=padding_type, truncating=trunc_type)\n",
    "    pred = model.predict(X)\n",
    "    pred_value = tf.argmax(pred,axis =1).numpy()                \n",
    "    return pred_value"
   ]
  },
  {
   "cell_type": "code",
   "execution_count": 21,
   "id": "b4ae0554",
   "metadata": {
    "execution": {
     "iopub.execute_input": "2022-07-13T15:46:12.875350Z",
     "iopub.status.busy": "2022-07-13T15:46:12.874991Z",
     "iopub.status.idle": "2022-07-13T15:46:22.354829Z",
     "shell.execute_reply": "2022-07-13T15:46:22.351292Z"
    },
    "id": "Dni_nzrQih6n",
    "papermill": {
     "duration": 11.194716,
     "end_time": "2022-07-13T15:46:22.357164",
     "exception": false,
     "start_time": "2022-07-13T15:46:11.162448",
     "status": "completed"
    },
    "tags": []
   },
   "outputs": [
    {
     "name": "stdout",
     "output_type": "stream",
     "text": [
      "              precision    recall  f1-score   support\n",
      "\n",
      "           0       0.00      0.00      0.00         3\n",
      "           4       0.00      0.00      0.00         1\n",
      "           5       0.43      0.45      0.44        67\n",
      "           7       0.00      0.00      0.00         3\n",
      "          10       0.00      0.00      0.00         1\n",
      "          13       0.00      0.00      0.00         3\n",
      "          15       0.00      0.00      0.00         1\n",
      "          16       0.00      0.00      0.00         2\n",
      "          17       0.00      0.00      0.00         2\n",
      "          18       0.00      0.00      0.00         1\n",
      "          19       0.00      0.00      0.00         1\n",
      "          20       0.50      0.33      0.40         3\n",
      "          23       0.36      0.45      0.40        44\n",
      "          24       0.71      0.66      0.68       514\n",
      "          25       0.00      0.00      0.00         5\n",
      "          26       0.43      0.44      0.44       142\n",
      "          27       0.76      0.82      0.78      1342\n",
      "          28       0.00      0.00      0.00        11\n",
      "          29       0.44      0.80      0.57       100\n",
      "          30       0.98      1.00      0.99        55\n",
      "          31       0.45      0.67      0.53        75\n",
      "          32       0.29      0.08      0.12        25\n",
      "          33       0.09      0.12      0.10        24\n",
      "          34       0.00      0.00      0.00         8\n",
      "          35       0.94      1.00      0.97        16\n",
      "          36       0.00      0.00      0.00         9\n",
      "          37       0.00      0.00      0.00        11\n",
      "          38       0.62      0.24      0.34        21\n",
      "          39       0.09      0.12      0.10        33\n",
      "          41       0.35      0.33      0.34        18\n",
      "          42       0.32      0.15      0.21        39\n",
      "          43       0.61      0.72      0.66        86\n",
      "          44       0.72      0.83      0.77       820\n",
      "          45       0.55      0.56      0.56       184\n",
      "          46       0.79      0.75      0.77       905\n",
      "          47       0.87      0.93      0.90      1735\n",
      "          48       0.37      0.40      0.38        35\n",
      "          49       0.00      0.00      0.00         1\n",
      "          51       0.72      0.42      0.53        31\n",
      "          52       0.56      0.21      0.30        24\n",
      "          53       0.00      0.00      0.00         3\n",
      "          55       0.28      0.20      0.23       146\n",
      "          57       0.77      0.83      0.80       731\n",
      "          58       0.50      0.40      0.44         5\n",
      "          59       0.78      0.80      0.79       408\n",
      "          61       1.00      0.14      0.25        14\n",
      "          62       0.00      0.00      0.00         2\n",
      "          63       0.38      0.56      0.45         9\n",
      "          64       0.57      0.54      0.55        78\n",
      "          65       0.67      0.55      0.60        22\n",
      "          66       0.87      0.60      0.71       113\n",
      "          67       0.93      0.95      0.94      1461\n",
      "          68       0.75      0.29      0.42        31\n",
      "          69       0.40      0.50      0.45        50\n",
      "          70       0.00      0.00      0.00         4\n",
      "          71       0.60      0.56      0.58       148\n",
      "          72       0.51      0.62      0.56        61\n",
      "          73       0.00      0.00      0.00         5\n",
      "          74       0.43      0.37      0.40        78\n",
      "          75       0.00      0.00      0.00         6\n",
      "          76       1.00      0.08      0.15        12\n",
      "          77       0.36      0.41      0.38        69\n",
      "          78       0.27      0.14      0.18        43\n",
      "          79       0.66      0.85      0.74       117\n",
      "          80       0.00      0.00      0.00         3\n",
      "          81       0.64      0.86      0.73       135\n",
      "          82       0.19      0.08      0.11        37\n",
      "          83       0.21      0.22      0.22        54\n",
      "          84       0.44      0.41      0.42        17\n",
      "          85       0.58      0.49      0.53        39\n",
      "          86       0.77      0.67      0.72       842\n",
      "          87       0.07      0.20      0.10        10\n",
      "          88       0.90      0.80      0.85      1034\n",
      "          89       0.54      0.26      0.35        57\n",
      "          90       0.92      0.88      0.90       818\n",
      "          91       0.89      0.89      0.89      1755\n",
      "          92       0.11      0.06      0.07        18\n",
      "          93       0.51      0.26      0.34       121\n",
      "          94       0.67      0.43      0.52        42\n",
      "          95       0.70      0.91      0.80       117\n",
      "          96       0.53      0.80      0.63        25\n",
      "          97       0.45      0.86      0.59        21\n",
      "          98       0.00      0.00      0.00         4\n",
      "          99       0.00      0.00      0.00        22\n",
      "         100       0.95      0.97      0.96      1272\n",
      "         101       1.00      0.29      0.44         7\n",
      "         102       0.28      0.28      0.28        18\n",
      "         103       0.00      0.00      0.00         8\n",
      "         104       0.00      0.00      0.00        29\n",
      "\n",
      "    accuracy                           0.79     16522\n",
      "   macro avg       0.40      0.37      0.36     16522\n",
      "weighted avg       0.78      0.79      0.78     16522\n",
      "\n"
     ]
    },
    {
     "name": "stderr",
     "output_type": "stream",
     "text": [
      "/opt/conda/lib/python3.7/site-packages/sklearn/metrics/_classification.py:1318: UndefinedMetricWarning: Precision and F-score are ill-defined and being set to 0.0 in labels with no predicted samples. Use `zero_division` parameter to control this behavior.\n",
      "  _warn_prf(average, modifier, msg_start, len(result))\n",
      "/opt/conda/lib/python3.7/site-packages/sklearn/metrics/_classification.py:1318: UndefinedMetricWarning: Precision and F-score are ill-defined and being set to 0.0 in labels with no predicted samples. Use `zero_division` parameter to control this behavior.\n",
      "  _warn_prf(average, modifier, msg_start, len(result))\n",
      "/opt/conda/lib/python3.7/site-packages/sklearn/metrics/_classification.py:1318: UndefinedMetricWarning: Precision and F-score are ill-defined and being set to 0.0 in labels with no predicted samples. Use `zero_division` parameter to control this behavior.\n",
      "  _warn_prf(average, modifier, msg_start, len(result))\n"
     ]
    }
   ],
   "source": [
    "y_pred = prediction(X_test)\n",
    "print(classification_report(np.asarray(y_test),np.asarray( y_pred)))"
   ]
  },
  {
   "cell_type": "markdown",
   "id": "6d7a9051",
   "metadata": {
    "id": "LLl_ABJnlcXS",
    "papermill": {
     "duration": 2.251576,
     "end_time": "2022-07-13T15:46:26.235039",
     "exception": false,
     "start_time": "2022-07-13T15:46:23.983463",
     "status": "completed"
    },
    "tags": []
   },
   "source": [
    "### Save Model"
   ]
  },
  {
   "cell_type": "code",
   "execution_count": 22,
   "id": "b07f9ac6",
   "metadata": {
    "execution": {
     "iopub.execute_input": "2022-07-13T15:46:29.828907Z",
     "iopub.status.busy": "2022-07-13T15:46:29.828399Z",
     "iopub.status.idle": "2022-07-13T15:46:41.273822Z",
     "shell.execute_reply": "2022-07-13T15:46:41.272732Z"
    },
    "id": "2RuBlSNpih6n",
    "papermill": {
     "duration": 13.126134,
     "end_time": "2022-07-13T15:46:41.276137",
     "exception": false,
     "start_time": "2022-07-13T15:46:28.150003",
     "status": "completed"
    },
    "tags": []
   },
   "outputs": [
    {
     "name": "stdout",
     "output_type": "stream",
     "text": [
      "Collecting tables\r\n",
      "  Downloading tables-3.7.0-cp37-cp37m-manylinux_2_17_x86_64.manylinux2014_x86_64.whl (5.9 MB)\r\n",
      "\u001b[2K     \u001b[90m━━━━━━━━━━━━━━━━━━━━━━━━━━━━━━━━━━━━━━━━\u001b[0m \u001b[32m5.9/5.9 MB\u001b[0m \u001b[31m13.1 MB/s\u001b[0m eta \u001b[36m0:00:00\u001b[0m\r\n",
      "\u001b[?25hRequirement already satisfied: numexpr>=2.6.2 in /opt/conda/lib/python3.7/site-packages (from tables) (2.8.3)\r\n",
      "Requirement already satisfied: packaging in /opt/conda/lib/python3.7/site-packages (from tables) (21.3)\r\n",
      "Requirement already satisfied: numpy>=1.19.0 in /opt/conda/lib/python3.7/site-packages (from tables) (1.21.6)\r\n",
      "Requirement already satisfied: pyparsing!=3.0.5,>=2.0.2 in /opt/conda/lib/python3.7/site-packages (from packaging->tables) (3.0.9)\r\n",
      "Installing collected packages: tables\r\n",
      "Successfully installed tables-3.7.0\r\n",
      "\u001b[33mWARNING: Running pip as the 'root' user can result in broken permissions and conflicting behaviour with the system package manager. It is recommended to use a virtual environment instead: https://pip.pypa.io/warnings/venv\u001b[0m\u001b[33m\r\n",
      "\u001b[0m"
     ]
    }
   ],
   "source": [
    "!pip install tables\n",
    "import tables\n",
    "model.save(\"final_classifier.h5\")\n",
    "\n",
    "tables.file._open_files.close_all()"
   ]
  },
  {
   "cell_type": "markdown",
   "id": "7d595488",
   "metadata": {
    "id": "1L-S7x7Dg2i2",
    "papermill": {
     "duration": 1.730042,
     "end_time": "2022-07-13T15:46:44.632053",
     "exception": false,
     "start_time": "2022-07-13T15:46:42.902011",
     "status": "completed"
    },
    "tags": []
   },
   "source": [
    "### Load Model"
   ]
  },
  {
   "cell_type": "code",
   "execution_count": 23,
   "id": "962c8c12",
   "metadata": {
    "execution": {
     "iopub.execute_input": "2022-07-13T15:46:47.933006Z",
     "iopub.status.busy": "2022-07-13T15:46:47.932081Z",
     "iopub.status.idle": "2022-07-13T15:46:47.936940Z",
     "shell.execute_reply": "2022-07-13T15:46:47.936033Z"
    },
    "id": "KXGgnrPmgYFA",
    "outputId": "466e3fea-982d-4bbd-8e9f-940cd3545b43",
    "papermill": {
     "duration": 1.689847,
     "end_time": "2022-07-13T15:46:47.938967",
     "exception": false,
     "start_time": "2022-07-13T15:46:46.249120",
     "status": "completed"
    },
    "tags": []
   },
   "outputs": [],
   "source": [
    "# !gdown --id 1DkFDtvvug3GG3uPWUv_C3P9Y0SZu5HG8\n",
    "\n",
    "# from keras.models import load_model\n",
    "# model = load_model(\"final_classifier.h5.h5\")"
   ]
  }
 ],
 "metadata": {
  "kernelspec": {
   "display_name": "Python 3",
   "language": "python",
   "name": "python3"
  },
  "language_info": {
   "codemirror_mode": {
    "name": "ipython",
    "version": 3
   },
   "file_extension": ".py",
   "mimetype": "text/x-python",
   "name": "python",
   "nbconvert_exporter": "python",
   "pygments_lexer": "ipython3",
   "version": "3.7.12"
  },
  "papermill": {
   "default_parameters": {},
   "duration": 1774.129943,
   "end_time": "2022-07-13T15:46:53.289783",
   "environment_variables": {},
   "exception": null,
   "input_path": "__notebook__.ipynb",
   "output_path": "__notebook__.ipynb",
   "parameters": {},
   "start_time": "2022-07-13T15:17:19.159840",
   "version": "2.3.4"
  }
 },
 "nbformat": 4,
 "nbformat_minor": 5
}
