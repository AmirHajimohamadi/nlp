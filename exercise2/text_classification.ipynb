{
 "cells": [
  {
   "cell_type": "markdown",
   "id": "578ebfdb",
   "metadata": {
    "id": "tHiJhxAvir1r",
    "papermill": {
     "duration": 0.008674,
     "end_time": "2022-07-13T15:17:27.556436",
     "exception": false,
     "start_time": "2022-07-13T15:17:27.547762",
     "status": "completed"
    },
    "tags": []
   },
   "source": [
    "## Importing Libraries"
   ]
  },
  {
   "cell_type": "code",
   "execution_count": 1,
   "id": "894929c9",
   "metadata": {
    "execution": {
     "iopub.execute_input": "2022-07-13T15:17:27.572683Z",
     "iopub.status.busy": "2022-07-13T15:17:27.572261Z",
     "iopub.status.idle": "2022-07-13T15:17:59.613981Z",
     "shell.execute_reply": "2022-07-13T15:17:59.612086Z"
    },
    "id": "1CVPy7QPih6g",
    "outputId": "9f9e82bc-686c-415c-d3a7-9a7f1aecce24",
    "papermill": {
     "duration": 32.060714,
     "end_time": "2022-07-13T15:17:59.624479",
     "exception": false,
     "start_time": "2022-07-13T15:17:27.563765",
     "status": "completed"
    },
    "tags": []
   },
   "outputs": [
    {
     "name": "stdout",
     "output_type": "stream",
     "text": [
      "Collecting gdown\r\n",
      "  Downloading gdown-4.5.1.tar.gz (14 kB)\r\n",
      "  Installing build dependencies ... \u001b[?25l-\b \b\\\b \b|\b \b/\b \b-\b \b\\\b \bdone\r\n",
      "\u001b[?25h  Getting requirements to build wheel ... \u001b[?25l-\b \bdone\r\n",
      "\u001b[?25h  Preparing metadata (pyproject.toml) ... \u001b[?25l-\b \bdone\r\n",
      "\u001b[?25hRequirement already satisfied: requests[socks] in /opt/conda/lib/python3.7/site-packages (from gdown) (2.27.1)\r\n",
      "Requirement already satisfied: filelock in /opt/conda/lib/python3.7/site-packages (from gdown) (3.6.0)\r\n",
      "Requirement already satisfied: beautifulsoup4 in /opt/conda/lib/python3.7/site-packages (from gdown) (4.11.1)\r\n",
      "Requirement already satisfied: six in /opt/conda/lib/python3.7/site-packages (from gdown) (1.16.0)\r\n",
      "Requirement already satisfied: tqdm in /opt/conda/lib/python3.7/site-packages (from gdown) (4.64.0)\r\n",
      "Requirement already satisfied: soupsieve>1.2 in /opt/conda/lib/python3.7/site-packages (from beautifulsoup4->gdown) (2.3.1)\r\n",
      "Requirement already satisfied: urllib3<1.27,>=1.21.1 in /opt/conda/lib/python3.7/site-packages (from requests[socks]->gdown) (1.26.9)\r\n",
      "Requirement already satisfied: idna<4,>=2.5 in /opt/conda/lib/python3.7/site-packages (from requests[socks]->gdown) (3.3)\r\n",
      "Requirement already satisfied: charset-normalizer~=2.0.0 in /opt/conda/lib/python3.7/site-packages (from requests[socks]->gdown) (2.0.12)\r\n",
      "Requirement already satisfied: certifi>=2017.4.17 in /opt/conda/lib/python3.7/site-packages (from requests[socks]->gdown) (2022.6.15)\r\n",
      "Requirement already satisfied: PySocks!=1.5.7,>=1.5.6 in /opt/conda/lib/python3.7/site-packages (from requests[socks]->gdown) (1.7.1)\r\n",
      "Building wheels for collected packages: gdown\r\n",
      "  Building wheel for gdown (pyproject.toml) ... \u001b[?25l-\b \bdone\r\n",
      "\u001b[?25h  Created wheel for gdown: filename=gdown-4.5.1-py3-none-any.whl size=14933 sha256=d91987807bea7937c6ad4fb18ba9046d4e0449925d70b95ad97d56220656421d\r\n",
      "  Stored in directory: /root/.cache/pip/wheels/3d/ec/b0/a96d1d126183f98570a785e6bf8789fca559853a9260e928e1\r\n",
      "Successfully built gdown\r\n",
      "Installing collected packages: gdown\r\n",
      "Successfully installed gdown-4.5.1\r\n",
      "\u001b[33mWARNING: Running pip as the 'root' user can result in broken permissions and conflicting behaviour with the system package manager. It is recommended to use a virtual environment instead: https://pip.pypa.io/warnings/venv\u001b[0m\u001b[33m\r\n",
      "\u001b[0m"
     ]
    },
    {
     "name": "stderr",
     "output_type": "stream",
     "text": [
      "/opt/conda/lib/python3.7/site-packages/ipykernel_launcher.py:16: FutureWarning: Passing a negative integer is deprecated in version 1.0 and will not be supported in future version. Instead, use None to not limit the column width.\n",
      "  \n"
     ]
    }
   ],
   "source": [
    "! pip install gdown\n",
    "import tensorflow as tf\n",
    "from tensorflow import keras\n",
    "import numpy as np \n",
    "import matplotlib.pyplot as plt\n",
    "import os\n",
    "\n",
    "from tensorflow.keras.preprocessing.text import Tokenizer\n",
    "from tensorflow.keras.preprocessing.sequence import pad_sequences\n",
    "from sklearn.model_selection import train_test_split\n",
    "from sklearn.metrics import classification_report, confusion_matrix\n",
    "from tensorflow.keras.layers import Embedding\n",
    "import seaborn as sns\n",
    "sns.set_theme()\n",
    "import pandas as pd\n",
    "pd.set_option('display.max_colwidth', -1)"
   ]
  },
  {
   "cell_type": "markdown",
   "id": "be19c81c",
   "metadata": {
    "id": "vcDOqSuxi1X4",
    "papermill": {
     "duration": 0.008205,
     "end_time": "2022-07-13T15:17:59.641996",
     "exception": false,
     "start_time": "2022-07-13T15:17:59.633791",
     "status": "completed"
    },
    "tags": []
   },
   "source": [
    "## Getting our dataset"
   ]
  },
  {
   "cell_type": "markdown",
   "id": "f74b6ea2",
   "metadata": {
    "id": "9jA-wRPfi9Je",
    "papermill": {
     "duration": 0.008102,
     "end_time": "2022-07-13T15:17:59.658400",
     "exception": false,
     "start_time": "2022-07-13T15:17:59.650298",
     "status": "completed"
    },
    "tags": []
   },
   "source": [
    "### METHOD1: Making the dataset from txt file"
   ]
  },
  {
   "cell_type": "markdown",
   "id": "a57843d7",
   "metadata": {
    "id": "iWelcOutvIx6",
    "papermill": {
     "duration": 0.008188,
     "end_time": "2022-07-13T15:17:59.674890",
     "exception": false,
     "start_time": "2022-07-13T15:17:59.666702",
     "status": "completed"
    },
    "tags": []
   },
   "source": [
    "Downloading dataset from google drive and unzipping it"
   ]
  },
  {
   "cell_type": "code",
   "execution_count": 2,
   "id": "8f7ee346",
   "metadata": {
    "execution": {
     "iopub.execute_input": "2022-07-13T15:17:59.693981Z",
     "iopub.status.busy": "2022-07-13T15:17:59.693414Z",
     "iopub.status.idle": "2022-07-13T15:17:59.697997Z",
     "shell.execute_reply": "2022-07-13T15:17:59.696975Z"
    },
    "id": "XGyP8jmmWApo",
    "outputId": "950124db-158d-4c5d-f72f-1232b96b6f14",
    "papermill": {
     "duration": 0.016633,
     "end_time": "2022-07-13T15:17:59.700315",
     "exception": false,
     "start_time": "2022-07-13T15:17:59.683682",
     "status": "completed"
    },
    "tags": []
   },
   "outputs": [],
   "source": [
    "# !gdown --id 1D3yt99D0GcCRCbdKbUQGxbqjkeh91hTg\n",
    "# !unrar x /content/hamshahri.rar\n",
    "# !unzip /content/hamshahriold/Corpus/Hamshahri-Corpus.zip\n",
    "# !unzip /content/hamshahriold/Corpus/PersianStopWords.zip"
   ]
  },
  {
   "cell_type": "code",
   "execution_count": 3,
   "id": "94ef36bb",
   "metadata": {
    "execution": {
     "iopub.execute_input": "2022-07-13T15:17:59.718105Z",
     "iopub.status.busy": "2022-07-13T15:17:59.717853Z",
     "iopub.status.idle": "2022-07-13T15:17:59.721844Z",
     "shell.execute_reply": "2022-07-13T15:17:59.720678Z"
    },
    "id": "0dajvFi2lDsr",
    "papermill": {
     "duration": 0.015396,
     "end_time": "2022-07-13T15:17:59.724048",
     "exception": false,
     "start_time": "2022-07-13T15:17:59.708652",
     "status": "completed"
    },
    "tags": []
   },
   "outputs": [],
   "source": [
    "# stop_words = []\n",
    "# with open(\"PersianStopWords.txt\", \"r\", encoding=\"utf-8\") as stopwords_retriever:\n",
    "#   for line in stopwords_retriever:\n",
    "#     word = line.strip()\n",
    "#     stop_words.append(word)\n",
    "\n",
    "# stopwords_retriever.close()"
   ]
  },
  {
   "cell_type": "markdown",
   "id": "f2b31538",
   "metadata": {
    "id": "H2UZ2sQCvY9Z",
    "papermill": {
     "duration": 0.008328,
     "end_time": "2022-07-13T15:17:59.741319",
     "exception": false,
     "start_time": "2022-07-13T15:17:59.732991",
     "status": "completed"
    },
    "tags": []
   },
   "source": [
    "Writing data rows to a list"
   ]
  },
  {
   "cell_type": "code",
   "execution_count": 4,
   "id": "b3808a35",
   "metadata": {
    "execution": {
     "iopub.execute_input": "2022-07-13T15:17:59.759795Z",
     "iopub.status.busy": "2022-07-13T15:17:59.759309Z",
     "iopub.status.idle": "2022-07-13T15:17:59.763139Z",
     "shell.execute_reply": "2022-07-13T15:17:59.762221Z"
    },
    "id": "qutRx7DOtnyL",
    "outputId": "094cf195-e069-4322-eedd-ee26bc4de1b8",
    "papermill": {
     "duration": 0.015323,
     "end_time": "2022-07-13T15:17:59.764992",
     "exception": false,
     "start_time": "2022-07-13T15:17:59.749669",
     "status": "completed"
    },
    "tags": []
   },
   "outputs": [],
   "source": [
    "# !pip install hazm\n",
    "# from __future__ import unicode_literals\n",
    "# from hazm import *"
   ]
  },
  {
   "cell_type": "code",
   "execution_count": 5,
   "id": "d2a10ddf",
   "metadata": {
    "execution": {
     "iopub.execute_input": "2022-07-13T15:17:59.783359Z",
     "iopub.status.busy": "2022-07-13T15:17:59.782637Z",
     "iopub.status.idle": "2022-07-13T15:17:59.787872Z",
     "shell.execute_reply": "2022-07-13T15:17:59.787018Z"
    },
    "id": "LYglMTniWxpR",
    "papermill": {
     "duration": 0.01636,
     "end_time": "2022-07-13T15:17:59.789738",
     "exception": false,
     "start_time": "2022-07-13T15:17:59.773378",
     "status": "completed"
    },
    "tags": []
   },
   "outputs": [],
   "source": [
    "# row = [\"\",\"\",\"\",\"\"]\n",
    "# rows = []\n",
    "# is_first = True\n",
    "# with open(\"Hamshahri-Corpus.txt\", \"r\", encoding=\"utf-8\") as corpus_reader:\n",
    "#   for line in corpus_reader:\n",
    "#     stripped_line = line.strip()\n",
    "#     if stripped_line == \"\":\n",
    "#         continue\n",
    "            \n",
    "#     else: \n",
    "#         if (stripped_line.startswith(\".DID\")):\n",
    "#             if is_first:\n",
    "#                 is_first = False\n",
    "#             else:\n",
    "#                 # Removing stopwords from rows in each iteration\n",
    "#                 row[3] = [word for word in word_tokenize(row[3]) if word not in stop_words]\n",
    "#                 row[3] = [x for x in row[3] if not (x.isdigit() or x[0] == '-' and x[1:].isdigit())]\n",
    "#                 row[3] = ' '.join(row[3])\n",
    "#                 rows.append(row)\n",
    "#                 row = [\"\",\"\",\"\",\"\"]\n",
    "#             row[0] = stripped_line.split(\".DID\\t\", 1)[1]\n",
    "#         elif (stripped_line.startswith(\".Date\")):\n",
    "#             row[1] = stripped_line.split(\".Date\\t\", 1)[1]\n",
    "#         elif (stripped_line.startswith(\".Cat\")):\n",
    "#             row[2] = stripped_line.split(\".Cat\\t\", 1)[1]\n",
    "#         else:\n",
    "#             row[3] += stripped_line + \" \"\n",
    "    \n",
    "# corpus_reader.close()"
   ]
  },
  {
   "cell_type": "markdown",
   "id": "552e56b4",
   "metadata": {
    "id": "Sbbm-lHBvdcO",
    "papermill": {
     "duration": 0.008312,
     "end_time": "2022-07-13T15:17:59.806644",
     "exception": false,
     "start_time": "2022-07-13T15:17:59.798332",
     "status": "completed"
    },
    "tags": []
   },
   "source": [
    "#### Making a CSV file from rows list"
   ]
  },
  {
   "cell_type": "code",
   "execution_count": 6,
   "id": "c14937ac",
   "metadata": {
    "execution": {
     "iopub.execute_input": "2022-07-13T15:17:59.825168Z",
     "iopub.status.busy": "2022-07-13T15:17:59.824470Z",
     "iopub.status.idle": "2022-07-13T15:17:59.828822Z",
     "shell.execute_reply": "2022-07-13T15:17:59.828007Z"
    },
    "id": "SoFPGd5YXr2n",
    "papermill": {
     "duration": 0.015469,
     "end_time": "2022-07-13T15:17:59.830681",
     "exception": false,
     "start_time": "2022-07-13T15:17:59.815212",
     "status": "completed"
    },
    "tags": []
   },
   "outputs": [],
   "source": [
    "# import csv\n",
    "\n",
    "# header = ['DID', 'Date', 'Cat', 'News']\n",
    "\n",
    "# with open('corpus.csv', 'w', encoding='utf-8', newline='') as corpus_writer:\n",
    "#     writer = csv.writer(corpus_writer)\n",
    "\n",
    "#     # write the header\n",
    "#     writer.writerow(header)\n",
    "\n",
    "#     # write multiple rows\n",
    "#     writer.writerows(rows)\n",
    "\n",
    "# corpus_writer.close()"
   ]
  },
  {
   "cell_type": "code",
   "execution_count": 7,
   "id": "2d462088",
   "metadata": {
    "execution": {
     "iopub.execute_input": "2022-07-13T15:17:59.849209Z",
     "iopub.status.busy": "2022-07-13T15:17:59.848463Z",
     "iopub.status.idle": "2022-07-13T15:17:59.852405Z",
     "shell.execute_reply": "2022-07-13T15:17:59.851620Z"
    },
    "id": "LinDbTmD5L4q",
    "outputId": "2c99d831-61a7-4b92-eeca-0bf57fbaad53",
    "papermill": {
     "duration": 0.015047,
     "end_time": "2022-07-13T15:17:59.854221",
     "exception": false,
     "start_time": "2022-07-13T15:17:59.839174",
     "status": "completed"
    },
    "tags": []
   },
   "outputs": [],
   "source": [
    "# from google.colab import drive\n",
    "# drive.mount('/content/drive')\n",
    "# !cp -r \"/content/corpus.csv\" \"/content/drive/MyDrive/corpus.csv\""
   ]
  },
  {
   "cell_type": "markdown",
   "id": "48f93ea2",
   "metadata": {
    "id": "ZDyfxenijRRb",
    "papermill": {
     "duration": 0.00897,
     "end_time": "2022-07-13T15:17:59.871859",
     "exception": false,
     "start_time": "2022-07-13T15:17:59.862889",
     "status": "completed"
    },
    "tags": []
   },
   "source": [
    "### METHOD2: Using premade CSV file"
   ]
  },
  {
   "cell_type": "code",
   "execution_count": 8,
   "id": "c771a5ea",
   "metadata": {
    "execution": {
     "iopub.execute_input": "2022-07-13T15:17:59.890832Z",
     "iopub.status.busy": "2022-07-13T15:17:59.890183Z",
     "iopub.status.idle": "2022-07-13T15:18:03.133769Z",
     "shell.execute_reply": "2022-07-13T15:18:03.132656Z"
    },
    "id": "llVFg4ZS5KaT",
    "outputId": "ed10607e-4995-427d-e08e-fb52b5847bf0",
    "papermill": {
     "duration": 3.255637,
     "end_time": "2022-07-13T15:18:03.136405",
     "exception": false,
     "start_time": "2022-07-13T15:17:59.880768",
     "status": "completed"
    },
    "tags": []
   },
   "outputs": [
    {
     "name": "stdout",
     "output_type": "stream",
     "text": [
      "/opt/conda/lib/python3.7/site-packages/gdown/cli.py:131: FutureWarning: Option `--id` was deprecated in version 4.3.1 and will be removed in 5.0. You don't need to pass it anymore to use a file ID.\r\n",
      "  category=FutureWarning,\r\n",
      "Downloading...\r\n",
      "From: https://drive.google.com/uc?id=1w4-vTNQ4sXLBcXqG7TCjhNEtQg3cveiH\r\n",
      "To: /kaggle/working/corpus.csv\r\n",
      "100%|█████████████████████████████████████████| 426M/426M [00:01<00:00, 369MB/s]\r\n"
     ]
    }
   ],
   "source": [
    "!gdown --id 1w4-vTNQ4sXLBcXqG7TCjhNEtQg3cveiH\n"
   ]
  }
 ],
 "metadata": {
  "kernelspec": {
   "display_name": "Python 3",
   "language": "python",
   "name": "python3"
  },
  "language_info": {
   "codemirror_mode": {
    "name": "ipython",
    "version": 3
   },
   "file_extension": ".py",
   "mimetype": "text/x-python",
   "name": "python",
   "nbconvert_exporter": "python",
   "pygments_lexer": "ipython3",
   "version": "3.7.12"
  },
  "papermill": {
   "default_parameters": {},
   "duration": 1774.129943,
   "end_time": "2022-07-13T15:46:53.289783",
   "environment_variables": {},
   "exception": null,
   "input_path": "__notebook__.ipynb",
   "output_path": "__notebook__.ipynb",
   "parameters": {},
   "start_time": "2022-07-13T15:17:19.159840",
   "version": "2.3.4"
  }
 },
 "nbformat": 4,
 "nbformat_minor": 5
}
