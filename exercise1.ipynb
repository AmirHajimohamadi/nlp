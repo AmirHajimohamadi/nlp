{
  "cells": [
    {
      "cell_type": "markdown",
      "source": [
        "## Preparing Dataset"
      ],
      "metadata": {
        "id": "lk3PJAHj2dpF"
      }
    },
    {
      "cell_type": "markdown",
      "source": [
        "*NOTICE: fetching Dataset is not working colab (due to sanctions or what) so I provided the corpus alongside the notebook. You can eighter fetch dataset using colab via connecting it to a local machine or you can simply use the corpus.txt .*"
      ],
      "metadata": {
        "id": "i0hG-C1Jwi3B"
      }
    },
    {
      "cell_type": "markdown",
      "metadata": {
        "tags": [],
        "id": "nB3xn73zwaGT"
      },
      "source": [
        "### Method 1: Fetching Dataset"
      ]
    },
    {
      "cell_type": "markdown",
      "metadata": {
        "tags": [],
        "id": "oYY5yVKNwaGV"
      },
      "source": [
        "#### Importing Libraries"
      ]
    },
    {
      "cell_type": "code",
      "execution_count": null,
      "metadata": {
        "tags": [],
        "id": "lwwg2TB0waGV"
      },
      "outputs": [],
      "source": [
        "import requests\n",
        "from bs4 import BeautifulSoup"
      ]
    },
    {
      "cell_type": "markdown",
      "metadata": {
        "id": "9m3yiakxwaGW"
      },
      "source": [
        "#### Setting URL"
      ]
    },
    {
      "cell_type": "code",
      "execution_count": null,
      "metadata": {
        "jupyter": {
          "outputs_hidden": false
        },
        "pycharm": {
          "name": "#%%\n"
        },
        "id": "byClvxOkwaGW"
      },
      "outputs": [],
      "source": [
        "URL = \"https://ganjoor.net/moulavi/shams/ghazalsh/sh\"\n",
        "ghazalha = range(1501, 2001)\n",
        "corpus = \"\""
      ]
    },
    {
      "cell_type": "markdown",
      "metadata": {
        "tags": [],
        "id": "71r2al-2waGZ"
      },
      "source": [
        "##### Webscraping Data From Ganjoor"
      ]
    },
    {
      "cell_type": "code",
      "execution_count": null,
      "metadata": {
        "jupyter": {
          "outputs_hidden": false
        },
        "pycharm": {
          "name": "#%%\n"
        },
        "id": "YenvA66gwaGZ"
      },
      "outputs": [],
      "source": [
        "for ghazal in ghazalha:\n",
        "    page = requests.get(URL+str(ghazal))\n",
        "\n",
        "    soup = BeautifulSoup(page.content, \"html.parser\")\n",
        "\n",
        "    results = soup.find(id=\"garticle\")\n",
        "\n",
        "    beitha = results.find_all(\"div\", class_=\"b\")\n",
        "\n",
        "    print(\"غزل شماره \" + str(ghazal))\n",
        "    for beit in beitha:\n",
        "        mesra1 = beit.find(\"div\", class_=\"m1\")\n",
        "        mesra2 = beit.find(\"div\", class_=\"m2\")\n",
        "        print(mesra1.text)\n",
        "        corpus += mesra1.text + \" \"\n",
        "        print(mesra2.text)\n",
        "        corpus += mesra2.text + \" \"\n",
        "        print()\n",
        "    print()"
      ]
    },
    {
      "cell_type": "markdown",
      "metadata": {
        "tags": [],
        "id": "naH_aHKMwaGg"
      },
      "source": [
        "#### Saving Data in a Text File (optional)"
      ]
    },
    {
      "cell_type": "code",
      "execution_count": null,
      "metadata": {
        "jupyter": {
          "outputs_hidden": false
        },
        "pycharm": {
          "name": "#%%\n"
        },
        "id": "VSyQVCe-waGg"
      },
      "outputs": [],
      "source": [
        "text_file = open(\"corpus.txt\", \"w\", encoding=\"utf-8\")\n",
        "text_file.write(corpus)\n",
        "text_file.close()"
      ]
    },
    {
      "cell_type": "code",
      "source": [
        "corpus"
      ],
      "metadata": {
        "id": "vz7pwjiNznI3"
      },
      "execution_count": null,
      "outputs": []
    },
    {
      "cell_type": "markdown",
      "source": [
        "### Method 2: Use pre-made dataset"
      ],
      "metadata": {
        "id": "OeREva0sxd-m"
      }
    },
    {
      "cell_type": "code",
      "source": [
        "with open('corpus.txt', 'r') as file:\n",
        "    corpus = file.read().rstrip()\n",
        "corpus"
      ],
      "metadata": {
        "id": "Rx0XkUzRxoO-"
      },
      "execution_count": null,
      "outputs": []
    },
    {
      "cell_type": "markdown",
      "source": [
        "### Tokenize the corpus"
      ],
      "metadata": {
        "id": "DFhurPE6SUMG"
      }
    },
    {
      "cell_type": "code",
      "source": [
        "import nltk\n",
        "nltk.download('punkt')"
      ],
      "metadata": {
        "id": "k-KN_eVqSbJl"
      },
      "execution_count": null,
      "outputs": []
    },
    {
      "cell_type": "code",
      "source": [
        "!pip install hazm\n",
        "from __future__ import unicode_literals\n",
        "from hazm import *"
      ],
      "metadata": {
        "id": "YFIC9x5UUH2u"
      },
      "execution_count": null,
      "outputs": []
    },
    {
      "cell_type": "markdown",
      "source": [
        "Using Hazm to normalize and tokenizing the corpus:"
      ],
      "metadata": {
        "id": "I6FfX2wrjrpp"
      }
    },
    {
      "cell_type": "code",
      "source": [
        "normalizer = Normalizer()\n",
        "normalized = normalizer.normalize(corpus)\n",
        "tokens = word_tokenize(normalized)"
      ],
      "metadata": {
        "id": "Mqqk4RStUYaf"
      },
      "execution_count": null,
      "outputs": []
    },
    {
      "cell_type": "markdown",
      "source": [
        "Removing unnecessary charachter: the \\u200c character is ZERO WIDTH NON-JOINER"
      ],
      "metadata": {
        "id": "rpju52M0jYH7"
      }
    },
    {
      "cell_type": "code",
      "source": [
        "tokens = [w.replace('\\u200c', '') for w in tokens]"
      ],
      "metadata": {
        "id": "WRVOJnRDU4lx"
      },
      "execution_count": null,
      "outputs": []
    }
  ],
  "metadata": {
    "kernelspec": {
      "display_name": "Python 3 (ipykernel)",
      "language": "python",
      "name": "python3"
    },
    "language_info": {
      "codemirror_mode": {
        "name": "ipython",
        "version": 3
      },
      "file_extension": ".py",
      "mimetype": "text/x-python",
      "name": "python",
      "nbconvert_exporter": "python",
      "pygments_lexer": "ipython3",
      "version": "3.10.2"
    },
    "colab": {
      "name": "exercise1.ipynb",
      "provenance": [],
      "collapsed_sections": [
        "nB3xn73zwaGT"
      ]
    }
  },
  "nbformat": 4,
  "nbformat_minor": 0
}