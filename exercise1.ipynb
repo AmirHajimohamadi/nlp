{
  "cells": [
    {
      "cell_type": "markdown",
      "source": [
        "[![Open In Colab](https://colab.research.google.com/assets/colab-badge.svg)](https://colab.research.google.com/drive/110XwsAvyjjGKVjsenR98r4AoFohbFSZH)\n"
      ],
      "metadata": {
        "id": "slcYkafOqdCW"
      }
    },
    {
      "cell_type": "markdown",
      "source": [
        "## Preparing Dataset"
      ],
      "metadata": {
        "id": "lk3PJAHj2dpF"
      }
    },
    {
      "cell_type": "markdown",
      "source": [
        "*NOTICE: fetching Dataset is not working colab (due to sanctions or what) so I provided the corpus alongside the notebook. You can either fetch dataset using colab via connecting it to a local machine or simply use the corpus.txt .*"
      ],
      "metadata": {
        "id": "i0hG-C1Jwi3B"
      }
    },
    {
      "cell_type": "markdown",
      "metadata": {
        "tags": [],
        "id": "nB3xn73zwaGT"
      },
      "source": [
        "### Method 1: Fetching Dataset"
      ]
    },
    {
      "cell_type": "markdown",
      "metadata": {
        "tags": [],
        "id": "oYY5yVKNwaGV"
      },
      "source": [
        "#### Importing Libraries"
      ]
    },
    {
      "cell_type": "code",
      "execution_count": null,
      "metadata": {
        "tags": [],
        "id": "lwwg2TB0waGV"
      },
      "outputs": [],
      "source": [
        "import requests\n",
        "from bs4 import BeautifulSoup"
      ]
    },
    {
      "cell_type": "markdown",
      "metadata": {
        "id": "9m3yiakxwaGW"
      },
      "source": [
        "#### Setting URL"
      ]
    },
    {
      "cell_type": "code",
      "execution_count": null,
      "metadata": {
        "jupyter": {
          "outputs_hidden": false
        },
        "pycharm": {
          "name": "#%%\n"
        },
        "id": "byClvxOkwaGW"
      },
      "outputs": [],
      "source": [
        "URL = \"https://ganjoor.net/moulavi/shams/ghazalsh/sh\"\n",
        "ghazalha = range(1501, 2001)\n",
        "corpus = \"\""
      ]
    },
    {
      "cell_type": "markdown",
      "metadata": {
        "tags": [],
        "id": "71r2al-2waGZ"
      },
      "source": [
        "##### Webscraping Data From Ganjoor"
      ]
    },
    {
      "cell_type": "code",
      "execution_count": null,
      "metadata": {
        "jupyter": {
          "outputs_hidden": false
        },
        "pycharm": {
          "name": "#%%\n"
        },
        "id": "YenvA66gwaGZ"
      },
      "outputs": [],
      "source": [
        "for ghazal in ghazalha:\n",
        "    page = requests.get(URL+str(ghazal))\n",
        "\n",
        "    soup = BeautifulSoup(page.content, \"html.parser\")\n",
        "\n",
        "    results = soup.find(id=\"garticle\")\n",
        "\n",
        "    beitha = results.find_all(\"div\", class_=\"b\")\n",
        "\n",
        "    print(\"غزل شماره \" + str(ghazal))\n",
        "    for beit in beitha:\n",
        "        mesra1 = beit.find(\"div\", class_=\"m1\")\n",
        "        mesra2 = beit.find(\"div\", class_=\"m2\")\n",
        "        print(mesra1.text)\n",
        "        corpus += mesra1.text + \" \"\n",
        "        print(mesra2.text)\n",
        "        corpus += mesra2.text + \" \"\n",
        "        print()\n",
        "    print()"
      ]
    },
    {
      "cell_type": "markdown",
      "metadata": {
        "tags": [],
        "id": "naH_aHKMwaGg"
      },
      "source": [
        "#### Saving Data in a Text File (optional)"
      ]
    },
    {
      "cell_type": "code",
      "execution_count": null,
      "metadata": {
        "jupyter": {
          "outputs_hidden": false
        },
        "pycharm": {
          "name": "#%%\n"
        },
        "id": "VSyQVCe-waGg"
      },
      "outputs": [],
      "source": [
        "text_file = open(\"corpus.txt\", \"w\", encoding=\"utf-8\")\n",
        "text_file.write(corpus)\n",
        "text_file.close()"
      ]
    },
    {
      "cell_type": "code",
      "source": [
        "corpus"
      ],
      "metadata": {
        "id": "vz7pwjiNznI3"
      },
      "execution_count": null,
      "outputs": []
    },
    {
      "cell_type": "markdown",
      "source": [
        "### Method 2: Use pre-made dataset"
      ],
      "metadata": {
        "id": "OeREva0sxd-m"
      }
    },
    {
      "cell_type": "markdown",
      "source": [
        "Downloading corpus and stopwords from github"
      ],
      "metadata": {
        "id": "2xoxI2smAa1D"
      }
    },
    {
      "cell_type": "code",
      "source": [
        "!curl -o corpus.txt https://raw.githubusercontent.com/AmirHajimohamadi/nlp/master/corpus.txt\n",
        "\n",
        "with open('corpus.txt', 'r') as file:\n",
        "    corpus = file.read().rstrip()\n",
        "file.close()\n",
        "\n",
        "\n",
        "!curl -o stopwords.txt https://raw.githubusercontent.com/AmirHajimohamadi/nlp/master/stopwords.txt\n",
        "\n",
        "with open('stopwords.txt', 'r') as file:\n",
        "    stopwords = file.read().rstrip()\n",
        "file.close()\n"
      ],
      "metadata": {
        "id": "Rx0XkUzRxoO-",
        "colab": {
          "base_uri": "https://localhost:8080/"
        },
        "outputId": "67bf2606-d705-498e-a6ab-a6da1e5c29c4"
      },
      "execution_count": null,
      "outputs": [
        {
          "output_type": "stream",
          "name": "stdout",
          "text": [
            "  % Total    % Received % Xferd  Average Speed   Time    Time     Time  Current\n",
            "                                 Dload  Upload   Total   Spent    Left  Speed\n",
            "100  585k  100  585k    0     0  1217k      0 --:--:-- --:--:-- --:--:-- 1214k\n",
            "  % Total    % Received % Xferd  Average Speed   Time    Time     Time  Current\n",
            "                                 Dload  Upload   Total   Spent    Left  Speed\n",
            "100  6321  100  6321    0     0  32751      0 --:--:-- --:--:-- --:--:-- 32751\n"
          ]
        }
      ]
    },
    {
      "cell_type": "markdown",
      "source": [
        "### Preprocessing the corpus"
      ],
      "metadata": {
        "id": "DFhurPE6SUMG"
      }
    },
    {
      "cell_type": "code",
      "source": [
        "import numpy as np\n",
        "from tqdm import tqdm"
      ],
      "metadata": {
        "id": "YFIC9x5UUH2u"
      },
      "execution_count": null,
      "outputs": []
    },
    {
      "cell_type": "code",
      "source": [
        "stopwords = stopwords.replace(\"\\n\", \" \")\n",
        "stopwords = stopwords.split()"
      ],
      "metadata": {
        "id": "Z7-tMuuB6Lo_"
      },
      "execution_count": null,
      "outputs": []
    },
    {
      "cell_type": "code",
      "source": [
        "text = corpus.split()\n",
        "text = [w.replace('\\u200c', '') for w in text]"
      ],
      "metadata": {
        "id": "WRVOJnRDU4lx"
      },
      "execution_count": null,
      "outputs": []
    },
    {
      "cell_type": "markdown",
      "source": [
        "Removing stopwords from the text"
      ],
      "metadata": {
        "id": "ZKdHo73m_RlL"
      }
    },
    {
      "cell_type": "markdown",
      "source": [
        "### Creating Word Cloud"
      ],
      "metadata": {
        "id": "fIc3MZFD50Fv"
      }
    },
    {
      "cell_type": "code",
      "source": [
        "text = [w for w in text if not w in stopwords]"
      ],
      "metadata": {
        "id": "gELwi0gg8rNb"
      },
      "execution_count": null,
      "outputs": []
    },
    {
      "cell_type": "code",
      "source": [
        "!pip install wordcloud-fa\n",
        "!curl -o mask.png https://raw.githubusercontent.com/AmirHajimohamadi/nlp/master/iran_mask.png\n",
        "\n",
        "from wordcloud_fa import WordCloudFa\n",
        "import numpy as np\n",
        "from PIL import Image"
      ],
      "metadata": {
        "colab": {
          "base_uri": "https://localhost:8080/"
        },
        "id": "pHOaJeRPysA7",
        "outputId": "ab27fd55-8596-4802-d9ae-4027c39541e5"
      },
      "execution_count": null,
      "outputs": [
        {
          "output_type": "stream",
          "name": "stdout",
          "text": [
            "Collecting wordcloud-fa\n",
            "  Downloading wordcloud_fa-0.1.9-py2.py3-none-any.whl (71 kB)\n",
            "\u001b[K     |████████████████████████████████| 71 kB 5.6 MB/s \n",
            "\u001b[?25hCollecting arabic-reshaper>=2.1.3\n",
            "  Downloading arabic_reshaper-2.1.3-py3-none-any.whl (20 kB)\n",
            "Requirement already satisfied: numpy>=1.18.1 in /usr/local/lib/python3.7/dist-packages (from wordcloud-fa) (1.21.6)\n",
            "Requirement already satisfied: matplotlib>=3.1.2 in /usr/local/lib/python3.7/dist-packages (from wordcloud-fa) (3.2.2)\n",
            "Requirement already satisfied: pillow>=7.0.0 in /usr/local/lib/python3.7/dist-packages (from wordcloud-fa) (7.1.2)\n",
            "Collecting python-bidi==0.4.2\n",
            "  Downloading python_bidi-0.4.2-py2.py3-none-any.whl (30 kB)\n",
            "Collecting wordcloud==1.8.1\n",
            "  Downloading wordcloud-1.8.1-cp37-cp37m-manylinux1_x86_64.whl (366 kB)\n",
            "\u001b[K     |████████████████████████████████| 366 kB 20.3 MB/s \n",
            "\u001b[?25hCollecting hazm==0.7.0\n",
            "  Downloading hazm-0.7.0-py3-none-any.whl (316 kB)\n",
            "\u001b[K     |████████████████████████████████| 316 kB 52.3 MB/s \n",
            "\u001b[?25hCollecting libwapiti>=0.2.1\n",
            "  Downloading libwapiti-0.2.1.tar.gz (233 kB)\n",
            "\u001b[K     |████████████████████████████████| 233 kB 54.8 MB/s \n",
            "\u001b[?25hCollecting nltk==3.3\n",
            "  Downloading nltk-3.3.0.zip (1.4 MB)\n",
            "\u001b[K     |████████████████████████████████| 1.4 MB 19.2 MB/s \n",
            "\u001b[?25hRequirement already satisfied: six in /usr/local/lib/python3.7/dist-packages (from nltk==3.3->hazm==0.7.0->wordcloud-fa) (1.15.0)\n",
            "Requirement already satisfied: setuptools in /usr/local/lib/python3.7/dist-packages (from arabic-reshaper>=2.1.3->wordcloud-fa) (57.4.0)\n",
            "Requirement already satisfied: future in /usr/local/lib/python3.7/dist-packages (from arabic-reshaper>=2.1.3->wordcloud-fa) (0.16.0)\n",
            "Requirement already satisfied: cycler>=0.10 in /usr/local/lib/python3.7/dist-packages (from matplotlib>=3.1.2->wordcloud-fa) (0.11.0)\n",
            "Requirement already satisfied: pyparsing!=2.0.4,!=2.1.2,!=2.1.6,>=2.0.1 in /usr/local/lib/python3.7/dist-packages (from matplotlib>=3.1.2->wordcloud-fa) (3.0.9)\n",
            "Requirement already satisfied: python-dateutil>=2.1 in /usr/local/lib/python3.7/dist-packages (from matplotlib>=3.1.2->wordcloud-fa) (2.8.2)\n",
            "Requirement already satisfied: kiwisolver>=1.0.1 in /usr/local/lib/python3.7/dist-packages (from matplotlib>=3.1.2->wordcloud-fa) (1.4.2)\n",
            "Requirement already satisfied: typing-extensions in /usr/local/lib/python3.7/dist-packages (from kiwisolver>=1.0.1->matplotlib>=3.1.2->wordcloud-fa) (4.2.0)\n",
            "Building wheels for collected packages: nltk, libwapiti\n",
            "  Building wheel for nltk (setup.py) ... \u001b[?25l\u001b[?25hdone\n",
            "  Created wheel for nltk: filename=nltk-3.3-py3-none-any.whl size=1394488 sha256=2ff735d7b59647bfbea5a5f0a3fb675794b0cc86ede3db793a4081019762e3cf\n",
            "  Stored in directory: /root/.cache/pip/wheels/9b/fd/0c/d92302c876e5de87ebd7fc0979d82edb93e2d8d768bf71fac4\n",
            "  Building wheel for libwapiti (setup.py) ... \u001b[?25l\u001b[?25hdone\n",
            "  Created wheel for libwapiti: filename=libwapiti-0.2.1-cp37-cp37m-linux_x86_64.whl size=154300 sha256=36809f39e41750de7b98f7b1a966c16ff6dee2d8763c2f77b7647dec3f9309a9\n",
            "  Stored in directory: /root/.cache/pip/wheels/ab/b2/5b/0fe4b8f5c0e65341e8ea7bb3f4a6ebabfe8b1ac31322392dbf\n",
            "Successfully built nltk libwapiti\n",
            "Installing collected packages: nltk, libwapiti, wordcloud, python-bidi, hazm, arabic-reshaper, wordcloud-fa\n",
            "  Attempting uninstall: nltk\n",
            "    Found existing installation: nltk 3.2.5\n",
            "    Uninstalling nltk-3.2.5:\n",
            "      Successfully uninstalled nltk-3.2.5\n",
            "  Attempting uninstall: wordcloud\n",
            "    Found existing installation: wordcloud 1.5.0\n",
            "    Uninstalling wordcloud-1.5.0:\n",
            "      Successfully uninstalled wordcloud-1.5.0\n",
            "Successfully installed arabic-reshaper-2.1.3 hazm-0.7.0 libwapiti-0.2.1 nltk-3.3 python-bidi-0.4.2 wordcloud-1.8.1 wordcloud-fa-0.1.9\n",
            "  % Total    % Received % Xferd  Average Speed   Time    Time     Time  Current\n",
            "                                 Dload  Upload   Total   Spent    Left  Speed\n",
            "100 58885  100 58885    0     0   366k      0 --:--:-- --:--:-- --:--:--  363k\n"
          ]
        }
      ]
    },
    {
      "cell_type": "code",
      "source": [
        "mask_array = np.array(Image.open(\"mask.png\"))\n",
        "wordcloud = WordCloudFa(persian_normalize=True, mask=mask_array, scale=0.8)\n",
        "wc = wordcloud.generate(' '.join([str(elem) for elem in text]))\n",
        "image = wc.to_image()"
      ],
      "metadata": {
        "id": "KnzyPy_Qz0FY"
      },
      "execution_count": null,
      "outputs": []
    },
    {
      "cell_type": "code",
      "source": [
        "image"
      ],
      "metadata": {
        "colab": {
          "base_uri": "https://localhost:8080/",
          "height": 609
        },
        "id": "IkwTun5cz4gW",
        "outputId": "e6792b52-4f91-4327-b514-932c4ce5af33"
      },
      "execution_count": null,
      "outputs": [
        {
          "output_type": "execute_result",
          "data": {
            "text/plain": [
              "<PIL.Image.Image image mode=RGB size=656x592 at 0x7F8DBC44DF50>"
            ],
            "image/png": "[encoded data removed]"
          },
          "metadata": {},
          "execution_count": 8
        }
      ]
    },
    {
      "cell_type": "markdown",
      "source": [
        "### Declare some variables"
      ],
      "metadata": {
        "id": "QABMFUhIRRyS"
      }
    },
    {
      "cell_type": "code",
      "source": [
        "# Defining the window for context\n",
        "window = 2\n",
        "# Creating a placeholder for the scanning of the word list\n",
        "word_lists = []"
      ],
      "metadata": {
        "id": "YPMb3tyIRYQO"
      },
      "execution_count": null,
      "outputs": []
    },
    {
      "cell_type": "markdown",
      "source": [
        "getting context words and main words:"
      ],
      "metadata": {
        "id": "ud6XFG0TCXB9"
      }
    },
    {
      "cell_type": "code",
      "source": [
        "for i, word in enumerate(text):\n",
        "  for w in range(window):\n",
        "    # Getting the context that is ahead by *window* words\n",
        "    if i + 1 + w < len(text): \n",
        "      word_lists.append([word] + [text[(i + 1 + w)]])\n",
        "    # Getting the context that is behind by *window* words\n",
        "    if i - w - 1 >= 0:\n",
        "      word_lists.append([word] + [text[(i - w - 1)]])"
      ],
      "metadata": {
        "id": "CDvpLt-ER9QJ"
      },
      "execution_count": null,
      "outputs": []
    },
    {
      "cell_type": "markdown",
      "source": [
        "A dictionary of unique words in corpus:"
      ],
      "metadata": {
        "id": "utiCwSNHCi81"
      }
    },
    {
      "cell_type": "code",
      "source": [
        "def create_unique_word_dict(text:list) -> dict:\n",
        "    \"\"\"\n",
        "    A method that creates a dictionary where the keys are unique words\n",
        "    and key values are indices\n",
        "    \"\"\"\n",
        "    # Getting all the unique words from our text and sorting them alphabetically\n",
        "    words = list(set(text))\n",
        "    words.sort()\n",
        "\n",
        "    # Creating the dictionary for the unique words\n",
        "    unique_word_dict = {}\n",
        "    for i, word in enumerate(words):\n",
        "        unique_word_dict.update({\n",
        "            word: i\n",
        "        })\n",
        "\n",
        "    return unique_word_dict    "
      ],
      "metadata": {
        "id": "MFmvSeq4d88k"
      },
      "execution_count": null,
      "outputs": []
    },
    {
      "cell_type": "markdown",
      "source": [
        "### Cooking the model food"
      ],
      "metadata": {
        "id": "UpFPnQ1_CvtW"
      }
    },
    {
      "cell_type": "code",
      "source": [
        "unique_word_dict = create_unique_word_dict(text)\n",
        "\n",
        "# Defining the number of features (unique words)\n",
        "n_words = len(unique_word_dict)\n",
        "\n",
        "# Getting all the unique words \n",
        "words = list(unique_word_dict.keys())\n",
        "\n",
        "# Creating the X and Y matrices using one hot encoding\n",
        "X = []\n",
        "Y = []"
      ],
      "metadata": {
        "id": "5MZ4XM3ieEgL"
      },
      "execution_count": null,
      "outputs": []
    },
    {
      "cell_type": "markdown",
      "source": [
        "Making X and Y matrices"
      ],
      "metadata": {
        "id": "58d_Ug9CVQqa"
      }
    },
    {
      "cell_type": "code",
      "source": [
        "for i, word_list in tqdm(enumerate(word_lists)):\n",
        "    # Getting the indices\n",
        "    main_word_index = unique_word_dict.get(word_list[0])\n",
        "    context_word_index = unique_word_dict.get(word_list[1])\n",
        "\n",
        "    # Creating the placeholders   \n",
        "    X_row = np.zeros(n_words, dtype=np.int8)\n",
        "    Y_row = np.zeros(n_words, dtype=np.int8)\n",
        "\n",
        "    # One hot encoding the main word\n",
        "    X_row[main_word_index] = 1\n",
        "\n",
        "    # One hot encoding the Y matrix words \n",
        "    Y_row[context_word_index] = 1\n",
        "\n",
        "    # Appending to the main matrices\n",
        "    X.append(X_row)\n",
        "    Y.append(Y_row)\n"
      ],
      "metadata": {
        "colab": {
          "base_uri": "https://localhost:8080/"
        },
        "id": "a5Muwq_Ce7xH",
        "outputId": "45c31329-af7b-4085-9957-83af1a956c27"
      },
      "execution_count": null,
      "outputs": [
        {
          "output_type": "stream",
          "name": "stderr",
          "text": [
            "208770it [00:04, 44221.18it/s]\n"
          ]
        }
      ]
    },
    {
      "cell_type": "code",
      "source": [
        "X = np.array(X, dtype=np.int8)\n",
        "Y = np.array(Y, dtype=np.int8)"
      ],
      "metadata": {
        "id": "Rn60t9Tn1igD"
      },
      "execution_count": null,
      "outputs": []
    },
    {
      "cell_type": "markdown",
      "source": [
        "### Training the Model"
      ],
      "metadata": {
        "id": "AfzzWxgM_3eu"
      }
    },
    {
      "cell_type": "code",
      "source": [
        "from keras.models import Input, Model\n",
        "from keras.layers import Dense\n",
        "\n",
        "# Defining the size of the embedding (dimensions)\n",
        "embed_size = 100\n",
        "\n",
        "# Defining the neural network\n",
        "inp = Input(shape=(X.shape[1],))\n",
        "x = Dense(units=embed_size, activation='linear')(inp)\n",
        "x = Dense(units=Y.shape[1], activation='softmax')(x)\n",
        "model = Model(inputs=inp, outputs=x)\n",
        "model.compile(loss = 'categorical_crossentropy', optimizer = 'adam', metrics=['categorical_accuracy'])"
      ],
      "metadata": {
        "id": "WtW9XFvYshU0"
      },
      "execution_count": null,
      "outputs": []
    },
    {
      "cell_type": "code",
      "source": [
        "model.summary()"
      ],
      "metadata": {
        "id": "3VbwFcmcARtr",
        "colab": {
          "base_uri": "https://localhost:8080/"
        },
        "outputId": "535b1920-d7b7-439c-d86f-30cd146e252a"
      },
      "execution_count": null,
      "outputs": [
        {
          "output_type": "stream",
          "name": "stdout",
          "text": [
            "Model: \"model\"\n",
            "_________________________________________________________________\n",
            " Layer (type)                Output Shape              Param #   \n",
            "=================================================================\n",
            " input_1 (InputLayer)        [(None, 10944)]           0         \n",
            "                                                                 \n",
            " dense (Dense)               (None, 100)               1094500   \n",
            "                                                                 \n",
            " dense_1 (Dense)             (None, 10944)             1105344   \n",
            "                                                                 \n",
            "=================================================================\n",
            "Total params: 2,199,844\n",
            "Trainable params: 2,199,844\n",
            "Non-trainable params: 0\n",
            "_________________________________________________________________\n"
          ]
        }
      ]
    },
    {
      "cell_type": "code",
      "source": [
        "# Optimizing the network weights\n",
        "model.fit(\n",
        "    x=X, \n",
        "    y=Y, \n",
        "    batch_size=512,\n",
        "    epochs=50\n",
        "    )"
      ],
      "metadata": {
        "id": "6rIEk_j-2ZUh",
        "colab": {
          "base_uri": "https://localhost:8080/"
        },
        "outputId": "12409e39-ed37-4cfb-d065-ad4f4efae8bf"
      },
      "execution_count": null,
      "outputs": [
        {
          "output_type": "stream",
          "name": "stdout",
          "text": [
            "Epoch 1/50\n",
            "434/434 [==============================] - 87s 198ms/step - loss: 8.0840 - categorical_accuracy: 0.0298\n",
            "Epoch 2/50\n",
            "434/434 [==============================] - 84s 193ms/step - loss: 7.7281 - categorical_accuracy: 0.0303\n",
            "Epoch 3/50\n",
            "434/434 [==============================] - 83s 190ms/step - loss: 7.7087 - categorical_accuracy: 0.0304\n",
            "Epoch 4/50\n",
            "434/434 [==============================] - 83s 192ms/step - loss: 7.6841 - categorical_accuracy: 0.0315\n",
            "Epoch 5/50\n",
            "434/434 [==============================] - 84s 193ms/step - loss: 7.6525 - categorical_accuracy: 0.0326\n",
            "Epoch 6/50\n",
            "434/434 [==============================] - 86s 198ms/step - loss: 7.6027 - categorical_accuracy: 0.0346\n",
            "Epoch 7/50\n",
            "434/434 [==============================] - 86s 198ms/step - loss: 7.5276 - categorical_accuracy: 0.0391\n",
            "Epoch 8/50\n",
            "434/434 [==============================] - 86s 197ms/step - loss: 7.4272 - categorical_accuracy: 0.0468\n",
            "Epoch 9/50\n",
            "434/434 [==============================] - 84s 193ms/step - loss: 7.3017 - categorical_accuracy: 0.0543\n",
            "Epoch 10/50\n",
            "434/434 [==============================] - 83s 191ms/step - loss: 7.1557 - categorical_accuracy: 0.0591\n",
            "Epoch 11/50\n",
            "434/434 [==============================] - 87s 200ms/step - loss: 6.9947 - categorical_accuracy: 0.0627\n",
            "Epoch 12/50\n",
            "434/434 [==============================] - 83s 192ms/step - loss: 6.8252 - categorical_accuracy: 0.0662\n",
            "Epoch 13/50\n",
            "434/434 [==============================] - 89s 205ms/step - loss: 6.6525 - categorical_accuracy: 0.0697\n",
            "Epoch 14/50\n",
            "434/434 [==============================] - 84s 193ms/step - loss: 6.4809 - categorical_accuracy: 0.0725\n",
            "Epoch 15/50\n",
            "434/434 [==============================] - 82s 189ms/step - loss: 6.3138 - categorical_accuracy: 0.0745\n",
            "Epoch 16/50\n",
            "434/434 [==============================] - 82s 189ms/step - loss: 6.1541 - categorical_accuracy: 0.0760\n",
            "Epoch 17/50\n",
            "434/434 [==============================] - 82s 190ms/step - loss: 6.0037 - categorical_accuracy: 0.0764\n",
            "Epoch 18/50\n",
            "434/434 [==============================] - 82s 189ms/step - loss: 5.8637 - categorical_accuracy: 0.0754\n",
            "Epoch 19/50\n",
            "434/434 [==============================] - 83s 192ms/step - loss: 5.7346 - categorical_accuracy: 0.0750\n",
            "Epoch 20/50\n",
            "434/434 [==============================] - 83s 191ms/step - loss: 5.6167 - categorical_accuracy: 0.0745\n",
            "Epoch 21/50\n",
            "434/434 [==============================] - 82s 190ms/step - loss: 5.5094 - categorical_accuracy: 0.0729\n",
            "Epoch 22/50\n",
            "434/434 [==============================] - 83s 190ms/step - loss: 5.4124 - categorical_accuracy: 0.0719\n",
            "Epoch 23/50\n",
            "434/434 [==============================] - 83s 191ms/step - loss: 5.3248 - categorical_accuracy: 0.0709\n",
            "Epoch 24/50\n",
            "434/434 [==============================] - 83s 191ms/step - loss: 5.2456 - categorical_accuracy: 0.0692\n",
            "Epoch 25/50\n",
            "434/434 [==============================] - 83s 190ms/step - loss: 5.1747 - categorical_accuracy: 0.0682\n",
            "Epoch 26/50\n",
            "434/434 [==============================] - 84s 193ms/step - loss: 5.1109 - categorical_accuracy: 0.0669\n",
            "Epoch 27/50\n",
            "434/434 [==============================] - 84s 193ms/step - loss: 5.0535 - categorical_accuracy: 0.0664\n",
            "Epoch 28/50\n",
            "434/434 [==============================] - 83s 192ms/step - loss: 5.0021 - categorical_accuracy: 0.0659\n",
            "Epoch 29/50\n",
            "434/434 [==============================] - 83s 191ms/step - loss: 4.9558 - categorical_accuracy: 0.0650\n",
            "Epoch 30/50\n",
            "434/434 [==============================] - 83s 191ms/step - loss: 4.9142 - categorical_accuracy: 0.0641\n",
            "Epoch 31/50\n",
            "434/434 [==============================] - 83s 191ms/step - loss: 4.8768 - categorical_accuracy: 0.0638\n",
            "Epoch 32/50\n",
            "434/434 [==============================] - 82s 190ms/step - loss: 4.8429 - categorical_accuracy: 0.0639\n",
            "Epoch 33/50\n",
            "434/434 [==============================] - 83s 190ms/step - loss: 4.8125 - categorical_accuracy: 0.0635\n",
            "Epoch 34/50\n",
            "434/434 [==============================] - 83s 191ms/step - loss: 4.7850 - categorical_accuracy: 0.0631\n",
            "Epoch 35/50\n",
            "434/434 [==============================] - 84s 195ms/step - loss: 4.7602 - categorical_accuracy: 0.0625\n",
            "Epoch 36/50\n",
            "434/434 [==============================] - 84s 194ms/step - loss: 4.7377 - categorical_accuracy: 0.0624\n",
            "Epoch 37/50\n",
            "434/434 [==============================] - 83s 191ms/step - loss: 4.7174 - categorical_accuracy: 0.0619\n",
            "Epoch 38/50\n",
            "434/434 [==============================] - 82s 190ms/step - loss: 4.6988 - categorical_accuracy: 0.0607\n",
            "Epoch 39/50\n",
            "434/434 [==============================] - 83s 191ms/step - loss: 4.6818 - categorical_accuracy: 0.0605\n",
            "Epoch 40/50\n",
            "434/434 [==============================] - 83s 190ms/step - loss: 4.6664 - categorical_accuracy: 0.0608\n",
            "Epoch 41/50\n",
            "434/434 [==============================] - 89s 204ms/step - loss: 4.6523 - categorical_accuracy: 0.0609\n",
            "Epoch 42/50\n",
            "434/434 [==============================] - 85s 197ms/step - loss: 4.6392 - categorical_accuracy: 0.0603\n",
            "Epoch 43/50\n",
            "434/434 [==============================] - 83s 191ms/step - loss: 4.6271 - categorical_accuracy: 0.0601\n",
            "Epoch 44/50\n",
            "434/434 [==============================] - 83s 191ms/step - loss: 4.6161 - categorical_accuracy: 0.0599\n",
            "Epoch 45/50\n",
            "434/434 [==============================] - 83s 191ms/step - loss: 4.6057 - categorical_accuracy: 0.0598\n",
            "Epoch 46/50\n",
            "434/434 [==============================] - 84s 192ms/step - loss: 4.5963 - categorical_accuracy: 0.0594\n",
            "Epoch 47/50\n",
            "434/434 [==============================] - 83s 191ms/step - loss: 4.5873 - categorical_accuracy: 0.0593\n",
            "Epoch 48/50\n",
            "434/434 [==============================] - 83s 191ms/step - loss: 4.5790 - categorical_accuracy: 0.0591\n",
            "Epoch 49/50\n",
            "434/434 [==============================] - 83s 191ms/step - loss: 4.5712 - categorical_accuracy: 0.0590\n",
            "Epoch 50/50\n",
            "434/434 [==============================] - 83s 192ms/step - loss: 4.5639 - categorical_accuracy: 0.0595\n"
          ]
        },
        {
          "output_type": "execute_result",
          "data": {
            "text/plain": [
              "<keras.callbacks.History at 0x7ff13a3d6350>"
            ]
          },
          "metadata": {},
          "execution_count": 14
        }
      ]
    },
    {
      "cell_type": "code",
      "source": [
        "import tables\n",
        "model.save(\"network.h5\")\n",
        "\n",
        "tables.file._open_files.close_all()"
      ],
      "metadata": {
        "id": "aChNb6kxtArD"
      },
      "execution_count": null,
      "outputs": []
    },
    {
      "cell_type": "markdown",
      "source": [
        "###Load model"
      ],
      "metadata": {
        "id": "PMiOFINb_iFD"
      }
    },
    {
      "cell_type": "code",
      "source": [
        "!curl -o network.h5 https://github.com/AmirHajimohamadi/nlp/raw/master/network.h5\n",
        "from keras.models import load_model\n",
        "model = load_model(\"network.h5\")"
      ],
      "metadata": {
        "id": "5RYuf3wqtO-z",
        "colab": {
          "base_uri": "https://localhost:8080/",
          "height": 521
        },
        "outputId": "00759a34-6b36-4d14-f066-3511d3a133cc"
      },
      "execution_count": null,
      "outputs": [
        {
          "output_type": "stream",
          "name": "stdout",
          "text": [
            "  % Total    % Received % Xferd  Average Speed   Time    Time     Time  Current\n",
            "                                 Dload  Upload   Total   Spent    Left  Speed\n",
            "\r  0     0    0     0    0     0      0      0 --:--:-- --:--:-- --:--:--     0\r  0     0    0     0    0     0      0      0 --:--:-- --:--:-- --:--:--     0\n"
          ]
        },
        {
          "output_type": "error",
          "ename": "OSError",
          "evalue": "ignored",
          "traceback": [
            "\u001b[0;31m---------------------------------------------------------------------------\u001b[0m",
            "\u001b[0;31mOSError\u001b[0m                                   Traceback (most recent call last)",
            "\u001b[0;32m<ipython-input-21-0a07040effbd>\u001b[0m in \u001b[0;36m<module>\u001b[0;34m()\u001b[0m\n\u001b[1;32m      2\u001b[0m \u001b[0mget_ipython\u001b[0m\u001b[0;34m(\u001b[0m\u001b[0;34m)\u001b[0m\u001b[0;34m.\u001b[0m\u001b[0msystem\u001b[0m\u001b[0;34m(\u001b[0m\u001b[0;34m'curl -o network.h5 https://github.com/AmirHajimohamadi/nlp/raw/master/network.h5'\u001b[0m\u001b[0;34m)\u001b[0m\u001b[0;34m\u001b[0m\u001b[0;34m\u001b[0m\u001b[0m\n\u001b[1;32m      3\u001b[0m \u001b[0;32mfrom\u001b[0m \u001b[0mkeras\u001b[0m\u001b[0;34m.\u001b[0m\u001b[0mmodels\u001b[0m \u001b[0;32mimport\u001b[0m \u001b[0mload_model\u001b[0m\u001b[0;34m\u001b[0m\u001b[0;34m\u001b[0m\u001b[0m\n\u001b[0;32m----> 4\u001b[0;31m \u001b[0mmodel\u001b[0m \u001b[0;34m=\u001b[0m \u001b[0mkeras\u001b[0m\u001b[0;34m.\u001b[0m\u001b[0mmodels\u001b[0m\u001b[0;34m.\u001b[0m\u001b[0mload_model\u001b[0m\u001b[0;34m(\u001b[0m\u001b[0;34m\"network.h5\"\u001b[0m\u001b[0;34m)\u001b[0m\u001b[0;34m\u001b[0m\u001b[0;34m\u001b[0m\u001b[0m\n\u001b[0m",
            "\u001b[0;32m/usr/local/lib/python3.7/dist-packages/keras/utils/traceback_utils.py\u001b[0m in \u001b[0;36merror_handler\u001b[0;34m(*args, **kwargs)\u001b[0m\n\u001b[1;32m     65\u001b[0m     \u001b[0;32mexcept\u001b[0m \u001b[0mException\u001b[0m \u001b[0;32mas\u001b[0m \u001b[0me\u001b[0m\u001b[0;34m:\u001b[0m  \u001b[0;31m# pylint: disable=broad-except\u001b[0m\u001b[0;34m\u001b[0m\u001b[0;34m\u001b[0m\u001b[0m\n\u001b[1;32m     66\u001b[0m       \u001b[0mfiltered_tb\u001b[0m \u001b[0;34m=\u001b[0m \u001b[0m_process_traceback_frames\u001b[0m\u001b[0;34m(\u001b[0m\u001b[0me\u001b[0m\u001b[0;34m.\u001b[0m\u001b[0m__traceback__\u001b[0m\u001b[0;34m)\u001b[0m\u001b[0;34m\u001b[0m\u001b[0;34m\u001b[0m\u001b[0m\n\u001b[0;32m---> 67\u001b[0;31m       \u001b[0;32mraise\u001b[0m \u001b[0me\u001b[0m\u001b[0;34m.\u001b[0m\u001b[0mwith_traceback\u001b[0m\u001b[0;34m(\u001b[0m\u001b[0mfiltered_tb\u001b[0m\u001b[0;34m)\u001b[0m \u001b[0;32mfrom\u001b[0m \u001b[0;32mNone\u001b[0m\u001b[0;34m\u001b[0m\u001b[0;34m\u001b[0m\u001b[0m\n\u001b[0m\u001b[1;32m     68\u001b[0m     \u001b[0;32mfinally\u001b[0m\u001b[0;34m:\u001b[0m\u001b[0;34m\u001b[0m\u001b[0;34m\u001b[0m\u001b[0m\n\u001b[1;32m     69\u001b[0m       \u001b[0;32mdel\u001b[0m \u001b[0mfiltered_tb\u001b[0m\u001b[0;34m\u001b[0m\u001b[0;34m\u001b[0m\u001b[0m\n",
            "\u001b[0;32m/usr/local/lib/python3.7/dist-packages/h5py/_hl/files.py\u001b[0m in \u001b[0;36m__init__\u001b[0;34m(self, name, mode, driver, libver, userblock_size, swmr, rdcc_nslots, rdcc_nbytes, rdcc_w0, track_order, fs_strategy, fs_persist, fs_threshold, **kwds)\u001b[0m\n\u001b[1;32m    425\u001b[0m                                fapl, fcpl=make_fcpl(track_order=track_order, fs_strategy=fs_strategy,\n\u001b[1;32m    426\u001b[0m                                fs_persist=fs_persist, fs_threshold=fs_threshold),\n\u001b[0;32m--> 427\u001b[0;31m                                swmr=swmr)\n\u001b[0m\u001b[1;32m    428\u001b[0m \u001b[0;34m\u001b[0m\u001b[0m\n\u001b[1;32m    429\u001b[0m             \u001b[0;32mif\u001b[0m \u001b[0misinstance\u001b[0m\u001b[0;34m(\u001b[0m\u001b[0mlibver\u001b[0m\u001b[0;34m,\u001b[0m \u001b[0mtuple\u001b[0m\u001b[0;34m)\u001b[0m\u001b[0;34m:\u001b[0m\u001b[0;34m\u001b[0m\u001b[0;34m\u001b[0m\u001b[0m\n",
            "\u001b[0;32m/usr/local/lib/python3.7/dist-packages/h5py/_hl/files.py\u001b[0m in \u001b[0;36mmake_fid\u001b[0;34m(name, mode, userblock_size, fapl, fcpl, swmr)\u001b[0m\n\u001b[1;32m    188\u001b[0m         \u001b[0;32mif\u001b[0m \u001b[0mswmr\u001b[0m \u001b[0;32mand\u001b[0m \u001b[0mswmr_support\u001b[0m\u001b[0;34m:\u001b[0m\u001b[0;34m\u001b[0m\u001b[0;34m\u001b[0m\u001b[0m\n\u001b[1;32m    189\u001b[0m             \u001b[0mflags\u001b[0m \u001b[0;34m|=\u001b[0m \u001b[0mh5f\u001b[0m\u001b[0;34m.\u001b[0m\u001b[0mACC_SWMR_READ\u001b[0m\u001b[0;34m\u001b[0m\u001b[0;34m\u001b[0m\u001b[0m\n\u001b[0;32m--> 190\u001b[0;31m         \u001b[0mfid\u001b[0m \u001b[0;34m=\u001b[0m \u001b[0mh5f\u001b[0m\u001b[0;34m.\u001b[0m\u001b[0mopen\u001b[0m\u001b[0;34m(\u001b[0m\u001b[0mname\u001b[0m\u001b[0;34m,\u001b[0m \u001b[0mflags\u001b[0m\u001b[0;34m,\u001b[0m \u001b[0mfapl\u001b[0m\u001b[0;34m=\u001b[0m\u001b[0mfapl\u001b[0m\u001b[0;34m)\u001b[0m\u001b[0;34m\u001b[0m\u001b[0;34m\u001b[0m\u001b[0m\n\u001b[0m\u001b[1;32m    191\u001b[0m     \u001b[0;32melif\u001b[0m \u001b[0mmode\u001b[0m \u001b[0;34m==\u001b[0m \u001b[0;34m'r+'\u001b[0m\u001b[0;34m:\u001b[0m\u001b[0;34m\u001b[0m\u001b[0;34m\u001b[0m\u001b[0m\n\u001b[1;32m    192\u001b[0m         \u001b[0mfid\u001b[0m \u001b[0;34m=\u001b[0m \u001b[0mh5f\u001b[0m\u001b[0;34m.\u001b[0m\u001b[0mopen\u001b[0m\u001b[0;34m(\u001b[0m\u001b[0mname\u001b[0m\u001b[0;34m,\u001b[0m \u001b[0mh5f\u001b[0m\u001b[0;34m.\u001b[0m\u001b[0mACC_RDWR\u001b[0m\u001b[0;34m,\u001b[0m \u001b[0mfapl\u001b[0m\u001b[0;34m=\u001b[0m\u001b[0mfapl\u001b[0m\u001b[0;34m)\u001b[0m\u001b[0;34m\u001b[0m\u001b[0;34m\u001b[0m\u001b[0m\n",
            "\u001b[0;32mh5py/_objects.pyx\u001b[0m in \u001b[0;36mh5py._objects.with_phil.wrapper\u001b[0;34m()\u001b[0m\n",
            "\u001b[0;32mh5py/_objects.pyx\u001b[0m in \u001b[0;36mh5py._objects.with_phil.wrapper\u001b[0;34m()\u001b[0m\n",
            "\u001b[0;32mh5py/h5f.pyx\u001b[0m in \u001b[0;36mh5py.h5f.open\u001b[0;34m()\u001b[0m\n",
            "\u001b[0;31mOSError\u001b[0m: Unable to open file (file signature not found)"
          ]
        }
      ]
    },
    {
      "cell_type": "code",
      "source": [
        "# Obtaining the weights from the neural network. \n",
        "# These are the so called word embeddings\n",
        "\n",
        "# The input layer \n",
        "weights = model.get_weights()[0]\n",
        "\n",
        "# Creating a dictionary to store the embeddings in. The key is a unique word and \n",
        "# the value is the numeric vector\n",
        "embedding_dict = {}\n",
        "for word in words: \n",
        "    embedding_dict.update({\n",
        "        word: weights[unique_word_dict.get(word)]\n",
        "        })"
      ],
      "metadata": {
        "id": "SykKGrXiywQw"
      },
      "execution_count": null,
      "outputs": []
    },
    {
      "cell_type": "markdown",
      "source": [
        "This function will create a sorted dictionary of most similar vectors(words) with the value of similaritis.\n",
        "\n",
        "NOTICE: The spatial.cosine.distance() function from the scipy module calculates the distance instead of the cosine similarity, but to achieve that, we can subtract the value of the distance from 1."
      ],
      "metadata": {
        "id": "AqEJhs_JUH-m"
      }
    },
    {
      "cell_type": "code",
      "source": [
        "from scipy import spatial\n",
        "\n",
        "def near_words(word):\n",
        "  word_dimensions = weights[unique_word_dict.get(word)]\n",
        "  temp_dict = embedding_dict.copy()\n",
        "  for word in words: \n",
        "      temp_dict.update({\n",
        "          word: (1 - spatial.distance.cosine(word_dimensions , weights[unique_word_dict.get(word)]))\n",
        "          })\n",
        "  sorted_near_words = sorted(temp_dict.items(), key=lambda kv: kv[1], reverse = True)\n",
        "  return sorted_near_words"
      ],
      "metadata": {
        "id": "RucEuJFtNiyS"
      },
      "execution_count": null,
      "outputs": []
    },
    {
      "cell_type": "code",
      "source": [
        "near_words(\"دشمن\")"
      ],
      "metadata": {
        "colab": {
          "base_uri": "https://localhost:8080/"
        },
        "id": "1k8qulcCQ7Ja",
        "outputId": "fd0a85d3-bf14-4df1-e55d-745cc4401c1d"
      },
      "execution_count": null,
      "outputs": [
        {
          "output_type": "execute_result",
          "data": {
            "text/plain": [
              "[('دشمن', 1.0),\n",
              " ('دوستکام', 0.500657856464386),\n",
              " ('پرمهر', 0.4304129183292389),\n",
              " ('رهیم', 0.4125579297542572),\n",
              " ('دشمنم', 0.41054874658584595),\n",
              " ('سلامت', 0.40794193744659424),\n",
              " ('ضد', 0.4078054130077362),\n",
              " ('رقیب', 0.3997301161289215),\n",
              " ('چاشتم', 0.3961251676082611),\n",
              " ('کلی', 0.3872118592262268),\n",
              " ('داروم', 0.3695327341556549),\n",
              " ('لقمان', 0.36836540699005127),\n",
              " ('قلتبان', 0.36455094814300537),\n",
              " ('پیغامبران', 0.3610052168369293),\n",
              " ('ولیک', 0.35999372601509094),\n",
              " ('بمیرد', 0.35827508568763733),\n",
              " ('دلتنگ', 0.345121294260025),\n",
              " ('عجبی', 0.3450860381126404),\n",
              " ('ذوفنونم', 0.34433621168136597),\n",
              " ('زهری', 0.3406078517436981),\n",
              " ('تعب', 0.3402869999408722),\n",
              " ('ندانستم', 0.3402697741985321),\n",
              " ('خال', 0.33894842863082886),\n",
              " ('غمهایی', 0.33642899990081787),\n",
              " ('مبر', 0.33570724725723267),\n",
              " ('بامش', 0.3301372230052948),\n",
              " ('بردهست', 0.32786428928375244),\n",
              " ('بیدهان', 0.3245082199573517),\n",
              " ('فسوس', 0.3228190839290619),\n",
              " ('پربند', 0.3227880597114563),\n",
              " ('بازیهای', 0.3227103650569916),\n",
              " ('مهرهای', 0.32144150137901306),\n",
              " ('موم', 0.32066261768341064),\n",
              " ('ناخن', 0.3180416524410248),\n",
              " ('ناموس', 0.31785091757774353),\n",
              " ('منزلم', 0.31597238779067993),\n",
              " ('افتم', 0.31589698791503906),\n",
              " ('مبادم', 0.315387487411499),\n",
              " ('کتاب', 0.31481030583381653),\n",
              " ('ندزدید', 0.3140929639339447),\n",
              " ('غلاف', 0.31383654475212097),\n",
              " ('بقایی', 0.3128114938735962),\n",
              " ('زیان', 0.31121504306793213),\n",
              " ('فسادم', 0.31069427728652954),\n",
              " ('طورم', 0.3096132278442383),\n",
              " ('زفت', 0.3095487058162689),\n",
              " ('خواستهای', 0.30894240736961365),\n",
              " ('ستم', 0.3089263141155243),\n",
              " ('کام', 0.3087863624095917),\n",
              " ('خریدارم', 0.3076464533805847),\n",
              " ('وه', 0.3062354326248169),\n",
              " ('نیکیم', 0.3060731589794159),\n",
              " ('زیبای', 0.30581679940223694),\n",
              " ('خواب', 0.3046199083328247),\n",
              " ('کفک', 0.3036532402038574),\n",
              " ('بخشی', 0.30297231674194336),\n",
              " ('ضلال', 0.30198660492897034),\n",
              " ('معشوقه', 0.301024466753006),\n",
              " ('استغفار', 0.3006172776222229),\n",
              " ('غمخوار', 0.30004507303237915),\n",
              " ('تافته', 0.29982006549835205),\n",
              " ('فقیرم', 0.2997658848762512),\n",
              " ('ریزتر', 0.2996801435947418),\n",
              " ('بیخبرم', 0.2993333041667938),\n",
              " ('بدی', 0.29930323362350464),\n",
              " ('کبابم', 0.2984422445297241),\n",
              " ('فشانان', 0.2968740463256836),\n",
              " ('اقراریم', 0.29484549164772034),\n",
              " ('سیلاب', 0.2946830689907074),\n",
              " ('صورم', 0.29447585344314575),\n",
              " ('کینم', 0.2944517135620117),\n",
              " ('مستقینی', 0.2943245470523834),\n",
              " ('فرمایی', 0.2942996025085449),\n",
              " ('ذوقی', 0.2935086488723755),\n",
              " ('بپران', 0.2910500764846802),\n",
              " ('کاش', 0.28995823860168457),\n",
              " ('اسپش', 0.2896987497806549),\n",
              " ('صافی', 0.2894895076751709),\n",
              " ('قشلق', 0.28812387585639954),\n",
              " ('ادب', 0.28774771094322205),\n",
              " ('شها', 0.28617870807647705),\n",
              " ('صورتی', 0.28570497035980225),\n",
              " ('نظارهایم', 0.2856084704399109),\n",
              " ('ربودم', 0.2851521074771881),\n",
              " ('دروازه', 0.2843863070011139),\n",
              " ('جاهل', 0.28428637981414795),\n",
              " ('ستیزت', 0.28372296690940857),\n",
              " ('هشیارت', 0.28321346640586853),\n",
              " ('نظرش', 0.28145989775657654),\n",
              " ('بیمرد', 0.2807539999485016),\n",
              " ('مأجوج', 0.2800467908382416),\n",
              " ('مشکلات', 0.27982696890830994),\n",
              " ('لبانت', 0.2797180116176605),\n",
              " ('دادهام', 0.279707670211792),\n",
              " ('نردیم', 0.2795822322368622),\n",
              " ('غیر', 0.2794501483440399),\n",
              " ('عمم', 0.27905699610710144),\n",
              " ('سنگیم', 0.2778356373310089),\n",
              " ('ذا', 0.2774858772754669),\n",
              " ('ببستن', 0.2772343158721924),\n",
              " ('مباد', 0.2770806849002838),\n",
              " ('هوسش', 0.2770179510116577),\n",
              " ('محبت', 0.27700191736221313),\n",
              " ('مهربانی', 0.2765319347381592),\n",
              " ('چرخها', 0.27642980217933655),\n",
              " ('افزاست', 0.27568674087524414),\n",
              " ('بیابی', 0.27567777037620544),\n",
              " ('درربودم', 0.27565544843673706),\n",
              " ('افسردهای', 0.2751287817955017),\n",
              " ('صفرایی', 0.27500030398368835),\n",
              " ('آرای', 0.27491167187690735),\n",
              " ('حل', 0.2744459807872772),\n",
              " ('لالا', 0.274259090423584),\n",
              " ('آفت', 0.2741463780403137),\n",
              " ('زیرکسار', 0.27384087443351746),\n",
              " ('کاصحاب', 0.2735430896282196),\n",
              " ('کاین', 0.27340608835220337),\n",
              " ('بخر', 0.2725434899330139),\n",
              " ('فکرتها', 0.27204424142837524),\n",
              " ('مسلم', 0.27187100052833557),\n",
              " ('کاره', 0.27161645889282227),\n",
              " ('مشهورم', 0.27097994089126587),\n",
              " ('ناطق', 0.2707418203353882),\n",
              " ('عروسان', 0.2703699767589569),\n",
              " ('ربودیم', 0.2702682316303253),\n",
              " ('غریبستان', 0.2702169418334961),\n",
              " ('غمگسار', 0.2689712345600128),\n",
              " ('سخت', 0.2681308090686798),\n",
              " ('بستن', 0.2670864164829254),\n",
              " ('راحتها', 0.26696091890335083),\n",
              " ('سبکسار', 0.2668793499469757),\n",
              " ('داشتی', 0.2667352259159088),\n",
              " ('منشین', 0.2667119801044464),\n",
              " ('سپاری', 0.26644060015678406),\n",
              " ('موافقت', 0.26640352606773376),\n",
              " ('معهوده', 0.2661714255809784),\n",
              " ('افسونش', 0.2659749388694763),\n",
              " ('میل', 0.2655027210712433),\n",
              " ('خوشم', 0.2653142213821411),\n",
              " ('نگردد', 0.26418694853782654),\n",
              " ('کثیف', 0.26371583342552185),\n",
              " ('قمریم', 0.26369988918304443),\n",
              " ('بنوردم', 0.2635718882083893),\n",
              " ('گیرای', 0.26305264234542847),\n",
              " ('بوالحسن', 0.26304781436920166),\n",
              " ('بدرود', 0.26251184940338135),\n",
              " ('قلاش', 0.2620552182197571),\n",
              " ('ناپدیدیم', 0.26199477910995483),\n",
              " ('نسب', 0.2618602514266968),\n",
              " ('ناودان', 0.26156410574913025),\n",
              " ('خفاشم', 0.2611270844936371),\n",
              " ('نگرید', 0.2608453929424286),\n",
              " ('کافران', 0.2607739567756653),\n",
              " ('جرمم', 0.26045820116996765),\n",
              " ('کندن', 0.2597687244415283),\n",
              " ('صافتریم', 0.2597530782222748),\n",
              " ('بینشانیم', 0.2595304548740387),\n",
              " ('نمکدان', 0.25936785340309143),\n",
              " ('نیاید', 0.25903356075286865),\n",
              " ('رحمتم', 0.2587161362171173),\n",
              " ('ملول', 0.2587012052536011),\n",
              " ('نزارش', 0.2585209608078003),\n",
              " ('بازگونه', 0.2580881714820862),\n",
              " ('نیارایی', 0.2574518918991089),\n",
              " ('رهیدن', 0.25735384225845337),\n",
              " ('وتد', 0.2571223974227905),\n",
              " ('خارشهای', 0.25701770186424255),\n",
              " ('نجات', 0.25687384605407715),\n",
              " ('خفتهست', 0.25649750232696533),\n",
              " ('اندیشهها', 0.2564566135406494),\n",
              " ('صنم', 0.25627192854881287),\n",
              " ('بودی', 0.25623568892478943),\n",
              " ('تهدید', 0.25594258308410645),\n",
              " ('عیانش', 0.25578081607818604),\n",
              " ('پیرانم', 0.2555161416530609),\n",
              " ('هدیه', 0.2553454637527466),\n",
              " ('نانوا', 0.25513142347335815),\n",
              " ('نبیذ', 0.25472620129585266),\n",
              " ('جسمانیی', 0.25470176339149475),\n",
              " ('اندرکنی', 0.25441187620162964),\n",
              " ('نمودم', 0.2542073726654053),\n",
              " ('دوغگین', 0.2540357708930969),\n",
              " ('حریریم', 0.2537432312965393),\n",
              " ('حضور', 0.25346067547798157),\n",
              " ('قند', 0.2531582713127136),\n",
              " ('پرید', 0.25233814120292664),\n",
              " ('برناییم', 0.2520052492618561),\n",
              " ('سجین', 0.25194627046585083),\n",
              " ('سپاریم', 0.2518797814846039),\n",
              " ('لب', 0.251480370759964),\n",
              " ('غباری', 0.25102540850639343),\n",
              " ('نیشکر', 0.25087711215019226),\n",
              " ('وزان', 0.25071364641189575),\n",
              " ('کاروانها', 0.2500995099544525),\n",
              " ('نتان', 0.2498658448457718),\n",
              " ('شنیدم', 0.2496848702430725),\n",
              " ('ذرات', 0.24954529106616974),\n",
              " ('بسوزان', 0.24929524958133698),\n",
              " ('قافیه', 0.24917258322238922),\n",
              " ('عزیزم', 0.24892011284828186),\n",
              " ('نفیر', 0.24882984161376953),\n",
              " ('ورزش', 0.24794097244739532),\n",
              " ('احمر', 0.24761079251766205),\n",
              " ('مدزد', 0.24747207760810852),\n",
              " ('برگسلیم', 0.2473413348197937),\n",
              " ('موسوی', 0.2470477819442749),\n",
              " ('بیمزه', 0.24690844118595123),\n",
              " ('بیاشام', 0.24673907458782196),\n",
              " ('خلقی', 0.24586501717567444),\n",
              " ('عیانیم', 0.24569089710712433),\n",
              " ('نشناسد', 0.24565447866916656),\n",
              " ('نگریزی', 0.24547593295574188),\n",
              " ('شفق', 0.24521246552467346),\n",
              " ('سپار', 0.24511367082595825),\n",
              " ('دیگری', 0.24438701570034027),\n",
              " ('حیرانی', 0.2441043108701706),\n",
              " ('سزایم', 0.24409052729606628),\n",
              " ('تن', 0.24388419091701508),\n",
              " ('برگزاریم', 0.2436445653438568),\n",
              " ('مشکلم', 0.2435815930366516),\n",
              " ('کودنم', 0.24328204989433289),\n",
              " ('سلیم', 0.2432732880115509),\n",
              " ('بگشاده', 0.24274764955043793),\n",
              " ('خفی', 0.2425907403230667),\n",
              " ('مزیجی', 0.24257420003414154),\n",
              " ('برسوزد', 0.24236494302749634),\n",
              " ('مویم', 0.24233664572238922),\n",
              " ('کرار', 0.24226322770118713),\n",
              " ('آمدهام', 0.24197402596473694),\n",
              " ('دررسان', 0.24165008962154388),\n",
              " ('بازارگان', 0.24144525825977325),\n",
              " ('تسخر', 0.24140261113643646),\n",
              " ('نپرم', 0.24120095372200012),\n",
              " ('کب', 0.241176038980484),\n",
              " ('منکرانت', 0.24093306064605713),\n",
              " ('فشار', 0.24064907431602478),\n",
              " ('رستخیز', 0.2402324378490448),\n",
              " ('کهربام', 0.24022933840751648),\n",
              " ('گداز', 0.2400977611541748),\n",
              " ('ملازم', 0.2398512363433838),\n",
              " ('همیگفتم', 0.23982875049114227),\n",
              " ('پروریدن', 0.23968183994293213),\n",
              " ('ناخنم', 0.23924283683300018),\n",
              " ('سگی', 0.23914361000061035),\n",
              " ('افشردم', 0.2390933334827423),\n",
              " ('نریزی', 0.23900100588798523),\n",
              " ('مؤمنی', 0.23849058151245117),\n",
              " ('بابا', 0.23830115795135498),\n",
              " ('مجرد', 0.23822826147079468),\n",
              " ('شکرفروشش', 0.23821930587291718),\n",
              " ('برونت', 0.23820839822292328),\n",
              " ('نزد', 0.2378045618534088),\n",
              " ('پندم', 0.23772543668746948),\n",
              " ('عطارم', 0.23764681816101074),\n",
              " ('سازدش', 0.23745544254779816),\n",
              " ('جلاب', 0.23733706772327423),\n",
              " ('استادی', 0.237188458442688),\n",
              " ('ناسور', 0.23716729879379272),\n",
              " ('انعام', 0.23668360710144043),\n",
              " ('هوشیاری', 0.23666685819625854),\n",
              " ('زمانیم', 0.23654593527317047),\n",
              " ('ذقنم', 0.23648463189601898),\n",
              " ('پریدی', 0.23643124103546143),\n",
              " ('بها', 0.2361656129360199),\n",
              " ('بنخاسی', 0.23606333136558533),\n",
              " ('ریسمان', 0.2359980046749115),\n",
              " ('پیت', 0.23590245842933655),\n",
              " ('سودمندم', 0.23569749295711517),\n",
              " ('دهان', 0.23564159870147705),\n",
              " ('گهرها', 0.23560327291488647),\n",
              " ('بوبکر', 0.23558059334754944),\n",
              " ('سرمستت', 0.23529379069805145),\n",
              " ('گردابها', 0.23446202278137207),\n",
              " ('اسیریم', 0.23439648747444153),\n",
              " ('نبودی', 0.23437125980854034),\n",
              " ('گزیرم', 0.23437106609344482),\n",
              " ('سکرتأثیرم', 0.23432300984859467),\n",
              " ('بیادبان', 0.23421694338321686),\n",
              " ('غیبی', 0.2340664118528366),\n",
              " ('سیاهی', 0.23399385809898376),\n",
              " ('لافیم', 0.2339068353176117),\n",
              " ('خاموشانهای', 0.23389485478401184),\n",
              " ('ندانستی', 0.23383685946464539),\n",
              " ('زمزمه', 0.2336929440498352),\n",
              " ('دایهای', 0.2336900681257248),\n",
              " ('ربیع', 0.23356588184833527),\n",
              " ('مبدل', 0.23330499231815338),\n",
              " ('نستانم', 0.2332531362771988),\n",
              " ('رحم', 0.2331891804933548),\n",
              " ('اعلام', 0.2331087589263916),\n",
              " ('افکندهست', 0.2330257147550583),\n",
              " ('دلانم', 0.232975572347641),\n",
              " ('عرض', 0.23295509815216064),\n",
              " ('شدش', 0.23287761211395264),\n",
              " ('چراغی', 0.2328186184167862),\n",
              " ('ستایم', 0.2326657772064209),\n",
              " ('کرشمه', 0.2325042486190796),\n",
              " ('بمبند', 0.23250223696231842),\n",
              " ('پست', 0.2324429154396057),\n",
              " ('کشاکشهاست', 0.23199820518493652),\n",
              " ('عاطل', 0.23194943368434906),\n",
              " ('وانگه', 0.23188810050487518),\n",
              " ('بیراهی', 0.2318522185087204),\n",
              " ('نگفتی', 0.23163528740406036),\n",
              " ('اوفتیدم', 0.23123851418495178),\n",
              " ('سپاران', 0.23069435358047485),\n",
              " ('فلانی', 0.23054534196853638),\n",
              " ('بدنام', 0.23053455352783203),\n",
              " ('همیکن', 0.2304653376340866),\n",
              " ('گفتی', 0.23045216500759125),\n",
              " ('عیسیی', 0.2302202433347702),\n",
              " ('رطب', 0.23009870946407318),\n",
              " ('حمول', 0.22994960844516754),\n",
              " ('جنانا', 0.2295626848936081),\n",
              " ('بخرام', 0.2293180525302887),\n",
              " ('نداند', 0.22913771867752075),\n",
              " ('آیینه', 0.22862891852855682),\n",
              " ('خیزد', 0.22849172353744507),\n",
              " ('بنم', 0.2283269613981247),\n",
              " ('فروهشته', 0.22806933522224426),\n",
              " ('پرسد', 0.228022038936615),\n",
              " ('زدستی', 0.22793211042881012),\n",
              " ('جامم', 0.22790266573429108),\n",
              " ('گشای', 0.2277185469865799),\n",
              " ('نهیم', 0.2276628464460373),\n",
              " ('برآیم', 0.227498859167099),\n",
              " ('خاید', 0.2272433042526245),\n",
              " ('بصارتی', 0.22716788947582245),\n",
              " ('برنکنی', 0.2271123081445694),\n",
              " ('بیشم', 0.22689007222652435),\n",
              " ('بگفتید', 0.2268858253955841),\n",
              " ('انصتواش', 0.22615955770015717),\n",
              " ('گدازان', 0.22612057626247406),\n",
              " ('مکینم', 0.22595594823360443),\n",
              " ('نمودی', 0.22548453509807587),\n",
              " ('طوفان', 0.22529831528663635),\n",
              " ('بخور', 0.225145161151886),\n",
              " ('شکالی', 0.22514253854751587),\n",
              " ('بیجمالت', 0.2249208241701126),\n",
              " ('نیی', 0.22429822385311127),\n",
              " ('دانا', 0.22410699725151062),\n",
              " ('فایده', 0.22365780174732208),\n",
              " ('زیور', 0.2236108034849167),\n",
              " ('آب', 0.2235407680273056),\n",
              " ('پیرو', 0.22341808676719666),\n",
              " ('نجنبد', 0.22313669323921204),\n",
              " ('اناالحق', 0.22299310564994812),\n",
              " ('قلماشیت', 0.2228800654411316),\n",
              " ('آنی', 0.22280481457710266),\n",
              " ('گورستان', 0.2227877825498581),\n",
              " ('اهلاک', 0.2226334810256958),\n",
              " ('درفشان', 0.22245092689990997),\n",
              " ('گهواره', 0.22225837409496307),\n",
              " ('توامان', 0.22221721708774567),\n",
              " ('کیانید', 0.22213855385780334),\n",
              " ('معاف', 0.2220449000597),\n",
              " ('جهان', 0.22166019678115845),\n",
              " ('غارتگر', 0.22165001928806305),\n",
              " ('ستار', 0.2215682566165924),\n",
              " ('بیکرانه', 0.22149525582790375),\n",
              " ('بشویم', 0.22140495479106903),\n",
              " ('همیبخشد', 0.221374049782753),\n",
              " ('بلبلم', 0.22124075889587402),\n",
              " ('کیهان', 0.22121424973011017),\n",
              " ('اکثر', 0.22104361653327942),\n",
              " ('حیدر', 0.2209332436323166),\n",
              " ('طبیبان', 0.2206326276063919),\n",
              " ('زودتر', 0.22034615278244019),\n",
              " ('بیجفت', 0.22022993862628937),\n",
              " ('باده', 0.22015078365802765),\n",
              " ('بیزیر', 0.22008107602596283),\n",
              " ('دهی', 0.21992145478725433),\n",
              " ('ندیدیم', 0.21991191804409027),\n",
              " ('کسب', 0.21988967061042786),\n",
              " ('قلندر', 0.2197234332561493),\n",
              " ('صبورم', 0.21948590874671936),\n",
              " ('انداخته', 0.2193996012210846),\n",
              " ('مردهام', 0.2191380113363266),\n",
              " ('سرخوشم', 0.21854731440544128),\n",
              " ('بشنود', 0.21850177645683289),\n",
              " ('خورت', 0.21846012771129608),\n",
              " ('معمار', 0.21843641996383667),\n",
              " ('دخول', 0.21815991401672363),\n",
              " ('دیدگان', 0.21806125342845917),\n",
              " ('بسوزیده', 0.2177858054637909),\n",
              " ('کلابهست', 0.21768856048583984),\n",
              " ('چونم', 0.21757246553897858),\n",
              " ('حد', 0.21742357313632965),\n",
              " ('خوردنی', 0.21735940873622894),\n",
              " ('معزول', 0.21730060875415802),\n",
              " ('زاریدهام', 0.21728554368019104),\n",
              " ('افروز', 0.21726197004318237),\n",
              " ('پرعید', 0.21714752912521362),\n",
              " ('یگانگی', 0.217039093375206),\n",
              " ('بتافت', 0.21686787903308868),\n",
              " ('بیحیات', 0.21664853394031525),\n",
              " ('گرفتارم', 0.21651312708854675),\n",
              " ('پرخاک', 0.2164369523525238),\n",
              " ('عم', 0.21630659699440002),\n",
              " ('بیسود', 0.21601223945617676),\n",
              " ('آموز', 0.21593062579631805),\n",
              " ('بیدرد', 0.21550047397613525),\n",
              " ('املی', 0.2152889370918274),\n",
              " ('کدخدات', 0.2152569741010666),\n",
              " ('صبحا', 0.21515531837940216),\n",
              " ('بازآمد', 0.21512427926063538),\n",
              " ('کنارم', 0.21504749357700348),\n",
              " ('بیاندازه', 0.21504469215869904),\n",
              " ('افسون', 0.21499577164649963),\n",
              " ('مشنو', 0.21483862400054932),\n",
              " ('بخند', 0.21483200788497925),\n",
              " ('بدادی', 0.21478891372680664),\n",
              " ('بیمکانم', 0.21468549966812134),\n",
              " ('واجب', 0.2146792709827423),\n",
              " ('ارسلان', 0.2146204560995102),\n",
              " ('سوزنش', 0.21401451528072357),\n",
              " ('حاجتش', 0.21354295313358307),\n",
              " ('النعم', 0.2134275734424591),\n",
              " ('گشادن', 0.21297521889209747),\n",
              " ('حربها', 0.21293313801288605),\n",
              " ('بگذشتیم', 0.21287864446640015),\n",
              " ('بم', 0.21281898021697998),\n",
              " ('ضرر', 0.21272075176239014),\n",
              " ('بیاموزی', 0.21230633556842804),\n",
              " ('لعب', 0.21223370730876923),\n",
              " ('انجمن', 0.21211209893226624),\n",
              " ('حیات', 0.21203921735286713),\n",
              " ('مهلکتر', 0.21199214458465576),\n",
              " ('درگذر', 0.21184073388576508),\n",
              " ('صفرا', 0.21159256994724274),\n",
              " ('کامم', 0.21157127618789673),\n",
              " ('عثار', 0.21146462857723236),\n",
              " ('دیدههای', 0.2111797332763672),\n",
              " ('ترازو', 0.21089842915534973),\n",
              " ('ظلم', 0.21083642542362213),\n",
              " ('مسیحی', 0.21060317754745483),\n",
              " ('زبانم', 0.21059511601924896),\n",
              " ('حلاوتی', 0.21049131453037262),\n",
              " ('مدان', 0.210409015417099),\n",
              " ('قزغان', 0.210408553481102),\n",
              " ('جانم', 0.21037828922271729),\n",
              " ('دورم', 0.21030713617801666),\n",
              " ('افزون', 0.20992149412631989),\n",
              " ('درخور', 0.20990359783172607),\n",
              " ('لطافتش', 0.20977678894996643),\n",
              " ('فانیی', 0.20940585434436798),\n",
              " ('بدانم', 0.20940059423446655),\n",
              " ('ببرید', 0.20934675633907318),\n",
              " ('زدهام', 0.20933839678764343),\n",
              " ('چشاند', 0.2093200534582138),\n",
              " ('خاکی', 0.2091791033744812),\n",
              " ('بمشوران', 0.20874005556106567),\n",
              " ('بزنی', 0.20858871936798096),\n",
              " ('فضله', 0.20858541131019592),\n",
              " ('خلاق', 0.20858405530452728),\n",
              " ('نداری', 0.20853541791439056),\n",
              " ('عبره', 0.20846860110759735),\n",
              " ('پخت', 0.2084151655435562),\n",
              " ('طغار', 0.20841063559055328),\n",
              " ('عنبرشان', 0.20829711854457855),\n",
              " ('فن', 0.2080194652080536),\n",
              " ('ژاژ', 0.207950159907341),\n",
              " ('خاموشی', 0.20791412889957428),\n",
              " ('گمانی', 0.20747624337673187),\n",
              " ('برآر', 0.20735232532024384),\n",
              " ('بینشان', 0.2072676420211792),\n",
              " ('معقولی', 0.20697076618671417),\n",
              " ('بخواندی', 0.20693327486515045),\n",
              " ('بزایم', 0.20681746304035187),\n",
              " ('بیزیان', 0.2066982239484787),\n",
              " ('حجت', 0.206497922539711),\n",
              " ('هذیان', 0.2064518928527832),\n",
              " ('عصارم', 0.20643536746501923),\n",
              " ('پررنگ', 0.20635409653186798),\n",
              " ('خشک', 0.2062000185251236),\n",
              " ('مسخره', 0.20613403618335724),\n",
              " ('باشی', 0.20589739084243774),\n",
              " ('مروت', 0.20580945909023285),\n",
              " ('رمز', 0.205781489610672),\n",
              " ('قاعده', 0.20564456284046173),\n",
              " ('تبه', 0.20476284623146057),\n",
              " ('فعلاتن', 0.20464646816253662),\n",
              " ('باخودیها', 0.20456811785697937),\n",
              " ('جفت', 0.20454612374305725),\n",
              " ('پرآب', 0.2043333202600479),\n",
              " ('نمیترسی', 0.20433267951011658),\n",
              " ('بیدهنی', 0.20405206084251404),\n",
              " ('فزا', 0.20396965742111206),\n",
              " ('مستعینی', 0.20379804074764252),\n",
              " ('برق', 0.20369957387447357),\n",
              " ('قره', 0.20367904007434845),\n",
              " ('عقد', 0.20360876619815826),\n",
              " ('جان', 0.20356439054012299),\n",
              " ('فرازی', 0.20341458916664124),\n",
              " ('شکایتها', 0.2029411345720291),\n",
              " ('زمن', 0.20233017206192017),\n",
              " ('دریاهای', 0.20185968279838562),\n",
              " ('معجب', 0.20179855823516846),\n",
              " ('شمعیم', 0.2016938477754593),\n",
              " ('کلاهی', 0.20161038637161255),\n",
              " ('لیلی', 0.2015039175748825),\n",
              " ('خداوندا', 0.20144802331924438),\n",
              " ('پرچین', 0.20142759382724762),\n",
              " ('ستان', 0.2008441835641861),\n",
              " ('یوزان', 0.20070897042751312),\n",
              " ('بیانش', 0.20070868730545044),\n",
              " ('یمینش', 0.20048366487026215),\n",
              " ('بلیس', 0.20043277740478516),\n",
              " ('حملش', 0.20027577877044678),\n",
              " ('بوالعلا', 0.20026756823062897),\n",
              " ('ناقورم', 0.2001737654209137),\n",
              " ('بگشادند', 0.20012429356575012),\n",
              " ('سازیم', 0.20009523630142212),\n",
              " ('مهر', 0.2000850886106491),\n",
              " ('نیاری', 0.199883833527565),\n",
              " ('بکندم', 0.1998344212770462),\n",
              " ('داستان', 0.19979393482208252),\n",
              " ('ملکش', 0.19968083500862122),\n",
              " ('ناقتی', 0.19956469535827637),\n",
              " ('دلسوز', 0.19950349628925323),\n",
              " ('اسیرانم', 0.19924843311309814),\n",
              " ('دیوانگان', 0.19918005168437958),\n",
              " ('عنقا', 0.19914965331554413),\n",
              " ('پوشد', 0.19914782047271729),\n",
              " ('پربندت', 0.19912347197532654),\n",
              " ('المنن', 0.1990261822938919),\n",
              " ('تسبیحش', 0.19880305230617523),\n",
              " ('فروخت', 0.19878332316875458),\n",
              " ('پارهای', 0.19876129925251007),\n",
              " ('حلب', 0.19870439171791077),\n",
              " ('منام', 0.19852527976036072),\n",
              " ('کمترم', 0.19850116968154907),\n",
              " ('اسباب', 0.1983315497636795),\n",
              " ('فشاند', 0.19829724729061127),\n",
              " ('درآموز', 0.1980440765619278),\n",
              " ('درنگنجی', 0.19773492217063904),\n",
              " ('عزیزی', 0.19772286713123322),\n",
              " ('شهش', 0.19767847657203674),\n",
              " ('لذت', 0.1976577192544937),\n",
              " ('کمیزم', 0.19765077531337738),\n",
              " ('مکیدن', 0.1975678652524948),\n",
              " ('غداره', 0.19750016927719116),\n",
              " ('فیلند', 0.19748982787132263),\n",
              " ('بیخویشی', 0.19743841886520386),\n",
              " ('بیقرارم', 0.19740572571754456),\n",
              " ('فردم', 0.1971447616815567),\n",
              " ('دربافتیم', 0.1970481425523758),\n",
              " ('بنمودیم', 0.19696873426437378),\n",
              " ('قیاسی', 0.1968187391757965),\n",
              " ('دلیل', 0.1966092735528946),\n",
              " ('مطربان', 0.19650734961032867),\n",
              " ('قبایی', 0.19649307429790497),\n",
              " ('نتواند', 0.1964903324842453),\n",
              " ('وابسته', 0.1964845359325409),\n",
              " ('بزرگی', 0.19637633860111237),\n",
              " ('فسریدن', 0.196336567401886),\n",
              " ('کنیزک', 0.19632630050182343),\n",
              " ('ضعف', 0.1962626427412033),\n",
              " ('مایه', 0.19623398780822754),\n",
              " ('دردانه', 0.1962013840675354),\n",
              " ('برببسته', 0.19617635011672974),\n",
              " ('شکرافشان', 0.19602151215076447),\n",
              " ('بامت', 0.19590413570404053),\n",
              " ('فراموشم', 0.19590121507644653),\n",
              " ('سرفتنه', 0.19582098722457886),\n",
              " ('فرع', 0.19529655575752258),\n",
              " ('مکوش', 0.19525675475597382),\n",
              " ('منن', 0.19524461030960083),\n",
              " ('انافتحنا', 0.19523699581623077),\n",
              " ('نقلش', 0.1952073574066162),\n",
              " ('بندهات', 0.19492027163505554),\n",
              " ('عتاب', 0.19480818510055542),\n",
              " ('کاهم', 0.19470126926898956),\n",
              " ('بگفتهای', 0.1946590095758438),\n",
              " ('جاندار', 0.19459007680416107),\n",
              " ('برجوش', 0.1944122016429901),\n",
              " ('ضایع', 0.19434618949890137),\n",
              " ('بازگونم', 0.19431191682815552),\n",
              " ('سلطانم', 0.19424772262573242),\n",
              " ('دادمش', 0.19419918954372406),\n",
              " ('قالبت', 0.19417698681354523),\n",
              " ('شوران', 0.1940644234418869),\n",
              " ('زبانی', 0.19383028149604797),\n",
              " ('ندادم', 0.19357766211032867),\n",
              " ('طرفه', 0.1933252066373825),\n",
              " ('جعل', 0.19309677183628082),\n",
              " ('مهتابم', 0.1930052936077118),\n",
              " ('کونین', 0.1928008496761322),\n",
              " ('رخم', 0.19274502992630005),\n",
              " ('زو', 0.19263742864131927),\n",
              " ('تارم', 0.19256055355072021),\n",
              " ('حاتم', 0.19251801073551178),\n",
              " ('گرسنه', 0.19249176979064941),\n",
              " ('نقصان', 0.19246713817119598),\n",
              " ('طب', 0.19246621429920197),\n",
              " ('لطافتهای', 0.19239340722560883),\n",
              " ('آسمانم', 0.19235444068908691),\n",
              " ('همچون', 0.19231143593788147),\n",
              " ('خونین', 0.19211725890636444),\n",
              " ('کاملی', 0.19209976494312286),\n",
              " ('درهم', 0.19202008843421936),\n",
              " ('سراپرده', 0.191981703042984),\n",
              " ('کاستاد', 0.19180960953235626),\n",
              " ('خاکدانت', 0.1915864795446396),\n",
              " ('بنوردیم', 0.19158175587654114),\n",
              " ('مولد', 0.19146688282489777),\n",
              " ('نکشند', 0.19142350554466248),\n",
              " ('غواصی', 0.1912103146314621),\n",
              " ('نضار', 0.19113391637802124),\n",
              " ('دبس', 0.19101209938526154),\n",
              " ('گوهرت', 0.1909904181957245),\n",
              " ('پاکتر', 0.19095459580421448),\n",
              " ('شبهای', 0.19094082713127136),\n",
              " ('کهربای', 0.19091759622097015),\n",
              " ('بابشارتی', 0.19047106802463531),\n",
              " ('طوطی', 0.1904585063457489),\n",
              " ('مپرس', 0.19033929705619812),\n",
              " ('برفکنده', 0.1903095841407776),\n",
              " ('دلویم', 0.1901508867740631),\n",
              " ('بنان', 0.19014599919319153),\n",
              " ('عیدگاه', 0.18999478220939636),\n",
              " ('السماء', 0.18994183838367462),\n",
              " ('قدح', 0.1898585557937622),\n",
              " ('خوشین', 0.1897220015525818),\n",
              " ('بیزبان', 0.18970507383346558),\n",
              " ('حرونم', 0.18967342376708984),\n",
              " ('آثار', 0.18962444365024567),\n",
              " ('برآیی', 0.18958735466003418),\n",
              " ('شنیدن', 0.18950055539608002),\n",
              " ('نوسبق', 0.18944722414016724),\n",
              " ('خاریم', 0.18943467736244202),\n",
              " ('هوی', 0.1893850564956665),\n",
              " ('بینیازی', 0.1893015205860138),\n",
              " ('بگردم', 0.1892799586057663),\n",
              " ('اگریم', 0.18921639025211334),\n",
              " ('بخریده', 0.1891266256570816),\n",
              " ('وصال', 0.1891201138496399),\n",
              " ('تاش', 0.18902716040611267),\n",
              " ('کردار', 0.18891502916812897),\n",
              " ('بیش', 0.1888614296913147),\n",
              " ('البقا', 0.18886131048202515),\n",
              " ('سایهای', 0.1887134462594986),\n",
              " ('فدای', 0.1886844038963318),\n",
              " ('عاشقان', 0.18863828480243683),\n",
              " ('اخرس', 0.18853981792926788),\n",
              " ('منت', 0.1884588897228241),\n",
              " ('تاجر', 0.18829074501991272),\n",
              " ('بوسد', 0.1879187524318695),\n",
              " ('دوریم', 0.1876773238182068),\n",
              " ('اوستادم', 0.1874118447303772),\n",
              " ('باتویی', 0.18728244304656982),\n",
              " ('دهلزن', 0.1872543841600418),\n",
              " ('شیرزادهایم', 0.18677861988544464),\n",
              " ('خوی', 0.18672870099544525),\n",
              " ('حدی', 0.1867164522409439),\n",
              " ('قبادم', 0.18633867800235748),\n",
              " ('خودکام', 0.18617138266563416),\n",
              " ('رایگان', 0.18611961603164673),\n",
              " ('ویرانه', 0.18604230880737305),\n",
              " ('چکم', 0.18602785468101501),\n",
              " ('میکدهایم', 0.18588952720165253),\n",
              " ('بوالفضول', 0.18585453927516937),\n",
              " ('شکرها', 0.18580786883831024),\n",
              " ('بگردانی', 0.18569421768188477),\n",
              " ('اسلم', 0.18557746708393097),\n",
              " ('پرستی', 0.1855068802833557),\n",
              " ('تقصیری', 0.18548476696014404),\n",
              " ('گندمین', 0.1854674071073532),\n",
              " ('دثارش', 0.18540415167808533),\n",
              " ('عاقلی', 0.1853923797607422),\n",
              " ('نطع', 0.18527011573314667),\n",
              " ('آسیب', 0.18517281115055084),\n",
              " ('روزت', 0.1851288229227066),\n",
              " ('عنگم', 0.18511755764484406),\n",
              " ('شکایت', 0.1849820613861084),\n",
              " ('نوربین', 0.1849667727947235),\n",
              " ('مجنون', 0.1848531812429428),\n",
              " ('ذوالمنن', 0.18479140102863312),\n",
              " ('گشاد', 0.1847190111875534),\n",
              " ('بادهست', 0.18471655249595642),\n",
              " ('والسلام', 0.1846686452627182),\n",
              " ('صورت', 0.18466408550739288),\n",
              " ('نیازارم', 0.184306338429451),\n",
              " ('کفایت', 0.18418380618095398),\n",
              " ('عافیت', 0.1841684877872467),\n",
              " ('باایثار', 0.18412771821022034),\n",
              " ('نفاق', 0.18408378958702087),\n",
              " ('بکرد', 0.1838601678609848),\n",
              " ('شرطها', 0.18375764787197113),\n",
              " ('همنشینان', 0.1836106777191162),\n",
              " ('حیوان', 0.18352776765823364),\n",
              " ('صباح', 0.1834975630044937),\n",
              " ('فردام', 0.18348272144794464),\n",
              " ('خامشیم', 0.1834820657968521),\n",
              " ('بیگانگیش', 0.18347574770450592),\n",
              " ('باشدش', 0.18342077732086182),\n",
              " ('اعدادیم', 0.18334870040416718),\n",
              " ('ناگهانی', 0.18329191207885742),\n",
              " ('کدامین', 0.18327444791793823),\n",
              " ('بگفتمش', 0.18319371342658997),\n",
              " ('آهوچشم', 0.18314848840236664),\n",
              " ('اسمعوا', 0.1831480711698532),\n",
              " ('نگزینم', 0.18275989592075348),\n",
              " ('دلش', 0.1825713813304901),\n",
              " ('ساله', 0.1825246661901474),\n",
              " ('ملوک', 0.18242019414901733),\n",
              " ('ببخش', 0.1823657751083374),\n",
              " ('نما', 0.18231916427612305),\n",
              " ('نبودم', 0.18229390680789948),\n",
              " ('ملک', 0.182123601436615),\n",
              " ('معجبم', 0.18205693364143372),\n",
              " ('وطن', 0.18186989426612854),\n",
              " ('امانی', 0.18173079192638397),\n",
              " ('کون', 0.18161320686340332),\n",
              " ('گریی', 0.1815367192029953),\n",
              " ('عسلم', 0.18141047656536102),\n",
              " ('کاشکی', 0.18140223622322083),\n",
              " ('الابصار', 0.18131954967975616),\n",
              " ('قصص', 0.1812179684638977),\n",
              " ('شرک', 0.18119537830352783),\n",
              " ('عاقل', 0.18102067708969116),\n",
              " ('خوشدلی', 0.18096868693828583),\n",
              " ('سپهدار', 0.18085946142673492),\n",
              " ('عارفانی', 0.18085266649723053),\n",
              " ('غواص', 0.1807958036661148),\n",
              " ('رواست', 0.18076857924461365),\n",
              " ('سکونتها', 0.1806841939687729),\n",
              " ('نیاسایی', 0.18062834441661835),\n",
              " ('کاهش', 0.18062756955623627),\n",
              " ('سحابم', 0.1806267648935318),\n",
              " ('سرمایهاش', 0.18062424659729004),\n",
              " ('منیم', 0.18061010539531708),\n",
              " ('چارتکبیری', 0.18057359755039215),\n",
              " ('طاف', 0.18056148290634155),\n",
              " ('ضحوکم', 0.1805429607629776),\n",
              " ('شکرقند', 0.1804955005645752),\n",
              " ('برعکس', 0.18040725588798523),\n",
              " ('زردت', 0.18029458820819855),\n",
              " ('دستی', 0.18014554679393768),\n",
              " ('عکسی', 0.1800823211669922),\n",
              " ('بتابیم', 0.18002621829509735),\n",
              " ('زهرت', 0.17997092008590698),\n",
              " ('گویای', 0.17995117604732513),\n",
              " ('اوش', 0.17990615963935852),\n",
              " ('سوداگر', 0.17987297475337982),\n",
              " ('فرحش', 0.1797567903995514),\n",
              " ('منزلگه', 0.17967058718204498),\n",
              " ('برسان', 0.17961211502552032),\n",
              " ('نمیدانم', 0.1794239580631256),\n",
              " ('خضری', 0.1792796105146408),\n",
              " ('نخفتهست', 0.17923179268836975),\n",
              " ('روشها', 0.17921032011508942),\n",
              " ('معطی', 0.17920996248722076),\n",
              " ('نویم', 0.17919351160526276),\n",
              " ('قندها', 0.1791742444038391),\n",
              " ('بازیچه', 0.17913739383220673),\n",
              " ('کنیش', 0.17910507321357727),\n",
              " ('نهادند', 0.17905870079994202),\n",
              " ('ریشت', 0.17902863025665283),\n",
              " ('بداند', 0.1789512038230896),\n",
              " ('مهابت', 0.17893046140670776),\n",
              " ('الحبک', 0.17857478559017181),\n",
              " ('خفتن', 0.1785205602645874),\n",
              " ('القاب', 0.17845454812049866),\n",
              " ('خسیس', 0.17841656506061554),\n",
              " ('نامم', 0.17840512096881866),\n",
              " ('صدزبان', 0.17828595638275146),\n",
              " ('محسوس', 0.1780485212802887),\n",
              " ('دیک', 0.17798779904842377),\n",
              " ('لولاک', 0.17792253196239471),\n",
              " ('بخش', 0.17781274020671844),\n",
              " ('عشرتم', 0.1776670217514038),\n",
              " ('مسلمانان', 0.1775924265384674),\n",
              " ('ساحل', 0.17740947008132935),\n",
              " ('بدیدهام', 0.1773717701435089),\n",
              " ('روپوشی', 0.17731225490570068),\n",
              " ('افغان', 0.17726847529411316),\n",
              " ('ندوم', 0.1772257685661316),\n",
              " ('گوهرهای', 0.17721502482891083),\n",
              " ('زحیر', 0.17718729376792908),\n",
              " ('طاس', 0.17718006670475006),\n",
              " ('مکانی', 0.17696630954742432),\n",
              " ('ربانیم', 0.17692172527313232),\n",
              " ('کمرها', 0.17675238847732544),\n",
              " ('هان', 0.17669528722763062),\n",
              " ('نبستم', 0.1766648143529892),\n",
              " ('سالار', 0.1766570806503296),\n",
              " ('سکرانم', 0.17659857869148254),\n",
              " ('نظرم', 0.17655141651630402),\n",
              " ('دامان', 0.17630746960639954),\n",
              " ('دردهای', 0.17625394463539124),\n",
              " ('ندیدم', 0.1762268841266632),\n",
              " ('دایم', 0.1761251986026764),\n",
              " ('کبریاییم', 0.1760205626487732),\n",
              " ('شق', 0.17600156366825104),\n",
              " ('مصمم', 0.17598195374011993),\n",
              " ('فرزانه', 0.17594803869724274),\n",
              " ('شنیده', 0.1758570373058319),\n",
              " ('نگاری', 0.17581020295619965),\n",
              " ('بیبهره', 0.1758030503988266),\n",
              " ('ثقلی', 0.17571574449539185),\n",
              " ('پدید', 0.17570413649082184),\n",
              " ('بینی', 0.17566153407096863),\n",
              " ('محض', 0.17557412385940552),\n",
              " ('قماشت', 0.17550981044769287),\n",
              " ('بنسوزد', 0.17546750605106354),\n",
              " ('درشان', 0.17540758848190308),\n",
              " ('دانایی', 0.17532753944396973),\n",
              " ('نجوشد', 0.175307497382164),\n",
              " ('چارم', 0.1752876490354538),\n",
              " ('بکشیم', 0.17528237402439117),\n",
              " ('ارزان', 0.1752578616142273),\n",
              " ('گرگین', 0.17523059248924255),\n",
              " ('رهیدیم', 0.17513857781887054),\n",
              " ('مگوی', 0.17511148750782013),\n",
              " ('نامدهست', 0.17510788142681122),\n",
              " ('صابران', 0.17507892847061157),\n",
              " ('خسیسم', 0.1750687062740326),\n",
              " ('حیاتی', 0.17458033561706543),\n",
              " ('خویشتن', 0.1743452399969101),\n",
              " ('جوییش', 0.17411543428897858),\n",
              " ('انگشتری', 0.17391949892044067),\n",
              " ('ترایم', 0.17387448251247406),\n",
              " ('ستمکاره', 0.17371124029159546),\n",
              " ('طرب', 0.17368827760219574),\n",
              " ('کانم', 0.17348141968250275),\n",
              " ('سگانش', 0.173451766371727),\n",
              " ('خوارم', 0.17342354357242584),\n",
              " ('نبودهست', 0.17336565256118774),\n",
              " ('اعلم', 0.17322565615177155),\n",
              " ('داخل', 0.17313483357429504),\n",
              " ('مرتدیم', 0.173008531332016),\n",
              " ('ای', 0.17289473116397858),\n",
              " ('درافکندهای', 0.17277468740940094),\n",
              " ('سوزیده', 0.17275619506835938),\n",
              " ('سراندازان', 0.1726996749639511),\n",
              " ('میدانی', 0.17269423604011536),\n",
              " ('جوابم', 0.17256851494312286),\n",
              " ('وثن', 0.17251409590244293),\n",
              " ('مطلوب', 0.17250490188598633),\n",
              " ('پرانیم', 0.1724861115217209),\n",
              " ('بنوشته', 0.17237132787704468),\n",
              " ('باور', 0.17209292948246002),\n",
              " ('ذات', 0.1719733029603958),\n",
              " ('مرحبا', 0.1718142181634903),\n",
              " ('میدانت', 0.17179647088050842),\n",
              " ('بیزحمت', 0.17179575562477112),\n",
              " ('بصریم', 0.1717134714126587),\n",
              " ('نایی', 0.17164346575737),\n",
              " ('منستی', 0.17160148918628693),\n",
              " ('بیازمودم', 0.17158225178718567),\n",
              " ('دویم', 0.1715749353170395),\n",
              " ('شیریم', 0.17157208919525146),\n",
              " ('جوانم', 0.1714041829109192),\n",
              " ('الملکی', 0.17124532163143158),\n",
              " ('نظریم', 0.1711692363023758),\n",
              " ('ران', 0.1711498349905014),\n",
              " ('ابریشم', 0.1711326390504837),\n",
              " ('کشاند', 0.17111797630786896),\n",
              " ('واقفم', 0.17108367383480072),\n",
              " ('غری', 0.1710146963596344),\n",
              " ('کالملک', 0.1709643304347992),\n",
              " ('خنگ', 0.17091146111488342),\n",
              " ('زاید', 0.17088794708251953),\n",
              " ('حلق', 0.17088420689105988),\n",
              " ('بجنبان', 0.17082831263542175),\n",
              " ('افتند', 0.1706887185573578),\n",
              " ('آمیزش', 0.1706724315881729),\n",
              " ('سوداست', 0.17064104974269867),\n",
              " ('گوشه', 0.17059841752052307),\n",
              " ('میانی', 0.1705913245677948),\n",
              " ('وثنی', 0.17042504251003265),\n",
              " ('کشیدیم', 0.17030958831310272),\n",
              " ('نزدیکم', 0.17030304670333862),\n",
              " ('فروزد', 0.17027151584625244),\n",
              " ('حیزم', 0.170271098613739),\n",
              " ('اگرم', 0.17024649679660797),\n",
              " ('مسکین', 0.17023101449012756),\n",
              " ('شحنه', 0.17017607390880585),\n",
              " ('خوشه', 0.17009656131267548),\n",
              " ('سخای', 0.1700669229030609),\n",
              " ('ستانیم', 0.17005418241024017),\n",
              " ('بیآن', 0.17001739144325256),\n",
              " ('ستی', 0.169761523604393),\n",
              " ('انجمنیم', 0.16972671449184418),\n",
              " ('سبکم', 0.16959638893604279),\n",
              " ('سوزش', 0.16955874860286713),\n",
              " ('نیر', 0.16935808956623077),\n",
              " ('بپرسیدم', 0.16930733621120453),\n",
              " ('کبابت', 0.16902220249176025),\n",
              " ('استخوانم', 0.1689966320991516),\n",
              " ('گلوپرستم', 0.16898290812969208),\n",
              " ('هوات', 0.1689434051513672),\n",
              " ('زیبی', 0.16887639462947845),\n",
              " ('صرفه', 0.16887342929840088),\n",
              " ('بالها', 0.16876140236854553),\n",
              " ('بیخودیم', 0.1687423437833786),\n",
              " ('قوت', 0.1686011403799057),\n",
              " ('ضیای', 0.1685047298669815),\n",
              " ('باک', 0.16848060488700867),\n",
              " ('بخشنده', 0.1683444231748581),\n",
              " ('بخت', 0.16834262013435364),\n",
              " ('قال', 0.16824854910373688),\n",
              " ('همچنانک', 0.16821938753128052),\n",
              " ('سارانشان', 0.1682051569223404),\n",
              " ('دنگ', 0.16819791495800018),\n",
              " ('اختیار', 0.16818580031394958),\n",
              " ('حواله', 0.16812512278556824),\n",
              " ('حوری', 0.1680605709552765),\n",
              " ('ابرویش', 0.1678156703710556),\n",
              " ('همیگوید', 0.16781501471996307),\n",
              " ('بجهند', 0.16778028011322021),\n",
              " ('خویت', 0.16771680116653442),\n",
              " ('هرگز', 0.1676768660545349),\n",
              " ('برخیزند', 0.1676674485206604),\n",
              " ('بند', 0.16765590012073517),\n",
              " ('بیارام', 0.16741520166397095),\n",
              " ('منجم', 0.1673290729522705),\n",
              " ('کندت', 0.16726189851760864),\n",
              " ('خوانیم', 0.16724233329296112),\n",
              " ('خوانده', 0.1672362983226776),\n",
              " ('دمار', 0.16722144186496735),\n",
              " ('تاخت', 0.16714607179164886),\n",
              " ('درست', 0.1670657992362976),\n",
              " ('نای', 0.16702665388584137),\n",
              " ('سبحانی', 0.16696304082870483),\n",
              " ('هاون', 0.1669512689113617),\n",
              " ('اصل', 0.1669425517320633),\n",
              " ('پرتویم', 0.16693882644176483),\n",
              " ('شهر', 0.16693571209907532),\n",
              " ('عظیم', 0.1669294536113739),\n",
              " ('زیرکتریم', 0.16691622138023376),\n",
              " ('درآویزیم', 0.1669059693813324),\n",
              " ('بدوز', 0.1668432056903839),\n",
              " ('مرد', 0.16683420538902283),\n",
              " ('عباس', 0.16660209000110626),\n",
              " ('جگریم', 0.1665954887866974),\n",
              " ('پایین', 0.1664630025625229),\n",
              " ('گوشمال', 0.16639050841331482),\n",
              " ('عروس', 0.16637639701366425),\n",
              " ('شکستند', 0.16634979844093323),\n",
              " ('کوی', 0.16634242236614227),\n",
              " ('بیخش', 0.16634167730808258),\n",
              " ('نمیشایی', 0.1662801057100296),\n",
              " ('سوتریم', 0.16625061631202698),\n",
              " ('چشمان', 0.16623830795288086),\n",
              " ('روگر', 0.16623573005199432),\n",
              " ('افتادن', 0.1662314534187317),\n",
              " ('بگیرانم', 0.16600464284420013),\n",
              " ('یکم', 0.16592544317245483),\n",
              " ('فرشتهست', 0.1659243106842041),\n",
              " ('نخسبد', 0.16587504744529724),\n",
              " ('بگفتیم', 0.16584743559360504),\n",
              " ('ساییده', 0.16581185162067413),\n",
              " ('شکیبد', 0.16562311351299286),\n",
              " ('ضمیر', 0.16557079553604126),\n",
              " ('دهلزنان', 0.16549886763095856),\n",
              " ('پنهانم', 0.16532884538173676),\n",
              " ('اندیشهام', 0.16532833874225616),\n",
              " ('بیذوقی', 0.1652642786502838),\n",
              " ('برپریدی', 0.16496460139751434),\n",
              " ('وعدههای', 0.1649492233991623),\n",
              " ('افسونگرست', 0.164871945977211),\n",
              " ('باباکنان', 0.16485853493213654),\n",
              " ('زهره', 0.16479751467704773),\n",
              " ('بینداید', 0.16479739546775818),\n",
              " ('نابدیدم', 0.16467514634132385),\n",
              " ('بیقرار', 0.16466373205184937),\n",
              " ('بامغزند', 0.16465088725090027),\n",
              " ('حلقم', 0.16463565826416016),\n",
              " ('مشعل', 0.16442659497261047),\n",
              " ('بیدلان', 0.16430097818374634),\n",
              " ('زندانم', 0.16428257524967194),\n",
              " ('نمیگویم', 0.16427356004714966),\n",
              " ('فتاد', 0.16426777839660645),\n",
              " ('دریغا', 0.16422705352306366),\n",
              " ('عشقا', 0.16421905159950256),\n",
              " ('همیگوییم', 0.16420826315879822),\n",
              " ('زبرین', 0.16410619020462036),\n",
              " ('نگران', 0.1640191376209259),\n",
              " ('گویمش', 0.16399647295475006),\n",
              " ('برگیرم', 0.16392925381660461),\n",
              " ('التماسی', 0.16387423872947693),\n",
              " ('بفریفتیم', 0.1638709306716919),\n",
              " ('ریسی', 0.1638205647468567),\n",
              " ('وصفت', 0.16381500661373138),\n",
              " ('دلربام', 0.16378988325595856),\n",
              " ('قطرهای', 0.16367071866989136),\n",
              " ('نقدی', 0.16348505020141602),\n",
              " ('راضییم', 0.16347607970237732),\n",
              " ('خوبانند', 0.16340555250644684),\n",
              " ('آینه', 0.1632673442363739),\n",
              " ('عذر', 0.16308839619159698),\n",
              " ('عشقم', 0.16308584809303284),\n",
              " ('خامی', 0.16300953924655914),\n",
              " ('اعتبارها', 0.16297222673892975),\n",
              " ('فریاد', 0.16295696794986725),\n",
              " ('عادت', 0.1628653109073639),\n",
              " ('دربانیم', 0.1627562940120697),\n",
              " ('نمازم', 0.1626371294260025),\n",
              " ...]"
            ]
          },
          "metadata": {},
          "execution_count": 32
        }
      ]
    },
    {
      "cell_type": "markdown",
      "source": [
        "20 neighbors of 10 random words"
      ],
      "metadata": {
        "id": "Yd-TBM8ABMyt"
      }
    },
    {
      "cell_type": "code",
      "source": [
        "import random\n",
        "for i in range(10):\n",
        "  random_word = random.choice(list(unique_word_dict.keys()))\n",
        "  neighbors = near_words(random_word)\n",
        "  print(neighbors[0:19])\n",
        "  if i != 9: print(\"NEXT WORD----------------------------\")"
      ],
      "metadata": {
        "id": "Qif_Q_WZBTD1"
      },
      "execution_count": null,
      "outputs": []
    }
  ],
  "metadata": {
    "kernelspec": {
      "display_name": "Python 3 (ipykernel)",
      "language": "python",
      "name": "python3"
    },
    "language_info": {
      "codemirror_mode": {
        "name": "ipython",
        "version": 3
      },
      "file_extension": ".py",
      "mimetype": "text/x-python",
      "name": "python",
      "nbconvert_exporter": "python",
      "pygments_lexer": "ipython3",
      "version": "3.10.2"
    },
    "colab": {
      "name": "exercise1.ipynb",
      "provenance": [],
      "collapsed_sections": [
        "nB3xn73zwaGT"
      ]
    }
  },
  "nbformat": 4,
  "nbformat_minor": 0
}